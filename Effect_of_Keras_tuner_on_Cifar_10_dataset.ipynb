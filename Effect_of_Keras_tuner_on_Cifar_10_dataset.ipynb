{
  "nbformat": 4,
  "nbformat_minor": 0,
  "metadata": {
    "colab": {
      "name": "Effect of Keras tuner on Cifar-10 dataset.ipynb",
      "provenance": [],
      "collapsed_sections": []
    },
    "kernelspec": {
      "name": "python3",
      "display_name": "Python 3"
    },
    "accelerator": "GPU"
  },
  "cells": [
    {
      "cell_type": "code",
      "metadata": {
        "id": "wTBbostMQWS3",
        "colab_type": "code",
        "colab": {
          "base_uri": "https://localhost:8080/",
          "height": 34
        },
        "outputId": "67c83764-61a2-4ff4-ddd4-234f3f952b0d"
      },
      "source": [
        "import os\n",
        "import tensorflow as tf\n",
        "import tensorflow_addons as tfa\n",
        "import numpy as np\n",
        "import pandas as pd\n",
        "import matplotlib.pyplot as plt\n",
        "from tensorflow import keras\n",
        "from keras.datasets import cifar10\n",
        "from keras.preprocessing.image import ImageDataGenerator\n",
        "from keras.regularizers import l2"
      ],
      "execution_count": 1,
      "outputs": [
        {
          "output_type": "stream",
          "text": [
            "Using TensorFlow backend.\n"
          ],
          "name": "stderr"
        }
      ]
    },
    {
      "cell_type": "code",
      "metadata": {
        "id": "RA-o8LxdDCX1",
        "colab_type": "code",
        "colab": {
          "base_uri": "https://localhost:8080/",
          "height": 50
        },
        "outputId": "2b5dc6f7-6718-43b5-cff9-f3ed6cc630da"
      },
      "source": [
        "(x_train, y_train), (x_test, y_test) = cifar10.load_data()\n",
        "x_train = x_train.astype(\"float32\") / 255.0\n",
        "x_test = x_test.astype(\"float32\") / 255.0\n",
        "# set up image augmentation\n",
        "datagen = ImageDataGenerator(rotation_range=15, horizontal_flip=True, width_shift_range=0.1, height_shift_range=0.1)\n",
        "datagen.fit(x_train)\n",
        "num_classes=10\n",
        "y_train = keras.utils.to_categorical(y_train, num_classes)\n",
        "y_test = keras.utils.to_categorical(y_test, num_classes)"
      ],
      "execution_count": 2,
      "outputs": [
        {
          "output_type": "stream",
          "text": [
            "Downloading data from https://www.cs.toronto.edu/~kriz/cifar-10-python.tar.gz\n",
            "170500096/170498071 [==============================] - 13s 0us/step\n"
          ],
          "name": "stdout"
        }
      ]
    },
    {
      "cell_type": "code",
      "metadata": {
        "id": "NZxn99lgDh5T",
        "colab_type": "code",
        "colab": {}
      },
      "source": [
        "def create_model():\n",
        "  \n",
        "  inputs = tf.keras.layers.Input(shape=(32,32,3), name='input')\n",
        "  x = tf.keras.layers.Conv2D(32, (3,3), activation='relu',strides=(1, 1), padding='same')(inputs)\n",
        "  x = tf.keras.layers.BatchNormalization(axis=-1)(x)\n",
        "  x = tf.keras.layers.Conv2D(32, (3,3), activation='relu',strides=(1, 1), padding='same')(x)\n",
        "  x = tf.keras.layers.BatchNormalization(axis=-1)(x)\n",
        "  x = tf.keras.layers.MaxPooling2D(pool_size=(2,2), strides=(1, 1))(x)    # reduces to 16x16x3xnum_filters\n",
        "\n",
        "  x = tf.keras.layers.Conv2D(64, (3,3), activation='relu',strides=(1, 1), padding='same')(x)\n",
        "  x = tf.keras.layers.BatchNormalization(axis=-1)(x)\n",
        "  x = tf.keras.layers.Conv2D(64, (3,3), activation='relu',strides=(1, 1), padding='same')(x)\n",
        "  x = tf.keras.layers.BatchNormalization(axis=-1)(x)\n",
        "  x = tf.keras.layers.MaxPooling2D(pool_size=(2,2), strides=(1, 1))(x)    # reduces to 8x8x3x(2*num_filters)\n",
        "\n",
        "  x = tf.keras.layers.Conv2D(128, (3,3), activation='relu', strides=(1, 1), padding='same')(x)\n",
        "  x = tf.keras.layers.BatchNormalization(axis=-1)(x)\n",
        "  x = tf.keras.layers.Conv2D(128, (3,3), activation='relu', strides=(1, 1), padding='same')(x)\n",
        "  x = tf.keras.layers.BatchNormalization(axis=-1)(x)\n",
        "  x = tf.keras.layers.MaxPooling2D(pool_size=(2,2), strides=(1,1))(x)    # reduces to 4x4x3x(4*num_filters)\n",
        "\n",
        "\n",
        "  x = tf.keras.layers.Flatten()(x)\n",
        "  x = tf.keras.layers.Dense(512, activation='relu')(x)\n",
        "  x = tf.keras.layers.BatchNormalization()(x)\n",
        "  x = tf.keras.layers.Dropout(0.5)(x)\n",
        "  outputs = tf.keras.layers.Dense(10, activation='softmax', name='outputs')(x)\n",
        "  model = tf.keras.Model(inputs=inputs, outputs=outputs)\n",
        "\n",
        "  return model"
      ],
      "execution_count": null,
      "outputs": []
    },
    {
      "cell_type": "code",
      "metadata": {
        "id": "kfEwu9OpQxUQ",
        "colab_type": "code",
        "colab": {
          "base_uri": "https://localhost:8080/",
          "height": 857
        },
        "outputId": "565355cf-1832-4f89-df3d-2d5adfee292c"
      },
      "source": [
        "model = create_model()\n",
        "opt = tf.keras.optimizers.Adam(lr=0.001,decay=0, beta_1=0.9, beta_2=0.999, epsilon=1e-08)\n",
        "model.compile(optimizer=opt, loss='categorical_crossentropy', metrics=['accuracy'])\n",
        "model.summary()"
      ],
      "execution_count": null,
      "outputs": [
        {
          "output_type": "stream",
          "text": [
            "Model: \"model_1\"\n",
            "_________________________________________________________________\n",
            "Layer (type)                 Output Shape              Param #   \n",
            "=================================================================\n",
            "input (InputLayer)           [(None, 32, 32, 3)]       0         \n",
            "_________________________________________________________________\n",
            "conv2d_6 (Conv2D)            (None, 32, 32, 32)        896       \n",
            "_________________________________________________________________\n",
            "batch_normalization_7 (Batch (None, 32, 32, 32)        128       \n",
            "_________________________________________________________________\n",
            "conv2d_7 (Conv2D)            (None, 32, 32, 32)        9248      \n",
            "_________________________________________________________________\n",
            "batch_normalization_8 (Batch (None, 32, 32, 32)        128       \n",
            "_________________________________________________________________\n",
            "max_pooling2d_3 (MaxPooling2 (None, 31, 31, 32)        0         \n",
            "_________________________________________________________________\n",
            "conv2d_8 (Conv2D)            (None, 31, 31, 64)        18496     \n",
            "_________________________________________________________________\n",
            "batch_normalization_9 (Batch (None, 31, 31, 64)        256       \n",
            "_________________________________________________________________\n",
            "conv2d_9 (Conv2D)            (None, 31, 31, 64)        36928     \n",
            "_________________________________________________________________\n",
            "batch_normalization_10 (Batc (None, 31, 31, 64)        256       \n",
            "_________________________________________________________________\n",
            "max_pooling2d_4 (MaxPooling2 (None, 30, 30, 64)        0         \n",
            "_________________________________________________________________\n",
            "conv2d_10 (Conv2D)           (None, 30, 30, 128)       73856     \n",
            "_________________________________________________________________\n",
            "batch_normalization_11 (Batc (None, 30, 30, 128)       512       \n",
            "_________________________________________________________________\n",
            "conv2d_11 (Conv2D)           (None, 30, 30, 128)       147584    \n",
            "_________________________________________________________________\n",
            "batch_normalization_12 (Batc (None, 30, 30, 128)       512       \n",
            "_________________________________________________________________\n",
            "max_pooling2d_5 (MaxPooling2 (None, 29, 29, 128)       0         \n",
            "_________________________________________________________________\n",
            "flatten_1 (Flatten)          (None, 107648)            0         \n",
            "_________________________________________________________________\n",
            "dense_1 (Dense)              (None, 512)               55116288  \n",
            "_________________________________________________________________\n",
            "batch_normalization_13 (Batc (None, 512)               2048      \n",
            "_________________________________________________________________\n",
            "dropout_1 (Dropout)          (None, 512)               0         \n",
            "_________________________________________________________________\n",
            "outputs (Dense)              (None, 10)                5130      \n",
            "=================================================================\n",
            "Total params: 55,412,266\n",
            "Trainable params: 55,410,346\n",
            "Non-trainable params: 1,920\n",
            "_________________________________________________________________\n"
          ],
          "name": "stdout"
        }
      ]
    },
    {
      "cell_type": "code",
      "metadata": {
        "id": "VrqffjWqRw9-",
        "colab_type": "code",
        "colab": {
          "base_uri": "https://localhost:8080/",
          "height": 1000
        },
        "outputId": "8136cc6a-8698-4d4d-cbe2-79a3d5e6546c"
      },
      "source": [
        "history=model.fit_generator(datagen.flow(x_train, y_train, batch_size=128),\n",
        "                    steps_per_epoch = len(x_train) / 128, epochs=100, validation_data=(x_test, y_test))"
      ],
      "execution_count": null,
      "outputs": [
        {
          "output_type": "stream",
          "text": [
            "Epoch 1/100\n",
            "391/390 [==============================] - 35s 90ms/step - loss: 1.6833 - accuracy: 0.4543 - val_loss: 2.3909 - val_accuracy: 0.2661\n",
            "Epoch 2/100\n",
            "391/390 [==============================] - 35s 88ms/step - loss: 1.1263 - accuracy: 0.6079 - val_loss: 0.8969 - val_accuracy: 0.6863\n",
            "Epoch 3/100\n",
            "391/390 [==============================] - 34s 87ms/step - loss: 0.9046 - accuracy: 0.6799 - val_loss: 0.8997 - val_accuracy: 0.6891\n",
            "Epoch 4/100\n",
            "391/390 [==============================] - 34s 87ms/step - loss: 0.8043 - accuracy: 0.7172 - val_loss: 0.8867 - val_accuracy: 0.7063\n",
            "Epoch 5/100\n",
            "391/390 [==============================] - 34s 87ms/step - loss: 0.7963 - accuracy: 0.7205 - val_loss: 0.9618 - val_accuracy: 0.6813\n",
            "Epoch 6/100\n",
            "391/390 [==============================] - 34s 87ms/step - loss: 0.7199 - accuracy: 0.7494 - val_loss: 0.8916 - val_accuracy: 0.7091\n",
            "Epoch 7/100\n",
            "391/390 [==============================] - 34s 87ms/step - loss: 0.6542 - accuracy: 0.7726 - val_loss: 0.6684 - val_accuracy: 0.7750\n",
            "Epoch 8/100\n",
            "391/390 [==============================] - 34s 86ms/step - loss: 0.6101 - accuracy: 0.7867 - val_loss: 0.8016 - val_accuracy: 0.7447\n",
            "Epoch 9/100\n",
            "391/390 [==============================] - 34s 87ms/step - loss: 0.5966 - accuracy: 0.7940 - val_loss: 0.6135 - val_accuracy: 0.7934\n",
            "Epoch 10/100\n",
            "391/390 [==============================] - 34s 87ms/step - loss: 0.5624 - accuracy: 0.8053 - val_loss: 0.8332 - val_accuracy: 0.7409\n",
            "Epoch 11/100\n",
            "391/390 [==============================] - 34s 87ms/step - loss: 0.5283 - accuracy: 0.8158 - val_loss: 0.6693 - val_accuracy: 0.7727\n",
            "Epoch 12/100\n",
            "391/390 [==============================] - 34s 87ms/step - loss: 0.5071 - accuracy: 0.8245 - val_loss: 0.6363 - val_accuracy: 0.7883\n",
            "Epoch 13/100\n",
            "391/390 [==============================] - 34s 87ms/step - loss: 0.4854 - accuracy: 0.8324 - val_loss: 0.5448 - val_accuracy: 0.8212\n",
            "Epoch 14/100\n",
            "391/390 [==============================] - 34s 86ms/step - loss: 0.4705 - accuracy: 0.8375 - val_loss: 0.6111 - val_accuracy: 0.8051\n",
            "Epoch 15/100\n",
            "391/390 [==============================] - 34s 87ms/step - loss: 0.4524 - accuracy: 0.8440 - val_loss: 0.5611 - val_accuracy: 0.8194\n",
            "Epoch 16/100\n",
            "391/390 [==============================] - 34s 87ms/step - loss: 0.4369 - accuracy: 0.8490 - val_loss: 0.4664 - val_accuracy: 0.8451\n",
            "Epoch 17/100\n",
            "391/390 [==============================] - 34s 87ms/step - loss: 0.4274 - accuracy: 0.8502 - val_loss: 0.4600 - val_accuracy: 0.8458\n",
            "Epoch 18/100\n",
            "391/390 [==============================] - 34s 86ms/step - loss: 0.4063 - accuracy: 0.8588 - val_loss: 0.4973 - val_accuracy: 0.8339\n",
            "Epoch 19/100\n",
            "391/390 [==============================] - 34s 87ms/step - loss: 0.3950 - accuracy: 0.8629 - val_loss: 0.4984 - val_accuracy: 0.8371\n",
            "Epoch 20/100\n",
            "391/390 [==============================] - 34s 87ms/step - loss: 0.3862 - accuracy: 0.8653 - val_loss: 0.4235 - val_accuracy: 0.8585\n",
            "Epoch 21/100\n",
            "391/390 [==============================] - 34s 87ms/step - loss: 0.3740 - accuracy: 0.8700 - val_loss: 0.5349 - val_accuracy: 0.8276\n",
            "Epoch 22/100\n",
            "391/390 [==============================] - 34s 87ms/step - loss: 0.3676 - accuracy: 0.8712 - val_loss: 0.4784 - val_accuracy: 0.8471\n",
            "Epoch 23/100\n",
            "391/390 [==============================] - 34s 87ms/step - loss: 0.3579 - accuracy: 0.8762 - val_loss: 0.4545 - val_accuracy: 0.8522\n",
            "Epoch 24/100\n",
            "391/390 [==============================] - 34s 87ms/step - loss: 0.3444 - accuracy: 0.8811 - val_loss: 0.5818 - val_accuracy: 0.8179\n",
            "Epoch 25/100\n",
            "391/390 [==============================] - 34s 87ms/step - loss: 0.3356 - accuracy: 0.8842 - val_loss: 0.4340 - val_accuracy: 0.8589\n",
            "Epoch 26/100\n",
            "391/390 [==============================] - 34s 87ms/step - loss: 0.3268 - accuracy: 0.8865 - val_loss: 0.4133 - val_accuracy: 0.8675\n",
            "Epoch 27/100\n",
            "391/390 [==============================] - 34s 86ms/step - loss: 0.3219 - accuracy: 0.8880 - val_loss: 0.4319 - val_accuracy: 0.8621\n",
            "Epoch 28/100\n",
            "391/390 [==============================] - 34s 87ms/step - loss: 0.3134 - accuracy: 0.8897 - val_loss: 0.4520 - val_accuracy: 0.8546\n",
            "Epoch 29/100\n",
            "391/390 [==============================] - 34s 87ms/step - loss: 0.3121 - accuracy: 0.8919 - val_loss: 0.4044 - val_accuracy: 0.8677\n",
            "Epoch 30/100\n",
            "391/390 [==============================] - 34s 86ms/step - loss: 0.2994 - accuracy: 0.8954 - val_loss: 0.4782 - val_accuracy: 0.8526\n",
            "Epoch 31/100\n",
            "391/390 [==============================] - 34s 87ms/step - loss: 0.2939 - accuracy: 0.8969 - val_loss: 0.4770 - val_accuracy: 0.8514\n",
            "Epoch 32/100\n",
            "391/390 [==============================] - 34s 87ms/step - loss: 0.2893 - accuracy: 0.8991 - val_loss: 0.5374 - val_accuracy: 0.8381\n",
            "Epoch 33/100\n",
            "391/390 [==============================] - 34s 87ms/step - loss: 0.2785 - accuracy: 0.9029 - val_loss: 0.4333 - val_accuracy: 0.8621\n",
            "Epoch 34/100\n",
            "391/390 [==============================] - 34s 86ms/step - loss: 0.2736 - accuracy: 0.9035 - val_loss: 0.4250 - val_accuracy: 0.8666\n",
            "Epoch 35/100\n",
            "391/390 [==============================] - 34s 87ms/step - loss: 0.2713 - accuracy: 0.9045 - val_loss: 0.3991 - val_accuracy: 0.8737\n",
            "Epoch 36/100\n",
            "391/390 [==============================] - 34s 87ms/step - loss: 0.2683 - accuracy: 0.9057 - val_loss: 0.4606 - val_accuracy: 0.8577\n",
            "Epoch 37/100\n",
            "391/390 [==============================] - 34s 87ms/step - loss: 0.2592 - accuracy: 0.9093 - val_loss: 0.4144 - val_accuracy: 0.8731\n",
            "Epoch 38/100\n",
            "391/390 [==============================] - 34s 87ms/step - loss: 0.2551 - accuracy: 0.9112 - val_loss: 0.4050 - val_accuracy: 0.8743\n",
            "Epoch 39/100\n",
            "391/390 [==============================] - 34s 87ms/step - loss: 0.2558 - accuracy: 0.9109 - val_loss: 0.4378 - val_accuracy: 0.8665\n",
            "Epoch 40/100\n",
            "391/390 [==============================] - 34s 87ms/step - loss: 0.2499 - accuracy: 0.9119 - val_loss: 0.4197 - val_accuracy: 0.8738\n",
            "Epoch 41/100\n",
            "391/390 [==============================] - 34s 87ms/step - loss: 0.2462 - accuracy: 0.9131 - val_loss: 0.4398 - val_accuracy: 0.8744\n",
            "Epoch 42/100\n",
            "391/390 [==============================] - 34s 86ms/step - loss: 0.2438 - accuracy: 0.9141 - val_loss: 0.4394 - val_accuracy: 0.8704\n",
            "Epoch 43/100\n",
            "391/390 [==============================] - 34s 87ms/step - loss: 0.2353 - accuracy: 0.9174 - val_loss: 0.3989 - val_accuracy: 0.8762\n",
            "Epoch 44/100\n",
            "391/390 [==============================] - 34s 87ms/step - loss: 0.2269 - accuracy: 0.9197 - val_loss: 0.4047 - val_accuracy: 0.8775\n",
            "Epoch 45/100\n",
            "391/390 [==============================] - 34s 87ms/step - loss: 0.2289 - accuracy: 0.9196 - val_loss: 0.3960 - val_accuracy: 0.8787\n",
            "Epoch 46/100\n",
            "391/390 [==============================] - 34s 87ms/step - loss: 0.2212 - accuracy: 0.9220 - val_loss: 0.4565 - val_accuracy: 0.8685\n",
            "Epoch 47/100\n",
            "391/390 [==============================] - 34s 87ms/step - loss: 0.2219 - accuracy: 0.9231 - val_loss: 0.4332 - val_accuracy: 0.8713\n",
            "Epoch 48/100\n",
            "391/390 [==============================] - 34s 86ms/step - loss: 0.2191 - accuracy: 0.9238 - val_loss: 0.4232 - val_accuracy: 0.8755\n",
            "Epoch 49/100\n",
            "391/390 [==============================] - 34s 86ms/step - loss: 0.2142 - accuracy: 0.9253 - val_loss: 0.4433 - val_accuracy: 0.8715\n",
            "Epoch 50/100\n",
            "391/390 [==============================] - 34s 86ms/step - loss: 0.2076 - accuracy: 0.9278 - val_loss: 0.3694 - val_accuracy: 0.8909\n",
            "Epoch 51/100\n",
            "391/390 [==============================] - 34s 87ms/step - loss: 0.2080 - accuracy: 0.9270 - val_loss: 0.4292 - val_accuracy: 0.8741\n",
            "Epoch 52/100\n",
            "391/390 [==============================] - 34s 87ms/step - loss: 0.2096 - accuracy: 0.9271 - val_loss: 0.3830 - val_accuracy: 0.8853\n",
            "Epoch 53/100\n",
            "391/390 [==============================] - 34s 87ms/step - loss: 0.2011 - accuracy: 0.9305 - val_loss: 0.3613 - val_accuracy: 0.8922\n",
            "Epoch 54/100\n",
            "391/390 [==============================] - 34s 86ms/step - loss: 0.1974 - accuracy: 0.9305 - val_loss: 0.4286 - val_accuracy: 0.8801\n",
            "Epoch 55/100\n",
            "391/390 [==============================] - 34s 87ms/step - loss: 0.1987 - accuracy: 0.9303 - val_loss: 0.4051 - val_accuracy: 0.8824\n",
            "Epoch 56/100\n",
            "391/390 [==============================] - 34s 87ms/step - loss: 0.1998 - accuracy: 0.9291 - val_loss: 0.4096 - val_accuracy: 0.8791\n",
            "Epoch 57/100\n",
            "391/390 [==============================] - 34s 86ms/step - loss: 0.1912 - accuracy: 0.9332 - val_loss: 0.3734 - val_accuracy: 0.8864\n",
            "Epoch 58/100\n",
            "391/390 [==============================] - 34s 86ms/step - loss: 0.1934 - accuracy: 0.9317 - val_loss: 0.3886 - val_accuracy: 0.8865\n",
            "Epoch 59/100\n",
            "391/390 [==============================] - 34s 87ms/step - loss: 0.1862 - accuracy: 0.9341 - val_loss: 0.3977 - val_accuracy: 0.8812\n",
            "Epoch 60/100\n",
            "391/390 [==============================] - 34s 87ms/step - loss: 0.1881 - accuracy: 0.9342 - val_loss: 0.4119 - val_accuracy: 0.8836\n",
            "Epoch 61/100\n",
            "391/390 [==============================] - 34s 86ms/step - loss: 0.1845 - accuracy: 0.9348 - val_loss: 0.4144 - val_accuracy: 0.8846\n",
            "Epoch 62/100\n",
            "391/390 [==============================] - 34s 87ms/step - loss: 0.1791 - accuracy: 0.9359 - val_loss: 0.4087 - val_accuracy: 0.8826\n",
            "Epoch 63/100\n",
            "391/390 [==============================] - 34s 86ms/step - loss: 0.1781 - accuracy: 0.9382 - val_loss: 0.3620 - val_accuracy: 0.8918\n",
            "Epoch 64/100\n",
            "391/390 [==============================] - 34s 86ms/step - loss: 0.1793 - accuracy: 0.9369 - val_loss: 0.3875 - val_accuracy: 0.8933\n",
            "Epoch 65/100\n",
            "391/390 [==============================] - 34s 87ms/step - loss: 0.1732 - accuracy: 0.9397 - val_loss: 0.3852 - val_accuracy: 0.8910\n",
            "Epoch 66/100\n",
            "391/390 [==============================] - 34s 87ms/step - loss: 0.1728 - accuracy: 0.9393 - val_loss: 0.4093 - val_accuracy: 0.8773\n",
            "Epoch 67/100\n",
            "391/390 [==============================] - 34s 87ms/step - loss: 0.1707 - accuracy: 0.9397 - val_loss: 0.3810 - val_accuracy: 0.8890\n",
            "Epoch 68/100\n",
            "391/390 [==============================] - 34s 86ms/step - loss: 0.1704 - accuracy: 0.9410 - val_loss: 0.4340 - val_accuracy: 0.8803\n",
            "Epoch 69/100\n",
            "391/390 [==============================] - 34s 87ms/step - loss: 0.1631 - accuracy: 0.9427 - val_loss: 0.3788 - val_accuracy: 0.8904\n",
            "Epoch 70/100\n",
            "391/390 [==============================] - 34s 86ms/step - loss: 0.1641 - accuracy: 0.9424 - val_loss: 0.3793 - val_accuracy: 0.8927\n",
            "Epoch 71/100\n",
            "391/390 [==============================] - 34s 87ms/step - loss: 0.1580 - accuracy: 0.9444 - val_loss: 0.4172 - val_accuracy: 0.8854\n",
            "Epoch 72/100\n",
            "391/390 [==============================] - 34s 86ms/step - loss: 0.1668 - accuracy: 0.9415 - val_loss: 0.3909 - val_accuracy: 0.8942\n",
            "Epoch 73/100\n",
            "391/390 [==============================] - 34s 86ms/step - loss: 0.1603 - accuracy: 0.9429 - val_loss: 0.4335 - val_accuracy: 0.8808\n",
            "Epoch 74/100\n",
            "391/390 [==============================] - 34s 87ms/step - loss: 0.1588 - accuracy: 0.9446 - val_loss: 0.4459 - val_accuracy: 0.8825\n",
            "Epoch 75/100\n",
            "391/390 [==============================] - 34s 86ms/step - loss: 0.1548 - accuracy: 0.9459 - val_loss: 0.4777 - val_accuracy: 0.8711\n",
            "Epoch 76/100\n",
            "391/390 [==============================] - 34s 86ms/step - loss: 0.1542 - accuracy: 0.9457 - val_loss: 0.4166 - val_accuracy: 0.8869\n",
            "Epoch 77/100\n",
            "391/390 [==============================] - 34s 86ms/step - loss: 0.1517 - accuracy: 0.9474 - val_loss: 0.3843 - val_accuracy: 0.8945\n",
            "Epoch 78/100\n",
            "391/390 [==============================] - 34s 86ms/step - loss: 0.1555 - accuracy: 0.9454 - val_loss: 0.4171 - val_accuracy: 0.8822\n",
            "Epoch 79/100\n",
            "391/390 [==============================] - 34s 86ms/step - loss: 0.1490 - accuracy: 0.9483 - val_loss: 0.4620 - val_accuracy: 0.8801\n",
            "Epoch 80/100\n",
            "391/390 [==============================] - 34s 87ms/step - loss: 0.1497 - accuracy: 0.9472 - val_loss: 0.4230 - val_accuracy: 0.8879\n",
            "Epoch 81/100\n",
            "391/390 [==============================] - 34s 87ms/step - loss: 0.1498 - accuracy: 0.9492 - val_loss: 0.3584 - val_accuracy: 0.8984\n",
            "Epoch 82/100\n",
            "391/390 [==============================] - 34s 86ms/step - loss: 0.1444 - accuracy: 0.9497 - val_loss: 0.4264 - val_accuracy: 0.8864\n",
            "Epoch 83/100\n",
            "391/390 [==============================] - 34s 87ms/step - loss: 0.1454 - accuracy: 0.9494 - val_loss: 0.4086 - val_accuracy: 0.8881\n",
            "Epoch 84/100\n",
            "391/390 [==============================] - 34s 86ms/step - loss: 0.1411 - accuracy: 0.9496 - val_loss: 0.3986 - val_accuracy: 0.8933\n",
            "Epoch 85/100\n",
            "391/390 [==============================] - 34s 87ms/step - loss: 0.1420 - accuracy: 0.9508 - val_loss: 0.4370 - val_accuracy: 0.8843\n",
            "Epoch 86/100\n",
            "391/390 [==============================] - 34s 87ms/step - loss: 0.1407 - accuracy: 0.9502 - val_loss: 0.4001 - val_accuracy: 0.8912\n",
            "Epoch 87/100\n",
            "391/390 [==============================] - 34s 86ms/step - loss: 0.1425 - accuracy: 0.9509 - val_loss: 0.4276 - val_accuracy: 0.8854\n",
            "Epoch 88/100\n",
            "391/390 [==============================] - 34s 87ms/step - loss: 0.1386 - accuracy: 0.9508 - val_loss: 0.4346 - val_accuracy: 0.8823\n",
            "Epoch 89/100\n",
            "391/390 [==============================] - 34s 87ms/step - loss: 0.1392 - accuracy: 0.9514 - val_loss: 0.4388 - val_accuracy: 0.8841\n",
            "Epoch 90/100\n",
            "391/390 [==============================] - 34s 87ms/step - loss: 0.1384 - accuracy: 0.9522 - val_loss: 0.3941 - val_accuracy: 0.8947\n",
            "Epoch 91/100\n",
            "391/390 [==============================] - 34s 86ms/step - loss: 0.1350 - accuracy: 0.9536 - val_loss: 0.4110 - val_accuracy: 0.8868\n",
            "Epoch 92/100\n",
            "391/390 [==============================] - 34s 87ms/step - loss: 0.1389 - accuracy: 0.9514 - val_loss: 0.4277 - val_accuracy: 0.8849\n",
            "Epoch 93/100\n",
            "391/390 [==============================] - 34s 86ms/step - loss: 0.1318 - accuracy: 0.9539 - val_loss: 0.3886 - val_accuracy: 0.8934\n",
            "Epoch 94/100\n",
            "391/390 [==============================] - 34s 86ms/step - loss: 0.1310 - accuracy: 0.9537 - val_loss: 0.4196 - val_accuracy: 0.8927\n",
            "Epoch 95/100\n",
            "391/390 [==============================] - 34s 86ms/step - loss: 0.1290 - accuracy: 0.9544 - val_loss: 0.3991 - val_accuracy: 0.8915\n",
            "Epoch 96/100\n",
            "391/390 [==============================] - 34s 86ms/step - loss: 0.1333 - accuracy: 0.9538 - val_loss: 0.4836 - val_accuracy: 0.8699\n",
            "Epoch 97/100\n",
            "391/390 [==============================] - 34s 86ms/step - loss: 0.1329 - accuracy: 0.9531 - val_loss: 0.4267 - val_accuracy: 0.8853\n",
            "Epoch 98/100\n",
            "391/390 [==============================] - 34s 86ms/step - loss: 0.1272 - accuracy: 0.9561 - val_loss: 0.4115 - val_accuracy: 0.8910\n",
            "Epoch 99/100\n",
            "391/390 [==============================] - 34s 86ms/step - loss: 0.1281 - accuracy: 0.9544 - val_loss: 0.3972 - val_accuracy: 0.8956\n",
            "Epoch 100/100\n",
            "391/390 [==============================] - 34s 86ms/step - loss: 0.1205 - accuracy: 0.9584 - val_loss: 0.4542 - val_accuracy: 0.8856\n"
          ],
          "name": "stdout"
        }
      ]
    },
    {
      "cell_type": "code",
      "metadata": {
        "id": "AwSgw7-ojMRB",
        "colab_type": "code",
        "colab": {
          "base_uri": "https://localhost:8080/",
          "height": 50
        },
        "outputId": "9bf6eae4-bf87-4611-df70-556995ae12ea"
      },
      "source": [
        "#training accuracy\n",
        "train_acc = model.evaluate(x_train,y_train,batch_size=128)\n",
        "train_acc"
      ],
      "execution_count": null,
      "outputs": [
        {
          "output_type": "stream",
          "text": [
            "391/391 [==============================] - 8s 21ms/step - loss: 0.0728 - accuracy: 0.9760\n"
          ],
          "name": "stdout"
        },
        {
          "output_type": "execute_result",
          "data": {
            "text/plain": [
              "[0.07283885031938553, 0.9759799838066101]"
            ]
          },
          "metadata": {
            "tags": []
          },
          "execution_count": 9
        }
      ]
    },
    {
      "cell_type": "code",
      "metadata": {
        "id": "FPJgVV5e49fS",
        "colab_type": "code",
        "colab": {
          "base_uri": "https://localhost:8080/",
          "height": 50
        },
        "outputId": "3c80f9a9-4668-4e14-9799-2509b1f0cd63"
      },
      "source": [
        "#test accuracy\n",
        "test_acc = model.evaluate(x_test,y_test,batch_size=128)\n",
        "test_acc"
      ],
      "execution_count": null,
      "outputs": [
        {
          "output_type": "stream",
          "text": [
            "79/79 [==============================] - 2s 20ms/step - loss: 0.4542 - accuracy: 0.8856\n"
          ],
          "name": "stdout"
        },
        {
          "output_type": "execute_result",
          "data": {
            "text/plain": [
              "[0.454222172498703, 0.8855999708175659]"
            ]
          },
          "metadata": {
            "tags": []
          },
          "execution_count": 10
        }
      ]
    },
    {
      "cell_type": "code",
      "metadata": {
        "id": "pzpebAqnJSFx",
        "colab_type": "code",
        "colab": {}
      },
      "source": [
        "def plothist(hist):\n",
        "    plt.plot(hist.history['accuracy'])\n",
        "    plt.plot(hist.history['val_accuracy'])\n",
        "    plt.title('model accuracy')\n",
        "    plt.ylabel('accuracy')\n",
        "    plt.xlabel('epoch')\n",
        "    plt.legend(['train', 'test'], loc='upper left')\n",
        "    plt.show()"
      ],
      "execution_count": 39,
      "outputs": []
    },
    {
      "cell_type": "code",
      "metadata": {
        "id": "D7MbAt6rvkzR",
        "colab_type": "code",
        "colab": {
          "base_uri": "https://localhost:8080/",
          "height": 295
        },
        "outputId": "3011953b-53dc-42c7-fb20-8fd8f469019a"
      },
      "source": [
        "plothist(history)\n",
        "# before val_acc was 0.8927\n",
        "# strides on maxpooling was giving 0.8973\n",
        "# strides on conv2d was giving 0.9003"
      ],
      "execution_count": null,
      "outputs": [
        {
          "output_type": "display_data",
          "data": {
            "image/png": "[encoded data removed]",
            "text/plain": [
              "<Figure size 432x288 with 1 Axes>"
            ]
          },
          "metadata": {
            "tags": [],
            "needs_background": "light"
          }
        }
      ]
    },
    {
      "cell_type": "markdown",
      "metadata": {
        "id": "eAlBI7wFh3t2",
        "colab_type": "text"
      },
      "source": [
        "Now lets build model for kerastuner and from that obtain best params and train the model"
      ]
    },
    {
      "cell_type": "code",
      "metadata": {
        "id": "MtAeZSyjBN_7",
        "colab_type": "code",
        "colab": {
          "base_uri": "https://localhost:8080/",
          "height": 504
        },
        "outputId": "37ab6dc5-7da8-49a2-d513-629c325b8046"
      },
      "source": [
        "pip install -U keras-tuner"
      ],
      "execution_count": 3,
      "outputs": [
        {
          "output_type": "stream",
          "text": [
            "Collecting keras-tuner\n",
            "\u001b[?25l  Downloading https://files.pythonhosted.org/packages/a7/f7/4b41b6832abf4c9bef71a664dc563adb25afc5812831667c6db572b1a261/keras-tuner-1.0.1.tar.gz (54kB)\n",
            "\r\u001b[K     |██████                          | 10kB 23.4MB/s eta 0:00:01\r\u001b[K     |████████████                    | 20kB 27.8MB/s eta 0:00:01\r\u001b[K     |██████████████████              | 30kB 18.6MB/s eta 0:00:01\r\u001b[K     |████████████████████████        | 40kB 20.2MB/s eta 0:00:01\r\u001b[K     |██████████████████████████████  | 51kB 15.2MB/s eta 0:00:01\r\u001b[K     |████████████████████████████████| 61kB 6.4MB/s \n",
            "\u001b[?25hRequirement already satisfied, skipping upgrade: future in /usr/local/lib/python3.6/dist-packages (from keras-tuner) (0.16.0)\n",
            "Requirement already satisfied, skipping upgrade: numpy in /usr/local/lib/python3.6/dist-packages (from keras-tuner) (1.18.5)\n",
            "Requirement already satisfied, skipping upgrade: tabulate in /usr/local/lib/python3.6/dist-packages (from keras-tuner) (0.8.7)\n",
            "Collecting terminaltables\n",
            "  Downloading https://files.pythonhosted.org/packages/9b/c4/4a21174f32f8a7e1104798c445dacdc1d4df86f2f26722767034e4de4bff/terminaltables-3.1.0.tar.gz\n",
            "Collecting colorama\n",
            "  Downloading https://files.pythonhosted.org/packages/c9/dc/45cdef1b4d119eb96316b3117e6d5708a08029992b2fee2c143c7a0a5cc5/colorama-0.4.3-py2.py3-none-any.whl\n",
            "Requirement already satisfied, skipping upgrade: tqdm in /usr/local/lib/python3.6/dist-packages (from keras-tuner) (4.41.1)\n",
            "Requirement already satisfied, skipping upgrade: requests in /usr/local/lib/python3.6/dist-packages (from keras-tuner) (2.23.0)\n",
            "Requirement already satisfied, skipping upgrade: scipy in /usr/local/lib/python3.6/dist-packages (from keras-tuner) (1.4.1)\n",
            "Requirement already satisfied, skipping upgrade: scikit-learn in /usr/local/lib/python3.6/dist-packages (from keras-tuner) (0.22.2.post1)\n",
            "Requirement already satisfied, skipping upgrade: chardet<4,>=3.0.2 in /usr/local/lib/python3.6/dist-packages (from requests->keras-tuner) (3.0.4)\n",
            "Requirement already satisfied, skipping upgrade: certifi>=2017.4.17 in /usr/local/lib/python3.6/dist-packages (from requests->keras-tuner) (2020.6.20)\n",
            "Requirement already satisfied, skipping upgrade: idna<3,>=2.5 in /usr/local/lib/python3.6/dist-packages (from requests->keras-tuner) (2.10)\n",
            "Requirement already satisfied, skipping upgrade: urllib3!=1.25.0,!=1.25.1,<1.26,>=1.21.1 in /usr/local/lib/python3.6/dist-packages (from requests->keras-tuner) (1.24.3)\n",
            "Requirement already satisfied, skipping upgrade: joblib>=0.11 in /usr/local/lib/python3.6/dist-packages (from scikit-learn->keras-tuner) (0.16.0)\n",
            "Building wheels for collected packages: keras-tuner, terminaltables\n",
            "  Building wheel for keras-tuner (setup.py) ... \u001b[?25l\u001b[?25hdone\n",
            "  Created wheel for keras-tuner: filename=keras_tuner-1.0.1-cp36-none-any.whl size=73200 sha256=2b6321ada82d4786b423cd3235f687a02ef590d3e4fba07925874afc31f285af\n",
            "  Stored in directory: /root/.cache/pip/wheels/b9/cc/62/52716b70dd90f3db12519233c3a93a5360bc672da1a10ded43\n",
            "  Building wheel for terminaltables (setup.py) ... \u001b[?25l\u001b[?25hdone\n",
            "  Created wheel for terminaltables: filename=terminaltables-3.1.0-cp36-none-any.whl size=15356 sha256=8a84809ed9ddd82d486b0bda6c31e4cdf46752554a3d09de2b7d69835bb63b33\n",
            "  Stored in directory: /root/.cache/pip/wheels/30/6b/50/6c75775b681fb36cdfac7f19799888ef9d8813aff9e379663e\n",
            "Successfully built keras-tuner terminaltables\n",
            "Installing collected packages: terminaltables, colorama, keras-tuner\n",
            "Successfully installed colorama-0.4.3 keras-tuner-1.0.1 terminaltables-3.1.0\n"
          ],
          "name": "stdout"
        }
      ]
    },
    {
      "cell_type": "code",
      "metadata": {
        "id": "fmu_Gg2Tvv1S",
        "colab_type": "code",
        "colab": {}
      },
      "source": [
        "from kerastuner import HyperModel\n",
        "\n",
        "class CNNHyperModel(HyperModel):\n",
        "    def __init__(self, input_shape, num_classes):\n",
        "        self.input_shape = input_shape\n",
        "        self.num_classes = num_classes\n",
        "\n",
        "    def build(self, hp):\n",
        "\n",
        "      inputs = tf.keras.layers.Input(shape=(32,32,3), name='input')\n",
        "      x = tf.keras.layers.Conv2D(32, (3,3), activation='relu',strides=(1, 1), padding='same')(inputs)\n",
        "      x = tf.keras.layers.BatchNormalization(axis=-1)(x)\n",
        "      x = tf.keras.layers.Conv2D(32, (3,3), activation='relu',strides=(1, 1), padding='same')(x)\n",
        "      x = tf.keras.layers.BatchNormalization(axis=-1)(x)\n",
        "      x = tf.keras.layers.MaxPooling2D(pool_size=(2,2), strides=(1,1))(x)\n",
        "      x = tf.keras.layers.Dropout(0.25)(x)\n",
        "\n",
        "      x = tf.keras.layers.Conv2D(64, (3,3), activation='relu',strides=(1, 1), padding='same')(x)\n",
        "      x = tf.keras.layers.BatchNormalization(axis=-1)(x)\n",
        "      x = tf.keras.layers.Conv2D(64, (3,3), activation='relu',strides=(1, 1), padding='same')(x)\n",
        "      x = tf.keras.layers.BatchNormalization(axis=-1)(x)\n",
        "      x = tf.keras.layers.MaxPooling2D(pool_size=(2,2), strides=(1,1))(x) \n",
        "      x = tf.keras.layers.Dropout(0.25)(x)\n",
        "\n",
        "\n",
        "      x =  tf.keras.layers.Conv2D(hp.Choice('num_filters', values=[128,162], default=128), (3,3),\n",
        "                                  activation=hp.Choice('cnn_activation', values=['relu', 'tanh'], default='relu'),\n",
        "                                  padding=hp.Choice('padding', values=['same', 'valid'], default='same'))(x)\n",
        "      x = tf.keras.layers.BatchNormalization(axis=-1)(x)\n",
        "      x = tf.keras.layers.Conv2D(hp.Choice('num_filters', values=[128,162], default=128), (3,3),\n",
        "                                  activation=hp.Choice('cnn_activation', values=['relu', 'tanh'], default='relu'),\n",
        "                                  padding=hp.Choice('padding', values=['same', 'valid'], default='same'))(x)\n",
        "      x = tf.keras.layers.BatchNormalization(axis=-1)(x)\n",
        "      x = tf.keras.layers.MaxPooling2D(pool_size=(2,2))(x)\n",
        "      x = tf.keras.layers.Dropout(0.25)(x)\n",
        "\n",
        "\n",
        "      x = tf.keras.layers.Flatten()(x)\n",
        "      x = tf.keras.layers.Dense(units=hp.Int('units', min_value=128, max_value=512, step=32, default=512), \n",
        "                                activation=hp.Choice('dense_activation', values=['relu', 'tanh', 'sigmoid'], default='relu'))(x)\n",
        "      x = tf.keras.layers.BatchNormalization()(x)\n",
        "      x = tf.keras.layers.Dropout(rate=hp.Float('dropout_1', min_value=0.0, max_value=0.5, step=0.05, default=0.5))(x)\n",
        "      outputs = tf.keras.layers.Dense(10, activation='softmax', name='outputs')(x)\n",
        "      model = tf.keras.Model(inputs, outputs)\n",
        "\n",
        "      model.compile(optimizer=tf.keras.optimizers.Adam(hp.Float('learning_rate', min_value=0.00001, max_value=0.001, sampling='LOG', default=0.0001), decay=0, beta_1=0.9, beta_2=0.999, epsilon=1e-08), \n",
        "                    loss='categorical_crossentropy', metrics=['accuracy'])\n",
        "      return model"
      ],
      "execution_count": 4,
      "outputs": []
    },
    {
      "cell_type": "code",
      "metadata": {
        "id": "bP7SwqU0Lxg1",
        "colab_type": "code",
        "colab": {}
      },
      "source": [
        "from kerastuner.tuners import (BayesianOptimization, Hyperband, RandomSearch)\n",
        "import time\n",
        "seed=1\n",
        "Max_trials = 2\n",
        "Execution_per_trials = 2\n",
        "Bayesian_num_initial_points = 1\n",
        "\n",
        "def tuners(hpmodel, directory, project_name):\n",
        "  random_tuner = RandomSearch(hpmodel, objective='val_accuracy', seed=seed, max_trials=Max_trials, executions_per_trial=Execution_per_trials,\n",
        "                              directory=f\"{directory}_randomsearch\", project_name=project_name)\n",
        "  \n",
        "  hyperband_tuner = Hyperband(hpmodel, max_epochs=10, objective='val_accuracy', seed=seed, executions_per_trial=Execution_per_trials,\n",
        "                              directory=f\"{directory}_hyperband_tuner\", project_name=project_name)\n",
        "  \n",
        "  bayesian_tuner = BayesianOptimization(hpmodel, objective='val_accuracy', seed=seed, num_initial_points=Bayesian_num_initial_points, \n",
        "                                        max_trials=Max_trials, directory=f\"{directory}_bayesian\", project_name=project_name)\n",
        "  \n",
        "  return [random_tuner, hyperband_tuner, bayesian_tuner]\n",
        "\n",
        "\n",
        "\n",
        "def tuner_evalution(tuner, x_test, x_train, y_test, y_train):\n",
        "  # overview of task\n",
        "  tuner.search_space_summary()\n",
        "  # perform the hyperparameter tuning\n",
        "  print('start tuning')\n",
        "  search_start = time.time()\n",
        "  tuner.search(x_train, y_train, epochs=10, validation_data=(x_test, y_test))\n",
        "  search_end = time.time()\n",
        "  elapsed_time = search_start - search_end\n",
        "\n",
        "  # show the summary of the search\n",
        "  tuner.results_summary()\n",
        "\n",
        "  # the best model\n",
        "  best_model = tuner.get_best_models(num_models=1)[0]\n",
        "\n",
        "  # evaluate the best model\n",
        "  loss, accuracy = best_model.evaluate(x_test, y_test)\n",
        "  return elapsed_time, loss, accuracy\n"
      ],
      "execution_count": 33,
      "outputs": []
    },
    {
      "cell_type": "markdown",
      "metadata": {
        "id": "ISvEw1uZiHlQ",
        "colab_type": "text"
      },
      "source": [
        "Here we had taken all the tuner and ofcourse it is timetaking so only use that tuner which suits best in your problem"
      ]
    },
    {
      "cell_type": "code",
      "metadata": {
        "id": "ME9TJ9Es2pS8",
        "colab_type": "code",
        "colab": {
          "base_uri": "https://localhost:8080/",
          "height": 1000
        },
        "outputId": "d8fd1f4d-73b7-401f-ef9e-b523fa30c16b"
      },
      "source": [
        "hypermodel = CNNHyperModel(input_shape=(32,32,3), num_classes=10)\n",
        "\n",
        "output_dir = (\"/content/drive/My Drive/Cifar-10\")\n",
        "tuners = tuners(hypermodel, directory=output_dir, project_name=\"simple_cnn_tuning\")\n",
        "\n",
        "results = []\n",
        "for tuner in tuners:\n",
        "    elapsed_time, loss, accuracy = tuner_evalution(tuner, x_test, x_train, y_test, y_train)\n",
        "\n",
        "    print(f\"Elapsed time = {elapsed_time:10.4f} s, accuracy = {accuracy}, loss = {loss}\")\n",
        "\n",
        "    results.append([elapsed_time, loss, accuracy])\n",
        "print(results)"
      ],
      "execution_count": 6,
      "outputs": [
        {
          "output_type": "stream",
          "text": [
            "INFO:tensorflow:Reloading Oracle from existing project /content/drive/My Drive/Cifar-10_randomsearch/simple_cnn_tuning/oracle.json\n",
            "INFO:tensorflow:Reloading Tuner from /content/drive/My Drive/Cifar-10_randomsearch/simple_cnn_tuning/tuner0.json\n",
            "INFO:tensorflow:Reloading Oracle from existing project /content/drive/My Drive/Cifar-10_hyperband_tuner/simple_cnn_tuning/oracle.json\n",
            "INFO:tensorflow:Reloading Tuner from /content/drive/My Drive/Cifar-10_hyperband_tuner/simple_cnn_tuning/tuner0.json\n"
          ],
          "name": "stdout"
        },
        {
          "output_type": "display_data",
          "data": {
            "text/html": [
              "<span style=\"color:#4527A0\"><h1 style=\"font-size:18px\">Search space summary</h1></span>"
            ],
            "text/plain": [
              "<IPython.core.display.HTML object>"
            ]
          },
          "metadata": {
            "tags": []
          }
        },
        {
          "output_type": "display_data",
          "data": {
            "text/html": [
              "<span style=\"color:cyan\"> |-Default search space size: 7</span>"
            ],
            "text/plain": [
              "<IPython.core.display.HTML object>"
            ]
          },
          "metadata": {
            "tags": []
          }
        },
        {
          "output_type": "display_data",
          "data": {
            "text/html": [
              "<span style=\"color:#7E57C2\"><h2 style=\"font-size:16px\">num_filters (Choice)</h2></span>"
            ],
            "text/plain": [
              "<IPython.core.display.HTML object>"
            ]
          },
          "metadata": {
            "tags": []
          }
        },
        {
          "output_type": "display_data",
          "data": {
            "text/html": [
              "<span style=\"color:cyan\"> |-default: 32</span>"
            ],
            "text/plain": [
              "<IPython.core.display.HTML object>"
            ]
          },
          "metadata": {
            "tags": []
          }
        },
        {
          "output_type": "display_data",
          "data": {
            "text/html": [
              "<span style=\"color:blue\"> |-ordered: True</span>"
            ],
            "text/plain": [
              "<IPython.core.display.HTML object>"
            ]
          },
          "metadata": {
            "tags": []
          }
        },
        {
          "output_type": "display_data",
          "data": {
            "text/html": [
              "<span style=\"color:cyan\"> |-values: [32, 64]</span>"
            ],
            "text/plain": [
              "<IPython.core.display.HTML object>"
            ]
          },
          "metadata": {
            "tags": []
          }
        },
        {
          "output_type": "display_data",
          "data": {
            "text/html": [
              "<span style=\"color:#7E57C2\"><h2 style=\"font-size:16px\">cnn_activation (Choice)</h2></span>"
            ],
            "text/plain": [
              "<IPython.core.display.HTML object>"
            ]
          },
          "metadata": {
            "tags": []
          }
        },
        {
          "output_type": "display_data",
          "data": {
            "text/html": [
              "<span style=\"color:cyan\"> |-default: relu</span>"
            ],
            "text/plain": [
              "<IPython.core.display.HTML object>"
            ]
          },
          "metadata": {
            "tags": []
          }
        },
        {
          "output_type": "display_data",
          "data": {
            "text/html": [
              "<span style=\"color:blue\"> |-ordered: False</span>"
            ],
            "text/plain": [
              "<IPython.core.display.HTML object>"
            ]
          },
          "metadata": {
            "tags": []
          }
        },
        {
          "output_type": "display_data",
          "data": {
            "text/html": [
              "<span style=\"color:cyan\"> |-values: ['relu', 'tanh']</span>"
            ],
            "text/plain": [
              "<IPython.core.display.HTML object>"
            ]
          },
          "metadata": {
            "tags": []
          }
        },
        {
          "output_type": "display_data",
          "data": {
            "text/html": [
              "<span style=\"color:#7E57C2\"><h2 style=\"font-size:16px\">padding (Choice)</h2></span>"
            ],
            "text/plain": [
              "<IPython.core.display.HTML object>"
            ]
          },
          "metadata": {
            "tags": []
          }
        },
        {
          "output_type": "display_data",
          "data": {
            "text/html": [
              "<span style=\"color:cyan\"> |-default: same</span>"
            ],
            "text/plain": [
              "<IPython.core.display.HTML object>"
            ]
          },
          "metadata": {
            "tags": []
          }
        },
        {
          "output_type": "display_data",
          "data": {
            "text/html": [
              "<span style=\"color:blue\"> |-ordered: False</span>"
            ],
            "text/plain": [
              "<IPython.core.display.HTML object>"
            ]
          },
          "metadata": {
            "tags": []
          }
        },
        {
          "output_type": "display_data",
          "data": {
            "text/html": [
              "<span style=\"color:cyan\"> |-values: ['same', 'valid']</span>"
            ],
            "text/plain": [
              "<IPython.core.display.HTML object>"
            ]
          },
          "metadata": {
            "tags": []
          }
        },
        {
          "output_type": "display_data",
          "data": {
            "text/html": [
              "<span style=\"color:#7E57C2\"><h2 style=\"font-size:16px\">units (Int)</h2></span>"
            ],
            "text/plain": [
              "<IPython.core.display.HTML object>"
            ]
          },
          "metadata": {
            "tags": []
          }
        },
        {
          "output_type": "display_data",
          "data": {
            "text/html": [
              "<span style=\"color:cyan\"> |-default: 512</span>"
            ],
            "text/plain": [
              "<IPython.core.display.HTML object>"
            ]
          },
          "metadata": {
            "tags": []
          }
        },
        {
          "output_type": "display_data",
          "data": {
            "text/html": [
              "<span style=\"color:blue\"> |-max_value: 512</span>"
            ],
            "text/plain": [
              "<IPython.core.display.HTML object>"
            ]
          },
          "metadata": {
            "tags": []
          }
        },
        {
          "output_type": "display_data",
          "data": {
            "text/html": [
              "<span style=\"color:cyan\"> |-min_value: 32</span>"
            ],
            "text/plain": [
              "<IPython.core.display.HTML object>"
            ]
          },
          "metadata": {
            "tags": []
          }
        },
        {
          "output_type": "display_data",
          "data": {
            "text/html": [
              "<span style=\"color:blue\"> |-sampling: None</span>"
            ],
            "text/plain": [
              "<IPython.core.display.HTML object>"
            ]
          },
          "metadata": {
            "tags": []
          }
        },
        {
          "output_type": "display_data",
          "data": {
            "text/html": [
              "<span style=\"color:cyan\"> |-step: 32</span>"
            ],
            "text/plain": [
              "<IPython.core.display.HTML object>"
            ]
          },
          "metadata": {
            "tags": []
          }
        },
        {
          "output_type": "display_data",
          "data": {
            "text/html": [
              "<span style=\"color:#7E57C2\"><h2 style=\"font-size:16px\">dense_activation (Choice)</h2></span>"
            ],
            "text/plain": [
              "<IPython.core.display.HTML object>"
            ]
          },
          "metadata": {
            "tags": []
          }
        },
        {
          "output_type": "display_data",
          "data": {
            "text/html": [
              "<span style=\"color:cyan\"> |-default: relu</span>"
            ],
            "text/plain": [
              "<IPython.core.display.HTML object>"
            ]
          },
          "metadata": {
            "tags": []
          }
        },
        {
          "output_type": "display_data",
          "data": {
            "text/html": [
              "<span style=\"color:blue\"> |-ordered: False</span>"
            ],
            "text/plain": [
              "<IPython.core.display.HTML object>"
            ]
          },
          "metadata": {
            "tags": []
          }
        },
        {
          "output_type": "display_data",
          "data": {
            "text/html": [
              "<span style=\"color:cyan\"> |-values: ['relu', 'tanh', 'sigmoid']</span>"
            ],
            "text/plain": [
              "<IPython.core.display.HTML object>"
            ]
          },
          "metadata": {
            "tags": []
          }
        },
        {
          "output_type": "display_data",
          "data": {
            "text/html": [
              "<span style=\"color:#7E57C2\"><h2 style=\"font-size:16px\">dropout_1 (Float)</h2></span>"
            ],
            "text/plain": [
              "<IPython.core.display.HTML object>"
            ]
          },
          "metadata": {
            "tags": []
          }
        },
        {
          "output_type": "display_data",
          "data": {
            "text/html": [
              "<span style=\"color:cyan\"> |-default: 0.5</span>"
            ],
            "text/plain": [
              "<IPython.core.display.HTML object>"
            ]
          },
          "metadata": {
            "tags": []
          }
        },
        {
          "output_type": "display_data",
          "data": {
            "text/html": [
              "<span style=\"color:blue\"> |-max_value: 0.5</span>"
            ],
            "text/plain": [
              "<IPython.core.display.HTML object>"
            ]
          },
          "metadata": {
            "tags": []
          }
        },
        {
          "output_type": "display_data",
          "data": {
            "text/html": [
              "<span style=\"color:cyan\"> |-min_value: 0.0</span>"
            ],
            "text/plain": [
              "<IPython.core.display.HTML object>"
            ]
          },
          "metadata": {
            "tags": []
          }
        },
        {
          "output_type": "display_data",
          "data": {
            "text/html": [
              "<span style=\"color:blue\"> |-sampling: None</span>"
            ],
            "text/plain": [
              "<IPython.core.display.HTML object>"
            ]
          },
          "metadata": {
            "tags": []
          }
        },
        {
          "output_type": "display_data",
          "data": {
            "text/html": [
              "<span style=\"color:cyan\"> |-step: 0.05</span>"
            ],
            "text/plain": [
              "<IPython.core.display.HTML object>"
            ]
          },
          "metadata": {
            "tags": []
          }
        },
        {
          "output_type": "display_data",
          "data": {
            "text/html": [
              "<span style=\"color:#7E57C2\"><h2 style=\"font-size:16px\">learning_rate (Float)</h2></span>"
            ],
            "text/plain": [
              "<IPython.core.display.HTML object>"
            ]
          },
          "metadata": {
            "tags": []
          }
        },
        {
          "output_type": "display_data",
          "data": {
            "text/html": [
              "<span style=\"color:cyan\"> |-default: 0.0001</span>"
            ],
            "text/plain": [
              "<IPython.core.display.HTML object>"
            ]
          },
          "metadata": {
            "tags": []
          }
        },
        {
          "output_type": "display_data",
          "data": {
            "text/html": [
              "<span style=\"color:blue\"> |-max_value: 0.001</span>"
            ],
            "text/plain": [
              "<IPython.core.display.HTML object>"
            ]
          },
          "metadata": {
            "tags": []
          }
        },
        {
          "output_type": "display_data",
          "data": {
            "text/html": [
              "<span style=\"color:cyan\"> |-min_value: 1e-05</span>"
            ],
            "text/plain": [
              "<IPython.core.display.HTML object>"
            ]
          },
          "metadata": {
            "tags": []
          }
        },
        {
          "output_type": "display_data",
          "data": {
            "text/html": [
              "<span style=\"color:blue\"> |-sampling: log</span>"
            ],
            "text/plain": [
              "<IPython.core.display.HTML object>"
            ]
          },
          "metadata": {
            "tags": []
          }
        },
        {
          "output_type": "display_data",
          "data": {
            "text/html": [
              "<span style=\"color:cyan\"> |-step: None</span>"
            ],
            "text/plain": [
              "<IPython.core.display.HTML object>"
            ]
          },
          "metadata": {
            "tags": []
          }
        },
        {
          "output_type": "stream",
          "text": [
            "start tuning\n",
            "INFO:tensorflow:Oracle triggered exit\n"
          ],
          "name": "stdout"
        },
        {
          "output_type": "display_data",
          "data": {
            "text/html": [
              "<span style=\"color:#4527A0\"><h1 style=\"font-size:18px\">Results summary</h1></span>"
            ],
            "text/plain": [
              "<IPython.core.display.HTML object>"
            ]
          },
          "metadata": {
            "tags": []
          }
        },
        {
          "output_type": "display_data",
          "data": {
            "text/html": [
              "<span style=\"color:cyan\"> |-Results in /content/drive/My Drive/Cifar-10_randomsearch/simple_cnn_tuning</span>"
            ],
            "text/plain": [
              "<IPython.core.display.HTML object>"
            ]
          },
          "metadata": {
            "tags": []
          }
        },
        {
          "output_type": "display_data",
          "data": {
            "text/html": [
              "<span style=\"color:cyan\"> |-Showing 10 best trials</span>"
            ],
            "text/plain": [
              "<IPython.core.display.HTML object>"
            ]
          },
          "metadata": {
            "tags": []
          }
        },
        {
          "output_type": "display_data",
          "data": {
            "text/html": [
              "<span style=\"color:cyan\"> |-Objective(name='val_accuracy', direction='max')</span>"
            ],
            "text/plain": [
              "<IPython.core.display.HTML object>"
            ]
          },
          "metadata": {
            "tags": []
          }
        },
        {
          "output_type": "display_data",
          "data": {
            "text/html": [
              "<span style=\"color:#4527A0\"><h1 style=\"font-size:18px\">Trial summary</h1></span>"
            ],
            "text/plain": [
              "<IPython.core.display.HTML object>"
            ]
          },
          "metadata": {
            "tags": []
          }
        },
        {
          "output_type": "display_data",
          "data": {
            "text/html": [
              "<span style=\"color:cyan\"> |-Trial ID: 5341635e5fab800ba17461dde0daa467</span>"
            ],
            "text/plain": [
              "<IPython.core.display.HTML object>"
            ]
          },
          "metadata": {
            "tags": []
          }
        },
        {
          "output_type": "display_data",
          "data": {
            "text/html": [
              "<span style=\"color:cyan\"> |-Score: 0.7892249971628189</span>"
            ],
            "text/plain": [
              "<IPython.core.display.HTML object>"
            ]
          },
          "metadata": {
            "tags": []
          }
        },
        {
          "output_type": "display_data",
          "data": {
            "text/html": [
              "<span style=\"color:cyan\"> |-Best step: 0</span>"
            ],
            "text/plain": [
              "<IPython.core.display.HTML object>"
            ]
          },
          "metadata": {
            "tags": []
          }
        },
        {
          "output_type": "display_data",
          "data": {
            "text/html": [
              "<span style=\"color:#7E57C2\"><h2 style=\"font-size:16px\">Hyperparameters:</h2></span>"
            ],
            "text/plain": [
              "<IPython.core.display.HTML object>"
            ]
          },
          "metadata": {
            "tags": []
          }
        },
        {
          "output_type": "display_data",
          "data": {
            "text/html": [
              "<span style=\"color:cyan\"> |-cnn_activation: relu</span>"
            ],
            "text/plain": [
              "<IPython.core.display.HTML object>"
            ]
          },
          "metadata": {
            "tags": []
          }
        },
        {
          "output_type": "display_data",
          "data": {
            "text/html": [
              "<span style=\"color:blue\"> |-dense_activation: sigmoid</span>"
            ],
            "text/plain": [
              "<IPython.core.display.HTML object>"
            ]
          },
          "metadata": {
            "tags": []
          }
        },
        {
          "output_type": "display_data",
          "data": {
            "text/html": [
              "<span style=\"color:cyan\"> |-dropout_1: 0.4</span>"
            ],
            "text/plain": [
              "<IPython.core.display.HTML object>"
            ]
          },
          "metadata": {
            "tags": []
          }
        },
        {
          "output_type": "display_data",
          "data": {
            "text/html": [
              "<span style=\"color:blue\"> |-learning_rate: 4.442889681244208e-05</span>"
            ],
            "text/plain": [
              "<IPython.core.display.HTML object>"
            ]
          },
          "metadata": {
            "tags": []
          }
        },
        {
          "output_type": "display_data",
          "data": {
            "text/html": [
              "<span style=\"color:cyan\"> |-num_filters: 32</span>"
            ],
            "text/plain": [
              "<IPython.core.display.HTML object>"
            ]
          },
          "metadata": {
            "tags": []
          }
        },
        {
          "output_type": "display_data",
          "data": {
            "text/html": [
              "<span style=\"color:blue\"> |-padding: same</span>"
            ],
            "text/plain": [
              "<IPython.core.display.HTML object>"
            ]
          },
          "metadata": {
            "tags": []
          }
        },
        {
          "output_type": "display_data",
          "data": {
            "text/html": [
              "<span style=\"color:cyan\"> |-units: 160</span>"
            ],
            "text/plain": [
              "<IPython.core.display.HTML object>"
            ]
          },
          "metadata": {
            "tags": []
          }
        },
        {
          "output_type": "display_data",
          "data": {
            "text/html": [
              "<span style=\"color:#4527A0\"><h1 style=\"font-size:18px\">Trial summary</h1></span>"
            ],
            "text/plain": [
              "<IPython.core.display.HTML object>"
            ]
          },
          "metadata": {
            "tags": []
          }
        },
        {
          "output_type": "display_data",
          "data": {
            "text/html": [
              "<span style=\"color:cyan\"> |-Trial ID: 11cd50dfe67ea3dd2a39b964a513f03e</span>"
            ],
            "text/plain": [
              "<IPython.core.display.HTML object>"
            ]
          },
          "metadata": {
            "tags": []
          }
        },
        {
          "output_type": "display_data",
          "data": {
            "text/html": [
              "<span style=\"color:cyan\"> |-Score: 0.7216500043869019</span>"
            ],
            "text/plain": [
              "<IPython.core.display.HTML object>"
            ]
          },
          "metadata": {
            "tags": []
          }
        },
        {
          "output_type": "display_data",
          "data": {
            "text/html": [
              "<span style=\"color:cyan\"> |-Best step: 0</span>"
            ],
            "text/plain": [
              "<IPython.core.display.HTML object>"
            ]
          },
          "metadata": {
            "tags": []
          }
        },
        {
          "output_type": "display_data",
          "data": {
            "text/html": [
              "<span style=\"color:#7E57C2\"><h2 style=\"font-size:16px\">Hyperparameters:</h2></span>"
            ],
            "text/plain": [
              "<IPython.core.display.HTML object>"
            ]
          },
          "metadata": {
            "tags": []
          }
        },
        {
          "output_type": "display_data",
          "data": {
            "text/html": [
              "<span style=\"color:cyan\"> |-cnn_activation: tanh</span>"
            ],
            "text/plain": [
              "<IPython.core.display.HTML object>"
            ]
          },
          "metadata": {
            "tags": []
          }
        },
        {
          "output_type": "display_data",
          "data": {
            "text/html": [
              "<span style=\"color:blue\"> |-dense_activation: sigmoid</span>"
            ],
            "text/plain": [
              "<IPython.core.display.HTML object>"
            ]
          },
          "metadata": {
            "tags": []
          }
        },
        {
          "output_type": "display_data",
          "data": {
            "text/html": [
              "<span style=\"color:cyan\"> |-dropout_1: 0.45</span>"
            ],
            "text/plain": [
              "<IPython.core.display.HTML object>"
            ]
          },
          "metadata": {
            "tags": []
          }
        },
        {
          "output_type": "display_data",
          "data": {
            "text/html": [
              "<span style=\"color:blue\"> |-learning_rate: 2.137464742000241e-05</span>"
            ],
            "text/plain": [
              "<IPython.core.display.HTML object>"
            ]
          },
          "metadata": {
            "tags": []
          }
        },
        {
          "output_type": "display_data",
          "data": {
            "text/html": [
              "<span style=\"color:cyan\"> |-num_filters: 32</span>"
            ],
            "text/plain": [
              "<IPython.core.display.HTML object>"
            ]
          },
          "metadata": {
            "tags": []
          }
        },
        {
          "output_type": "display_data",
          "data": {
            "text/html": [
              "<span style=\"color:blue\"> |-padding: valid</span>"
            ],
            "text/plain": [
              "<IPython.core.display.HTML object>"
            ]
          },
          "metadata": {
            "tags": []
          }
        },
        {
          "output_type": "display_data",
          "data": {
            "text/html": [
              "<span style=\"color:cyan\"> |-units: 128</span>"
            ],
            "text/plain": [
              "<IPython.core.display.HTML object>"
            ]
          },
          "metadata": {
            "tags": []
          }
        },
        {
          "output_type": "display_data",
          "data": {
            "text/html": [
              "<span style=\"color:#4527A0\"><h1 style=\"font-size:18px\">Trial summary</h1></span>"
            ],
            "text/plain": [
              "<IPython.core.display.HTML object>"
            ]
          },
          "metadata": {
            "tags": []
          }
        },
        {
          "output_type": "display_data",
          "data": {
            "text/html": [
              "<span style=\"color:cyan\"> |-Trial ID: 399dfcf6d303b1cbdbe3d31150a02f4d</span>"
            ],
            "text/plain": [
              "<IPython.core.display.HTML object>"
            ]
          },
          "metadata": {
            "tags": []
          }
        },
        {
          "output_type": "display_data",
          "data": {
            "text/html": [
              "<span style=\"color:cyan\"> |-Score: 0.7173500061035156</span>"
            ],
            "text/plain": [
              "<IPython.core.display.HTML object>"
            ]
          },
          "metadata": {
            "tags": []
          }
        },
        {
          "output_type": "display_data",
          "data": {
            "text/html": [
              "<span style=\"color:cyan\"> |-Best step: 0</span>"
            ],
            "text/plain": [
              "<IPython.core.display.HTML object>"
            ]
          },
          "metadata": {
            "tags": []
          }
        },
        {
          "output_type": "display_data",
          "data": {
            "text/html": [
              "<span style=\"color:#7E57C2\"><h2 style=\"font-size:16px\">Hyperparameters:</h2></span>"
            ],
            "text/plain": [
              "<IPython.core.display.HTML object>"
            ]
          },
          "metadata": {
            "tags": []
          }
        },
        {
          "output_type": "display_data",
          "data": {
            "text/html": [
              "<span style=\"color:cyan\"> |-cnn_activation: tanh</span>"
            ],
            "text/plain": [
              "<IPython.core.display.HTML object>"
            ]
          },
          "metadata": {
            "tags": []
          }
        },
        {
          "output_type": "display_data",
          "data": {
            "text/html": [
              "<span style=\"color:blue\"> |-dense_activation: tanh</span>"
            ],
            "text/plain": [
              "<IPython.core.display.HTML object>"
            ]
          },
          "metadata": {
            "tags": []
          }
        },
        {
          "output_type": "display_data",
          "data": {
            "text/html": [
              "<span style=\"color:cyan\"> |-dropout_1: 0.15000000000000002</span>"
            ],
            "text/plain": [
              "<IPython.core.display.HTML object>"
            ]
          },
          "metadata": {
            "tags": []
          }
        },
        {
          "output_type": "display_data",
          "data": {
            "text/html": [
              "<span style=\"color:blue\"> |-learning_rate: 1.6355245798526344e-05</span>"
            ],
            "text/plain": [
              "<IPython.core.display.HTML object>"
            ]
          },
          "metadata": {
            "tags": []
          }
        },
        {
          "output_type": "display_data",
          "data": {
            "text/html": [
              "<span style=\"color:cyan\"> |-num_filters: 32</span>"
            ],
            "text/plain": [
              "<IPython.core.display.HTML object>"
            ]
          },
          "metadata": {
            "tags": []
          }
        },
        {
          "output_type": "display_data",
          "data": {
            "text/html": [
              "<span style=\"color:blue\"> |-padding: same</span>"
            ],
            "text/plain": [
              "<IPython.core.display.HTML object>"
            ]
          },
          "metadata": {
            "tags": []
          }
        },
        {
          "output_type": "display_data",
          "data": {
            "text/html": [
              "<span style=\"color:cyan\"> |-units: 256</span>"
            ],
            "text/plain": [
              "<IPython.core.display.HTML object>"
            ]
          },
          "metadata": {
            "tags": []
          }
        },
        {
          "output_type": "display_data",
          "data": {
            "text/html": [
              "<span style=\"color:#4527A0\"><h1 style=\"font-size:18px\">Trial summary</h1></span>"
            ],
            "text/plain": [
              "<IPython.core.display.HTML object>"
            ]
          },
          "metadata": {
            "tags": []
          }
        },
        {
          "output_type": "display_data",
          "data": {
            "text/html": [
              "<span style=\"color:cyan\"> |-Trial ID: 6065c3725ad540a1f5f01d8f05b2ce72</span>"
            ],
            "text/plain": [
              "<IPython.core.display.HTML object>"
            ]
          },
          "metadata": {
            "tags": []
          }
        },
        {
          "output_type": "display_data",
          "data": {
            "text/html": [
              "<span style=\"color:cyan\"> |-Score: 0.5423000007867813</span>"
            ],
            "text/plain": [
              "<IPython.core.display.HTML object>"
            ]
          },
          "metadata": {
            "tags": []
          }
        },
        {
          "output_type": "display_data",
          "data": {
            "text/html": [
              "<span style=\"color:cyan\"> |-Best step: 0</span>"
            ],
            "text/plain": [
              "<IPython.core.display.HTML object>"
            ]
          },
          "metadata": {
            "tags": []
          }
        },
        {
          "output_type": "display_data",
          "data": {
            "text/html": [
              "<span style=\"color:#7E57C2\"><h2 style=\"font-size:16px\">Hyperparameters:</h2></span>"
            ],
            "text/plain": [
              "<IPython.core.display.HTML object>"
            ]
          },
          "metadata": {
            "tags": []
          }
        },
        {
          "output_type": "display_data",
          "data": {
            "text/html": [
              "<span style=\"color:cyan\"> |-cnn_activation: tanh</span>"
            ],
            "text/plain": [
              "<IPython.core.display.HTML object>"
            ]
          },
          "metadata": {
            "tags": []
          }
        },
        {
          "output_type": "display_data",
          "data": {
            "text/html": [
              "<span style=\"color:blue\"> |-dense_activation: sigmoid</span>"
            ],
            "text/plain": [
              "<IPython.core.display.HTML object>"
            ]
          },
          "metadata": {
            "tags": []
          }
        },
        {
          "output_type": "display_data",
          "data": {
            "text/html": [
              "<span style=\"color:cyan\"> |-dropout_1: 0.30000000000000004</span>"
            ],
            "text/plain": [
              "<IPython.core.display.HTML object>"
            ]
          },
          "metadata": {
            "tags": []
          }
        },
        {
          "output_type": "display_data",
          "data": {
            "text/html": [
              "<span style=\"color:blue\"> |-learning_rate: 1.6823422054760655e-05</span>"
            ],
            "text/plain": [
              "<IPython.core.display.HTML object>"
            ]
          },
          "metadata": {
            "tags": []
          }
        },
        {
          "output_type": "display_data",
          "data": {
            "text/html": [
              "<span style=\"color:cyan\"> |-num_filters: 32</span>"
            ],
            "text/plain": [
              "<IPython.core.display.HTML object>"
            ]
          },
          "metadata": {
            "tags": []
          }
        },
        {
          "output_type": "display_data",
          "data": {
            "text/html": [
              "<span style=\"color:blue\"> |-padding: valid</span>"
            ],
            "text/plain": [
              "<IPython.core.display.HTML object>"
            ]
          },
          "metadata": {
            "tags": []
          }
        },
        {
          "output_type": "display_data",
          "data": {
            "text/html": [
              "<span style=\"color:cyan\"> |-units: 224</span>"
            ],
            "text/plain": [
              "<IPython.core.display.HTML object>"
            ]
          },
          "metadata": {
            "tags": []
          }
        },
        {
          "output_type": "stream",
          "text": [
            "313/313 [==============================] - 2s 5ms/step - loss: 0.6839 - accuracy: 0.7905\n",
            "Elapsed time =    -0.0019 s, accuracy = 0.7904999852180481, loss = 0.6839138865470886\n"
          ],
          "name": "stdout"
        },
        {
          "output_type": "display_data",
          "data": {
            "text/html": [
              "<span style=\"color:#4527A0\"><h1 style=\"font-size:18px\">Search space summary</h1></span>"
            ],
            "text/plain": [
              "<IPython.core.display.HTML object>"
            ]
          },
          "metadata": {
            "tags": []
          }
        },
        {
          "output_type": "display_data",
          "data": {
            "text/html": [
              "<span style=\"color:cyan\"> |-Default search space size: 7</span>"
            ],
            "text/plain": [
              "<IPython.core.display.HTML object>"
            ]
          },
          "metadata": {
            "tags": []
          }
        },
        {
          "output_type": "display_data",
          "data": {
            "text/html": [
              "<span style=\"color:#7E57C2\"><h2 style=\"font-size:16px\">num_filters (Choice)</h2></span>"
            ],
            "text/plain": [
              "<IPython.core.display.HTML object>"
            ]
          },
          "metadata": {
            "tags": []
          }
        },
        {
          "output_type": "display_data",
          "data": {
            "text/html": [
              "<span style=\"color:cyan\"> |-default: 128</span>"
            ],
            "text/plain": [
              "<IPython.core.display.HTML object>"
            ]
          },
          "metadata": {
            "tags": []
          }
        },
        {
          "output_type": "display_data",
          "data": {
            "text/html": [
              "<span style=\"color:blue\"> |-ordered: True</span>"
            ],
            "text/plain": [
              "<IPython.core.display.HTML object>"
            ]
          },
          "metadata": {
            "tags": []
          }
        },
        {
          "output_type": "display_data",
          "data": {
            "text/html": [
              "<span style=\"color:cyan\"> |-values: [128, 162]</span>"
            ],
            "text/plain": [
              "<IPython.core.display.HTML object>"
            ]
          },
          "metadata": {
            "tags": []
          }
        },
        {
          "output_type": "display_data",
          "data": {
            "text/html": [
              "<span style=\"color:#7E57C2\"><h2 style=\"font-size:16px\">cnn_activation (Choice)</h2></span>"
            ],
            "text/plain": [
              "<IPython.core.display.HTML object>"
            ]
          },
          "metadata": {
            "tags": []
          }
        },
        {
          "output_type": "display_data",
          "data": {
            "text/html": [
              "<span style=\"color:cyan\"> |-default: relu</span>"
            ],
            "text/plain": [
              "<IPython.core.display.HTML object>"
            ]
          },
          "metadata": {
            "tags": []
          }
        },
        {
          "output_type": "display_data",
          "data": {
            "text/html": [
              "<span style=\"color:blue\"> |-ordered: False</span>"
            ],
            "text/plain": [
              "<IPython.core.display.HTML object>"
            ]
          },
          "metadata": {
            "tags": []
          }
        },
        {
          "output_type": "display_data",
          "data": {
            "text/html": [
              "<span style=\"color:cyan\"> |-values: ['relu', 'tanh']</span>"
            ],
            "text/plain": [
              "<IPython.core.display.HTML object>"
            ]
          },
          "metadata": {
            "tags": []
          }
        },
        {
          "output_type": "display_data",
          "data": {
            "text/html": [
              "<span style=\"color:#7E57C2\"><h2 style=\"font-size:16px\">padding (Choice)</h2></span>"
            ],
            "text/plain": [
              "<IPython.core.display.HTML object>"
            ]
          },
          "metadata": {
            "tags": []
          }
        },
        {
          "output_type": "display_data",
          "data": {
            "text/html": [
              "<span style=\"color:cyan\"> |-default: same</span>"
            ],
            "text/plain": [
              "<IPython.core.display.HTML object>"
            ]
          },
          "metadata": {
            "tags": []
          }
        },
        {
          "output_type": "display_data",
          "data": {
            "text/html": [
              "<span style=\"color:blue\"> |-ordered: False</span>"
            ],
            "text/plain": [
              "<IPython.core.display.HTML object>"
            ]
          },
          "metadata": {
            "tags": []
          }
        },
        {
          "output_type": "display_data",
          "data": {
            "text/html": [
              "<span style=\"color:cyan\"> |-values: ['same', 'valid']</span>"
            ],
            "text/plain": [
              "<IPython.core.display.HTML object>"
            ]
          },
          "metadata": {
            "tags": []
          }
        },
        {
          "output_type": "display_data",
          "data": {
            "text/html": [
              "<span style=\"color:#7E57C2\"><h2 style=\"font-size:16px\">units (Int)</h2></span>"
            ],
            "text/plain": [
              "<IPython.core.display.HTML object>"
            ]
          },
          "metadata": {
            "tags": []
          }
        },
        {
          "output_type": "display_data",
          "data": {
            "text/html": [
              "<span style=\"color:cyan\"> |-default: 512</span>"
            ],
            "text/plain": [
              "<IPython.core.display.HTML object>"
            ]
          },
          "metadata": {
            "tags": []
          }
        },
        {
          "output_type": "display_data",
          "data": {
            "text/html": [
              "<span style=\"color:blue\"> |-max_value: 512</span>"
            ],
            "text/plain": [
              "<IPython.core.display.HTML object>"
            ]
          },
          "metadata": {
            "tags": []
          }
        },
        {
          "output_type": "display_data",
          "data": {
            "text/html": [
              "<span style=\"color:cyan\"> |-min_value: 128</span>"
            ],
            "text/plain": [
              "<IPython.core.display.HTML object>"
            ]
          },
          "metadata": {
            "tags": []
          }
        },
        {
          "output_type": "display_data",
          "data": {
            "text/html": [
              "<span style=\"color:blue\"> |-sampling: None</span>"
            ],
            "text/plain": [
              "<IPython.core.display.HTML object>"
            ]
          },
          "metadata": {
            "tags": []
          }
        },
        {
          "output_type": "display_data",
          "data": {
            "text/html": [
              "<span style=\"color:cyan\"> |-step: 32</span>"
            ],
            "text/plain": [
              "<IPython.core.display.HTML object>"
            ]
          },
          "metadata": {
            "tags": []
          }
        },
        {
          "output_type": "display_data",
          "data": {
            "text/html": [
              "<span style=\"color:#7E57C2\"><h2 style=\"font-size:16px\">dense_activation (Choice)</h2></span>"
            ],
            "text/plain": [
              "<IPython.core.display.HTML object>"
            ]
          },
          "metadata": {
            "tags": []
          }
        },
        {
          "output_type": "display_data",
          "data": {
            "text/html": [
              "<span style=\"color:cyan\"> |-default: relu</span>"
            ],
            "text/plain": [
              "<IPython.core.display.HTML object>"
            ]
          },
          "metadata": {
            "tags": []
          }
        },
        {
          "output_type": "display_data",
          "data": {
            "text/html": [
              "<span style=\"color:blue\"> |-ordered: False</span>"
            ],
            "text/plain": [
              "<IPython.core.display.HTML object>"
            ]
          },
          "metadata": {
            "tags": []
          }
        },
        {
          "output_type": "display_data",
          "data": {
            "text/html": [
              "<span style=\"color:cyan\"> |-values: ['relu', 'tanh', 'sigmoid']</span>"
            ],
            "text/plain": [
              "<IPython.core.display.HTML object>"
            ]
          },
          "metadata": {
            "tags": []
          }
        },
        {
          "output_type": "display_data",
          "data": {
            "text/html": [
              "<span style=\"color:#7E57C2\"><h2 style=\"font-size:16px\">dropout_1 (Float)</h2></span>"
            ],
            "text/plain": [
              "<IPython.core.display.HTML object>"
            ]
          },
          "metadata": {
            "tags": []
          }
        },
        {
          "output_type": "display_data",
          "data": {
            "text/html": [
              "<span style=\"color:cyan\"> |-default: 0.5</span>"
            ],
            "text/plain": [
              "<IPython.core.display.HTML object>"
            ]
          },
          "metadata": {
            "tags": []
          }
        },
        {
          "output_type": "display_data",
          "data": {
            "text/html": [
              "<span style=\"color:blue\"> |-max_value: 0.5</span>"
            ],
            "text/plain": [
              "<IPython.core.display.HTML object>"
            ]
          },
          "metadata": {
            "tags": []
          }
        },
        {
          "output_type": "display_data",
          "data": {
            "text/html": [
              "<span style=\"color:cyan\"> |-min_value: 0.0</span>"
            ],
            "text/plain": [
              "<IPython.core.display.HTML object>"
            ]
          },
          "metadata": {
            "tags": []
          }
        },
        {
          "output_type": "display_data",
          "data": {
            "text/html": [
              "<span style=\"color:blue\"> |-sampling: None</span>"
            ],
            "text/plain": [
              "<IPython.core.display.HTML object>"
            ]
          },
          "metadata": {
            "tags": []
          }
        },
        {
          "output_type": "display_data",
          "data": {
            "text/html": [
              "<span style=\"color:cyan\"> |-step: 0.05</span>"
            ],
            "text/plain": [
              "<IPython.core.display.HTML object>"
            ]
          },
          "metadata": {
            "tags": []
          }
        },
        {
          "output_type": "display_data",
          "data": {
            "text/html": [
              "<span style=\"color:#7E57C2\"><h2 style=\"font-size:16px\">learning_rate (Float)</h2></span>"
            ],
            "text/plain": [
              "<IPython.core.display.HTML object>"
            ]
          },
          "metadata": {
            "tags": []
          }
        },
        {
          "output_type": "display_data",
          "data": {
            "text/html": [
              "<span style=\"color:cyan\"> |-default: 0.0001</span>"
            ],
            "text/plain": [
              "<IPython.core.display.HTML object>"
            ]
          },
          "metadata": {
            "tags": []
          }
        },
        {
          "output_type": "display_data",
          "data": {
            "text/html": [
              "<span style=\"color:blue\"> |-max_value: 0.001</span>"
            ],
            "text/plain": [
              "<IPython.core.display.HTML object>"
            ]
          },
          "metadata": {
            "tags": []
          }
        },
        {
          "output_type": "display_data",
          "data": {
            "text/html": [
              "<span style=\"color:cyan\"> |-min_value: 1e-05</span>"
            ],
            "text/plain": [
              "<IPython.core.display.HTML object>"
            ]
          },
          "metadata": {
            "tags": []
          }
        },
        {
          "output_type": "display_data",
          "data": {
            "text/html": [
              "<span style=\"color:blue\"> |-sampling: log</span>"
            ],
            "text/plain": [
              "<IPython.core.display.HTML object>"
            ]
          },
          "metadata": {
            "tags": []
          }
        },
        {
          "output_type": "display_data",
          "data": {
            "text/html": [
              "<span style=\"color:cyan\"> |-step: None</span>"
            ],
            "text/plain": [
              "<IPython.core.display.HTML object>"
            ]
          },
          "metadata": {
            "tags": []
          }
        },
        {
          "output_type": "stream",
          "text": [
            "start tuning\n",
            "WARNING:tensorflow:Unresolved object in checkpoint: (root).optimizer.iter\n",
            "WARNING:tensorflow:Unresolved object in checkpoint: (root).optimizer.beta_1\n",
            "WARNING:tensorflow:Unresolved object in checkpoint: (root).optimizer.beta_2\n",
            "WARNING:tensorflow:Unresolved object in checkpoint: (root).optimizer.decay\n",
            "WARNING:tensorflow:Unresolved object in checkpoint: (root).optimizer.learning_rate\n",
            "WARNING:tensorflow:A checkpoint was restored (e.g. tf.train.Checkpoint.restore or tf.keras.Model.load_weights) but not all checkpointed values were used. See above for specific issues. Use expect_partial() on the load status object, e.g. tf.train.Checkpoint.restore(...).expect_partial(), to silence these warnings, or use assert_consumed() to make the check explicit. See https://www.tensorflow.org/guide/checkpoint#loading_mechanics for details.\n",
            "Epoch 5/10\n",
            "1563/1563 [==============================] - 39s 25ms/step - loss: 1.2453 - accuracy: 0.5676 - val_loss: 1.0562 - val_accuracy: 0.6346\n",
            "Epoch 6/10\n",
            "1563/1563 [==============================] - 38s 24ms/step - loss: 0.8164 - accuracy: 0.7154 - val_loss: 0.7914 - val_accuracy: 0.7332\n",
            "Epoch 7/10\n",
            "1563/1563 [==============================] - 39s 25ms/step - loss: 0.6512 - accuracy: 0.7735 - val_loss: 0.6624 - val_accuracy: 0.7689\n",
            "Epoch 8/10\n",
            "1563/1563 [==============================] - 38s 24ms/step - loss: 0.5109 - accuracy: 0.8229 - val_loss: 0.6294 - val_accuracy: 0.7880\n",
            "Epoch 9/10\n",
            "1563/1563 [==============================] - 38s 24ms/step - loss: 0.3864 - accuracy: 0.8661 - val_loss: 0.6805 - val_accuracy: 0.7840\n",
            "Epoch 10/10\n",
            "1563/1563 [==============================] - 38s 24ms/step - loss: 0.2844 - accuracy: 0.9018 - val_loss: 0.6259 - val_accuracy: 0.8028\n",
            "Epoch 5/10\n",
            "1563/1563 [==============================] - 38s 24ms/step - loss: 1.2274 - accuracy: 0.5719 - val_loss: 0.9920 - val_accuracy: 0.6567\n",
            "Epoch 6/10\n",
            "1563/1563 [==============================] - 38s 24ms/step - loss: 0.8003 - accuracy: 0.7223 - val_loss: 0.8002 - val_accuracy: 0.7252\n",
            "Epoch 7/10\n",
            "1563/1563 [==============================] - 38s 24ms/step - loss: 0.6314 - accuracy: 0.7812 - val_loss: 0.9255 - val_accuracy: 0.6959\n",
            "Epoch 8/10\n",
            "1563/1563 [==============================] - 38s 24ms/step - loss: 0.5025 - accuracy: 0.8257 - val_loss: 0.8501 - val_accuracy: 0.7163\n",
            "Epoch 9/10\n",
            "1563/1563 [==============================] - 38s 24ms/step - loss: 0.3790 - accuracy: 0.8689 - val_loss: 0.6182 - val_accuracy: 0.7986\n",
            "Epoch 10/10\n",
            "1563/1563 [==============================] - 38s 24ms/step - loss: 0.2729 - accuracy: 0.9061 - val_loss: 0.7052 - val_accuracy: 0.7844\n"
          ],
          "name": "stdout"
        },
        {
          "output_type": "display_data",
          "data": {
            "text/html": [
              "<span style=\"color:#4527A0\"><h1 style=\"font-size:18px\">Trial complete</h1></span>"
            ],
            "text/plain": [
              "<IPython.core.display.HTML object>"
            ]
          },
          "metadata": {
            "tags": []
          }
        },
        {
          "output_type": "display_data",
          "data": {
            "text/html": [
              "<span style=\"color:#4527A0\"><h1 style=\"font-size:18px\">Trial summary</h1></span>"
            ],
            "text/plain": [
              "<IPython.core.display.HTML object>"
            ]
          },
          "metadata": {
            "tags": []
          }
        },
        {
          "output_type": "display_data",
          "data": {
            "text/html": [
              "<span style=\"color:cyan\"> |-Trial ID: f4f10411c2b0be81454b1ac591b61974</span>"
            ],
            "text/plain": [
              "<IPython.core.display.HTML object>"
            ]
          },
          "metadata": {
            "tags": []
          }
        },
        {
          "output_type": "display_data",
          "data": {
            "text/html": [
              "<span style=\"color:cyan\"> |-Score: 0.8007000088691711</span>"
            ],
            "text/plain": [
              "<IPython.core.display.HTML object>"
            ]
          },
          "metadata": {
            "tags": []
          }
        },
        {
          "output_type": "display_data",
          "data": {
            "text/html": [
              "<span style=\"color:cyan\"> |-Best step: 0</span>"
            ],
            "text/plain": [
              "<IPython.core.display.HTML object>"
            ]
          },
          "metadata": {
            "tags": []
          }
        },
        {
          "output_type": "display_data",
          "data": {
            "text/html": [
              "<span style=\"color:#7E57C2\"><h2 style=\"font-size:16px\">Hyperparameters:</h2></span>"
            ],
            "text/plain": [
              "<IPython.core.display.HTML object>"
            ]
          },
          "metadata": {
            "tags": []
          }
        },
        {
          "output_type": "display_data",
          "data": {
            "text/html": [
              "<span style=\"color:cyan\"> |-cnn_activation: relu</span>"
            ],
            "text/plain": [
              "<IPython.core.display.HTML object>"
            ]
          },
          "metadata": {
            "tags": []
          }
        },
        {
          "output_type": "display_data",
          "data": {
            "text/html": [
              "<span style=\"color:blue\"> |-dense_activation: relu</span>"
            ],
            "text/plain": [
              "<IPython.core.display.HTML object>"
            ]
          },
          "metadata": {
            "tags": []
          }
        },
        {
          "output_type": "display_data",
          "data": {
            "text/html": [
              "<span style=\"color:cyan\"> |-dropout_1: 0.05</span>"
            ],
            "text/plain": [
              "<IPython.core.display.HTML object>"
            ]
          },
          "metadata": {
            "tags": []
          }
        },
        {
          "output_type": "display_data",
          "data": {
            "text/html": [
              "<span style=\"color:blue\"> |-learning_rate: 0.0008547485565344062</span>"
            ],
            "text/plain": [
              "<IPython.core.display.HTML object>"
            ]
          },
          "metadata": {
            "tags": []
          }
        },
        {
          "output_type": "display_data",
          "data": {
            "text/html": [
              "<span style=\"color:cyan\"> |-num_filters: 162</span>"
            ],
            "text/plain": [
              "<IPython.core.display.HTML object>"
            ]
          },
          "metadata": {
            "tags": []
          }
        },
        {
          "output_type": "display_data",
          "data": {
            "text/html": [
              "<span style=\"color:blue\"> |-padding: valid</span>"
            ],
            "text/plain": [
              "<IPython.core.display.HTML object>"
            ]
          },
          "metadata": {
            "tags": []
          }
        },
        {
          "output_type": "display_data",
          "data": {
            "text/html": [
              "<span style=\"color:cyan\"> |-tuner/bracket: 2</span>"
            ],
            "text/plain": [
              "<IPython.core.display.HTML object>"
            ]
          },
          "metadata": {
            "tags": []
          }
        },
        {
          "output_type": "display_data",
          "data": {
            "text/html": [
              "<span style=\"color:blue\"> |-tuner/epochs: 10</span>"
            ],
            "text/plain": [
              "<IPython.core.display.HTML object>"
            ]
          },
          "metadata": {
            "tags": []
          }
        },
        {
          "output_type": "display_data",
          "data": {
            "text/html": [
              "<span style=\"color:cyan\"> |-tuner/initial_epoch: 4</span>"
            ],
            "text/plain": [
              "<IPython.core.display.HTML object>"
            ]
          },
          "metadata": {
            "tags": []
          }
        },
        {
          "output_type": "display_data",
          "data": {
            "text/html": [
              "<span style=\"color:blue\"> |-tuner/round: 2</span>"
            ],
            "text/plain": [
              "<IPython.core.display.HTML object>"
            ]
          },
          "metadata": {
            "tags": []
          }
        },
        {
          "output_type": "display_data",
          "data": {
            "text/html": [
              "<span style=\"color:cyan\"> |-tuner/trial_id: 654c638323a4926995bda54d79ecdb97</span>"
            ],
            "text/plain": [
              "<IPython.core.display.HTML object>"
            ]
          },
          "metadata": {
            "tags": []
          }
        },
        {
          "output_type": "display_data",
          "data": {
            "text/html": [
              "<span style=\"color:blue\"> |-units: 352</span>"
            ],
            "text/plain": [
              "<IPython.core.display.HTML object>"
            ]
          },
          "metadata": {
            "tags": []
          }
        },
        {
          "output_type": "stream",
          "text": [
            "Epoch 1/4\n",
            "1563/1563 [==============================] - 35s 22ms/step - loss: 1.7945 - accuracy: 0.4007 - val_loss: 2.8290 - val_accuracy: 0.2579\n",
            "Epoch 2/4\n",
            "1563/1563 [==============================] - 35s 22ms/step - loss: 1.3764 - accuracy: 0.5200 - val_loss: 2.6405 - val_accuracy: 0.2918\n",
            "Epoch 3/4\n",
            "1563/1563 [==============================] - 35s 22ms/step - loss: 1.2242 - accuracy: 0.5700 - val_loss: 2.1199 - val_accuracy: 0.3789\n",
            "Epoch 4/4\n",
            "1563/1563 [==============================] - 34s 22ms/step - loss: 1.1110 - accuracy: 0.6098 - val_loss: 2.0224 - val_accuracy: 0.4013\n",
            "Epoch 1/4\n",
            "1563/1563 [==============================] - 35s 22ms/step - loss: 1.8178 - accuracy: 0.3961 - val_loss: 1.8893 - val_accuracy: 0.4132\n",
            "Epoch 2/4\n",
            "1563/1563 [==============================] - 35s 22ms/step - loss: 1.3579 - accuracy: 0.5262 - val_loss: 2.0331 - val_accuracy: 0.4171\n",
            "Epoch 3/4\n",
            "1563/1563 [==============================] - 35s 22ms/step - loss: 1.1972 - accuracy: 0.5829 - val_loss: 1.7195 - val_accuracy: 0.4680\n",
            "Epoch 4/4\n",
            "1563/1563 [==============================] - 34s 22ms/step - loss: 1.0759 - accuracy: 0.6239 - val_loss: 1.5730 - val_accuracy: 0.5044\n"
          ],
          "name": "stdout"
        },
        {
          "output_type": "display_data",
          "data": {
            "text/html": [
              "<span style=\"color:#4527A0\"><h1 style=\"font-size:18px\">Trial complete</h1></span>"
            ],
            "text/plain": [
              "<IPython.core.display.HTML object>"
            ]
          },
          "metadata": {
            "tags": []
          }
        },
        {
          "output_type": "display_data",
          "data": {
            "text/html": [
              "<span style=\"color:#4527A0\"><h1 style=\"font-size:18px\">Trial summary</h1></span>"
            ],
            "text/plain": [
              "<IPython.core.display.HTML object>"
            ]
          },
          "metadata": {
            "tags": []
          }
        },
        {
          "output_type": "display_data",
          "data": {
            "text/html": [
              "<span style=\"color:cyan\"> |-Trial ID: f4659fd9e63defd7d522a74afead98af</span>"
            ],
            "text/plain": [
              "<IPython.core.display.HTML object>"
            ]
          },
          "metadata": {
            "tags": []
          }
        },
        {
          "output_type": "display_data",
          "data": {
            "text/html": [
              "<span style=\"color:cyan\"> |-Score: 0.45285001397132874</span>"
            ],
            "text/plain": [
              "<IPython.core.display.HTML object>"
            ]
          },
          "metadata": {
            "tags": []
          }
        },
        {
          "output_type": "display_data",
          "data": {
            "text/html": [
              "<span style=\"color:cyan\"> |-Best step: 0</span>"
            ],
            "text/plain": [
              "<IPython.core.display.HTML object>"
            ]
          },
          "metadata": {
            "tags": []
          }
        },
        {
          "output_type": "display_data",
          "data": {
            "text/html": [
              "<span style=\"color:#7E57C2\"><h2 style=\"font-size:16px\">Hyperparameters:</h2></span>"
            ],
            "text/plain": [
              "<IPython.core.display.HTML object>"
            ]
          },
          "metadata": {
            "tags": []
          }
        },
        {
          "output_type": "display_data",
          "data": {
            "text/html": [
              "<span style=\"color:cyan\"> |-cnn_activation: relu</span>"
            ],
            "text/plain": [
              "<IPython.core.display.HTML object>"
            ]
          },
          "metadata": {
            "tags": []
          }
        },
        {
          "output_type": "display_data",
          "data": {
            "text/html": [
              "<span style=\"color:blue\"> |-dense_activation: relu</span>"
            ],
            "text/plain": [
              "<IPython.core.display.HTML object>"
            ]
          },
          "metadata": {
            "tags": []
          }
        },
        {
          "output_type": "display_data",
          "data": {
            "text/html": [
              "<span style=\"color:cyan\"> |-dropout_1: 0.1</span>"
            ],
            "text/plain": [
              "<IPython.core.display.HTML object>"
            ]
          },
          "metadata": {
            "tags": []
          }
        },
        {
          "output_type": "display_data",
          "data": {
            "text/html": [
              "<span style=\"color:blue\"> |-learning_rate: 1.4690651027379392e-05</span>"
            ],
            "text/plain": [
              "<IPython.core.display.HTML object>"
            ]
          },
          "metadata": {
            "tags": []
          }
        },
        {
          "output_type": "display_data",
          "data": {
            "text/html": [
              "<span style=\"color:cyan\"> |-num_filters: 128</span>"
            ],
            "text/plain": [
              "<IPython.core.display.HTML object>"
            ]
          },
          "metadata": {
            "tags": []
          }
        },
        {
          "output_type": "display_data",
          "data": {
            "text/html": [
              "<span style=\"color:blue\"> |-padding: same</span>"
            ],
            "text/plain": [
              "<IPython.core.display.HTML object>"
            ]
          },
          "metadata": {
            "tags": []
          }
        },
        {
          "output_type": "display_data",
          "data": {
            "text/html": [
              "<span style=\"color:cyan\"> |-tuner/bracket: 1</span>"
            ],
            "text/plain": [
              "<IPython.core.display.HTML object>"
            ]
          },
          "metadata": {
            "tags": []
          }
        },
        {
          "output_type": "display_data",
          "data": {
            "text/html": [
              "<span style=\"color:blue\"> |-tuner/epochs: 4</span>"
            ],
            "text/plain": [
              "<IPython.core.display.HTML object>"
            ]
          },
          "metadata": {
            "tags": []
          }
        },
        {
          "output_type": "display_data",
          "data": {
            "text/html": [
              "<span style=\"color:cyan\"> |-tuner/initial_epoch: 0</span>"
            ],
            "text/plain": [
              "<IPython.core.display.HTML object>"
            ]
          },
          "metadata": {
            "tags": []
          }
        },
        {
          "output_type": "display_data",
          "data": {
            "text/html": [
              "<span style=\"color:blue\"> |-tuner/round: 0</span>"
            ],
            "text/plain": [
              "<IPython.core.display.HTML object>"
            ]
          },
          "metadata": {
            "tags": []
          }
        },
        {
          "output_type": "display_data",
          "data": {
            "text/html": [
              "<span style=\"color:cyan\"> |-units: 288</span>"
            ],
            "text/plain": [
              "<IPython.core.display.HTML object>"
            ]
          },
          "metadata": {
            "tags": []
          }
        },
        {
          "output_type": "stream",
          "text": [
            "Epoch 1/4\n",
            "1563/1563 [==============================] - 46s 30ms/step - loss: 1.5002 - accuracy: 0.4680 - val_loss: 3.3661 - val_accuracy: 0.4085\n",
            "Epoch 2/4\n",
            "1563/1563 [==============================] - 46s 29ms/step - loss: 1.1699 - accuracy: 0.5877 - val_loss: 3.2279 - val_accuracy: 0.3934\n",
            "Epoch 3/4\n",
            "1563/1563 [==============================] - 46s 29ms/step - loss: 1.0325 - accuracy: 0.6371 - val_loss: 1.6971 - val_accuracy: 0.5526\n",
            "Epoch 4/4\n",
            "1563/1563 [==============================] - 46s 30ms/step - loss: 0.9443 - accuracy: 0.6696 - val_loss: 1.5227 - val_accuracy: 0.5860\n",
            "Epoch 1/4\n",
            "1563/1563 [==============================] - 46s 29ms/step - loss: 1.5008 - accuracy: 0.4688 - val_loss: 2.8112 - val_accuracy: 0.4742\n",
            "Epoch 2/4\n",
            "1563/1563 [==============================] - 46s 29ms/step - loss: 1.1670 - accuracy: 0.5903 - val_loss: 2.9974 - val_accuracy: 0.4506\n",
            "Epoch 3/4\n",
            "1563/1563 [==============================] - 46s 29ms/step - loss: 1.0326 - accuracy: 0.6411 - val_loss: 2.3909 - val_accuracy: 0.5240\n",
            "Epoch 4/4\n",
            "1563/1563 [==============================] - 46s 29ms/step - loss: 0.9389 - accuracy: 0.6727 - val_loss: 1.9710 - val_accuracy: 0.5597\n"
          ],
          "name": "stdout"
        },
        {
          "output_type": "display_data",
          "data": {
            "text/html": [
              "<span style=\"color:#4527A0\"><h1 style=\"font-size:18px\">Trial complete</h1></span>"
            ],
            "text/plain": [
              "<IPython.core.display.HTML object>"
            ]
          },
          "metadata": {
            "tags": []
          }
        },
        {
          "output_type": "display_data",
          "data": {
            "text/html": [
              "<span style=\"color:#4527A0\"><h1 style=\"font-size:18px\">Trial summary</h1></span>"
            ],
            "text/plain": [
              "<IPython.core.display.HTML object>"
            ]
          },
          "metadata": {
            "tags": []
          }
        },
        {
          "output_type": "display_data",
          "data": {
            "text/html": [
              "<span style=\"color:cyan\"> |-Trial ID: c7837eb570431ffbba47f6c1442619ec</span>"
            ],
            "text/plain": [
              "<IPython.core.display.HTML object>"
            ]
          },
          "metadata": {
            "tags": []
          }
        },
        {
          "output_type": "display_data",
          "data": {
            "text/html": [
              "<span style=\"color:cyan\"> |-Score: 0.5728500187397003</span>"
            ],
            "text/plain": [
              "<IPython.core.display.HTML object>"
            ]
          },
          "metadata": {
            "tags": []
          }
        },
        {
          "output_type": "display_data",
          "data": {
            "text/html": [
              "<span style=\"color:cyan\"> |-Best step: 0</span>"
            ],
            "text/plain": [
              "<IPython.core.display.HTML object>"
            ]
          },
          "metadata": {
            "tags": []
          }
        },
        {
          "output_type": "display_data",
          "data": {
            "text/html": [
              "<span style=\"color:#7E57C2\"><h2 style=\"font-size:16px\">Hyperparameters:</h2></span>"
            ],
            "text/plain": [
              "<IPython.core.display.HTML object>"
            ]
          },
          "metadata": {
            "tags": []
          }
        },
        {
          "output_type": "display_data",
          "data": {
            "text/html": [
              "<span style=\"color:cyan\"> |-cnn_activation: tanh</span>"
            ],
            "text/plain": [
              "<IPython.core.display.HTML object>"
            ]
          },
          "metadata": {
            "tags": []
          }
        },
        {
          "output_type": "display_data",
          "data": {
            "text/html": [
              "<span style=\"color:blue\"> |-dense_activation: tanh</span>"
            ],
            "text/plain": [
              "<IPython.core.display.HTML object>"
            ]
          },
          "metadata": {
            "tags": []
          }
        },
        {
          "output_type": "display_data",
          "data": {
            "text/html": [
              "<span style=\"color:cyan\"> |-dropout_1: 0.1</span>"
            ],
            "text/plain": [
              "<IPython.core.display.HTML object>"
            ]
          },
          "metadata": {
            "tags": []
          }
        },
        {
          "output_type": "display_data",
          "data": {
            "text/html": [
              "<span style=\"color:blue\"> |-learning_rate: 5.161743428272906e-05</span>"
            ],
            "text/plain": [
              "<IPython.core.display.HTML object>"
            ]
          },
          "metadata": {
            "tags": []
          }
        },
        {
          "output_type": "display_data",
          "data": {
            "text/html": [
              "<span style=\"color:cyan\"> |-num_filters: 162</span>"
            ],
            "text/plain": [
              "<IPython.core.display.HTML object>"
            ]
          },
          "metadata": {
            "tags": []
          }
        },
        {
          "output_type": "display_data",
          "data": {
            "text/html": [
              "<span style=\"color:blue\"> |-padding: same</span>"
            ],
            "text/plain": [
              "<IPython.core.display.HTML object>"
            ]
          },
          "metadata": {
            "tags": []
          }
        },
        {
          "output_type": "display_data",
          "data": {
            "text/html": [
              "<span style=\"color:cyan\"> |-tuner/bracket: 1</span>"
            ],
            "text/plain": [
              "<IPython.core.display.HTML object>"
            ]
          },
          "metadata": {
            "tags": []
          }
        },
        {
          "output_type": "display_data",
          "data": {
            "text/html": [
              "<span style=\"color:blue\"> |-tuner/epochs: 4</span>"
            ],
            "text/plain": [
              "<IPython.core.display.HTML object>"
            ]
          },
          "metadata": {
            "tags": []
          }
        },
        {
          "output_type": "display_data",
          "data": {
            "text/html": [
              "<span style=\"color:cyan\"> |-tuner/initial_epoch: 0</span>"
            ],
            "text/plain": [
              "<IPython.core.display.HTML object>"
            ]
          },
          "metadata": {
            "tags": []
          }
        },
        {
          "output_type": "display_data",
          "data": {
            "text/html": [
              "<span style=\"color:blue\"> |-tuner/round: 0</span>"
            ],
            "text/plain": [
              "<IPython.core.display.HTML object>"
            ]
          },
          "metadata": {
            "tags": []
          }
        },
        {
          "output_type": "display_data",
          "data": {
            "text/html": [
              "<span style=\"color:cyan\"> |-units: 416</span>"
            ],
            "text/plain": [
              "<IPython.core.display.HTML object>"
            ]
          },
          "metadata": {
            "tags": []
          }
        },
        {
          "output_type": "stream",
          "text": [
            "Epoch 1/4\n",
            "1563/1563 [==============================] - 43s 27ms/step - loss: 1.7975 - accuracy: 0.3706 - val_loss: 1.5872 - val_accuracy: 0.4348\n",
            "Epoch 2/4\n",
            "1563/1563 [==============================] - 42s 27ms/step - loss: 1.3661 - accuracy: 0.5114 - val_loss: 1.3759 - val_accuracy: 0.5253\n",
            "Epoch 3/4\n",
            "1563/1563 [==============================] - 42s 27ms/step - loss: 1.2179 - accuracy: 0.5658 - val_loss: 1.4061 - val_accuracy: 0.5082\n",
            "Epoch 4/4\n",
            "1563/1563 [==============================] - 42s 27ms/step - loss: 1.1448 - accuracy: 0.5956 - val_loss: 1.0210 - val_accuracy: 0.6411\n",
            "Epoch 1/4\n",
            "1563/1563 [==============================] - 42s 27ms/step - loss: 1.7930 - accuracy: 0.3603 - val_loss: 1.4263 - val_accuracy: 0.4822\n",
            "Epoch 2/4\n",
            "1563/1563 [==============================] - 42s 27ms/step - loss: 1.3823 - accuracy: 0.5054 - val_loss: 1.3405 - val_accuracy: 0.5213\n",
            "Epoch 3/4\n",
            "1563/1563 [==============================] - 42s 27ms/step - loss: 1.2568 - accuracy: 0.5519 - val_loss: 1.1728 - val_accuracy: 0.5885\n",
            "Epoch 4/4\n",
            "1563/1563 [==============================] - 42s 27ms/step - loss: 1.1724 - accuracy: 0.5871 - val_loss: 1.0415 - val_accuracy: 0.6293\n"
          ],
          "name": "stdout"
        },
        {
          "output_type": "display_data",
          "data": {
            "text/html": [
              "<span style=\"color:#4527A0\"><h1 style=\"font-size:18px\">Trial complete</h1></span>"
            ],
            "text/plain": [
              "<IPython.core.display.HTML object>"
            ]
          },
          "metadata": {
            "tags": []
          }
        },
        {
          "output_type": "display_data",
          "data": {
            "text/html": [
              "<span style=\"color:#4527A0\"><h1 style=\"font-size:18px\">Trial summary</h1></span>"
            ],
            "text/plain": [
              "<IPython.core.display.HTML object>"
            ]
          },
          "metadata": {
            "tags": []
          }
        },
        {
          "output_type": "display_data",
          "data": {
            "text/html": [
              "<span style=\"color:cyan\"> |-Trial ID: c3c444fe023a0fe21a4c904d260eddf9</span>"
            ],
            "text/plain": [
              "<IPython.core.display.HTML object>"
            ]
          },
          "metadata": {
            "tags": []
          }
        },
        {
          "output_type": "display_data",
          "data": {
            "text/html": [
              "<span style=\"color:cyan\"> |-Score: 0.6351999938488007</span>"
            ],
            "text/plain": [
              "<IPython.core.display.HTML object>"
            ]
          },
          "metadata": {
            "tags": []
          }
        },
        {
          "output_type": "display_data",
          "data": {
            "text/html": [
              "<span style=\"color:cyan\"> |-Best step: 0</span>"
            ],
            "text/plain": [
              "<IPython.core.display.HTML object>"
            ]
          },
          "metadata": {
            "tags": []
          }
        },
        {
          "output_type": "display_data",
          "data": {
            "text/html": [
              "<span style=\"color:#7E57C2\"><h2 style=\"font-size:16px\">Hyperparameters:</h2></span>"
            ],
            "text/plain": [
              "<IPython.core.display.HTML object>"
            ]
          },
          "metadata": {
            "tags": []
          }
        },
        {
          "output_type": "display_data",
          "data": {
            "text/html": [
              "<span style=\"color:cyan\"> |-cnn_activation: relu</span>"
            ],
            "text/plain": [
              "<IPython.core.display.HTML object>"
            ]
          },
          "metadata": {
            "tags": []
          }
        },
        {
          "output_type": "display_data",
          "data": {
            "text/html": [
              "<span style=\"color:blue\"> |-dense_activation: sigmoid</span>"
            ],
            "text/plain": [
              "<IPython.core.display.HTML object>"
            ]
          },
          "metadata": {
            "tags": []
          }
        },
        {
          "output_type": "display_data",
          "data": {
            "text/html": [
              "<span style=\"color:cyan\"> |-dropout_1: 0.5</span>"
            ],
            "text/plain": [
              "<IPython.core.display.HTML object>"
            ]
          },
          "metadata": {
            "tags": []
          }
        },
        {
          "output_type": "display_data",
          "data": {
            "text/html": [
              "<span style=\"color:blue\"> |-learning_rate: 0.0005704251931830293</span>"
            ],
            "text/plain": [
              "<IPython.core.display.HTML object>"
            ]
          },
          "metadata": {
            "tags": []
          }
        },
        {
          "output_type": "display_data",
          "data": {
            "text/html": [
              "<span style=\"color:cyan\"> |-num_filters: 162</span>"
            ],
            "text/plain": [
              "<IPython.core.display.HTML object>"
            ]
          },
          "metadata": {
            "tags": []
          }
        },
        {
          "output_type": "display_data",
          "data": {
            "text/html": [
              "<span style=\"color:blue\"> |-padding: same</span>"
            ],
            "text/plain": [
              "<IPython.core.display.HTML object>"
            ]
          },
          "metadata": {
            "tags": []
          }
        },
        {
          "output_type": "display_data",
          "data": {
            "text/html": [
              "<span style=\"color:cyan\"> |-tuner/bracket: 1</span>"
            ],
            "text/plain": [
              "<IPython.core.display.HTML object>"
            ]
          },
          "metadata": {
            "tags": []
          }
        },
        {
          "output_type": "display_data",
          "data": {
            "text/html": [
              "<span style=\"color:blue\"> |-tuner/epochs: 4</span>"
            ],
            "text/plain": [
              "<IPython.core.display.HTML object>"
            ]
          },
          "metadata": {
            "tags": []
          }
        },
        {
          "output_type": "display_data",
          "data": {
            "text/html": [
              "<span style=\"color:cyan\"> |-tuner/initial_epoch: 0</span>"
            ],
            "text/plain": [
              "<IPython.core.display.HTML object>"
            ]
          },
          "metadata": {
            "tags": []
          }
        },
        {
          "output_type": "display_data",
          "data": {
            "text/html": [
              "<span style=\"color:blue\"> |-tuner/round: 0</span>"
            ],
            "text/plain": [
              "<IPython.core.display.HTML object>"
            ]
          },
          "metadata": {
            "tags": []
          }
        },
        {
          "output_type": "display_data",
          "data": {
            "text/html": [
              "<span style=\"color:cyan\"> |-units: 192</span>"
            ],
            "text/plain": [
              "<IPython.core.display.HTML object>"
            ]
          },
          "metadata": {
            "tags": []
          }
        },
        {
          "output_type": "stream",
          "text": [
            "Epoch 1/4\n",
            "1563/1563 [==============================] - 43s 28ms/step - loss: 1.6992 - accuracy: 0.3919 - val_loss: 2.8124 - val_accuracy: 0.3559\n",
            "Epoch 2/4\n",
            "1563/1563 [==============================] - 43s 27ms/step - loss: 1.4132 - accuracy: 0.4924 - val_loss: 1.8757 - val_accuracy: 0.4559\n",
            "Epoch 3/4\n",
            "1563/1563 [==============================] - 43s 27ms/step - loss: 1.2614 - accuracy: 0.5532 - val_loss: 1.4594 - val_accuracy: 0.5027\n",
            "Epoch 4/4\n",
            "1563/1563 [==============================] - 43s 28ms/step - loss: 1.1427 - accuracy: 0.6007 - val_loss: 1.4370 - val_accuracy: 0.5376\n",
            "Epoch 1/4\n",
            "1563/1563 [==============================] - 43s 27ms/step - loss: 1.6664 - accuracy: 0.4090 - val_loss: 2.8241 - val_accuracy: 0.3765\n",
            "Epoch 2/4\n",
            "1563/1563 [==============================] - 43s 27ms/step - loss: 1.3571 - accuracy: 0.5151 - val_loss: 1.6276 - val_accuracy: 0.4887\n",
            "Epoch 3/4\n",
            "1563/1563 [==============================] - 43s 27ms/step - loss: 1.1979 - accuracy: 0.5809 - val_loss: 1.2140 - val_accuracy: 0.5825\n",
            "Epoch 4/4\n",
            "1563/1563 [==============================] - 42s 27ms/step - loss: 1.1117 - accuracy: 0.6121 - val_loss: 1.3083 - val_accuracy: 0.5761\n"
          ],
          "name": "stdout"
        },
        {
          "output_type": "display_data",
          "data": {
            "text/html": [
              "<span style=\"color:#4527A0\"><h1 style=\"font-size:18px\">Trial complete</h1></span>"
            ],
            "text/plain": [
              "<IPython.core.display.HTML object>"
            ]
          },
          "metadata": {
            "tags": []
          }
        },
        {
          "output_type": "display_data",
          "data": {
            "text/html": [
              "<span style=\"color:#4527A0\"><h1 style=\"font-size:18px\">Trial summary</h1></span>"
            ],
            "text/plain": [
              "<IPython.core.display.HTML object>"
            ]
          },
          "metadata": {
            "tags": []
          }
        },
        {
          "output_type": "display_data",
          "data": {
            "text/html": [
              "<span style=\"color:cyan\"> |-Trial ID: 63915763bba305ad782b323b14bf9d79</span>"
            ],
            "text/plain": [
              "<IPython.core.display.HTML object>"
            ]
          },
          "metadata": {
            "tags": []
          }
        },
        {
          "output_type": "display_data",
          "data": {
            "text/html": [
              "<span style=\"color:cyan\"> |-Score: 0.56004998087883</span>"
            ],
            "text/plain": [
              "<IPython.core.display.HTML object>"
            ]
          },
          "metadata": {
            "tags": []
          }
        },
        {
          "output_type": "display_data",
          "data": {
            "text/html": [
              "<span style=\"color:cyan\"> |-Best step: 0</span>"
            ],
            "text/plain": [
              "<IPython.core.display.HTML object>"
            ]
          },
          "metadata": {
            "tags": []
          }
        },
        {
          "output_type": "display_data",
          "data": {
            "text/html": [
              "<span style=\"color:#7E57C2\"><h2 style=\"font-size:16px\">Hyperparameters:</h2></span>"
            ],
            "text/plain": [
              "<IPython.core.display.HTML object>"
            ]
          },
          "metadata": {
            "tags": []
          }
        },
        {
          "output_type": "display_data",
          "data": {
            "text/html": [
              "<span style=\"color:cyan\"> |-cnn_activation: relu</span>"
            ],
            "text/plain": [
              "<IPython.core.display.HTML object>"
            ]
          },
          "metadata": {
            "tags": []
          }
        },
        {
          "output_type": "display_data",
          "data": {
            "text/html": [
              "<span style=\"color:blue\"> |-dense_activation: tanh</span>"
            ],
            "text/plain": [
              "<IPython.core.display.HTML object>"
            ]
          },
          "metadata": {
            "tags": []
          }
        },
        {
          "output_type": "display_data",
          "data": {
            "text/html": [
              "<span style=\"color:cyan\"> |-dropout_1: 0.4</span>"
            ],
            "text/plain": [
              "<IPython.core.display.HTML object>"
            ]
          },
          "metadata": {
            "tags": []
          }
        },
        {
          "output_type": "display_data",
          "data": {
            "text/html": [
              "<span style=\"color:blue\"> |-learning_rate: 9.172617171127613e-05</span>"
            ],
            "text/plain": [
              "<IPython.core.display.HTML object>"
            ]
          },
          "metadata": {
            "tags": []
          }
        },
        {
          "output_type": "display_data",
          "data": {
            "text/html": [
              "<span style=\"color:cyan\"> |-num_filters: 162</span>"
            ],
            "text/plain": [
              "<IPython.core.display.HTML object>"
            ]
          },
          "metadata": {
            "tags": []
          }
        },
        {
          "output_type": "display_data",
          "data": {
            "text/html": [
              "<span style=\"color:blue\"> |-padding: same</span>"
            ],
            "text/plain": [
              "<IPython.core.display.HTML object>"
            ]
          },
          "metadata": {
            "tags": []
          }
        },
        {
          "output_type": "display_data",
          "data": {
            "text/html": [
              "<span style=\"color:cyan\"> |-tuner/bracket: 1</span>"
            ],
            "text/plain": [
              "<IPython.core.display.HTML object>"
            ]
          },
          "metadata": {
            "tags": []
          }
        },
        {
          "output_type": "display_data",
          "data": {
            "text/html": [
              "<span style=\"color:blue\"> |-tuner/epochs: 4</span>"
            ],
            "text/plain": [
              "<IPython.core.display.HTML object>"
            ]
          },
          "metadata": {
            "tags": []
          }
        },
        {
          "output_type": "display_data",
          "data": {
            "text/html": [
              "<span style=\"color:cyan\"> |-tuner/initial_epoch: 0</span>"
            ],
            "text/plain": [
              "<IPython.core.display.HTML object>"
            ]
          },
          "metadata": {
            "tags": []
          }
        },
        {
          "output_type": "display_data",
          "data": {
            "text/html": [
              "<span style=\"color:blue\"> |-tuner/round: 0</span>"
            ],
            "text/plain": [
              "<IPython.core.display.HTML object>"
            ]
          },
          "metadata": {
            "tags": []
          }
        },
        {
          "output_type": "display_data",
          "data": {
            "text/html": [
              "<span style=\"color:cyan\"> |-units: 224</span>"
            ],
            "text/plain": [
              "<IPython.core.display.HTML object>"
            ]
          },
          "metadata": {
            "tags": []
          }
        },
        {
          "output_type": "stream",
          "text": [
            "Epoch 1/4\n",
            "1563/1563 [==============================] - 33s 21ms/step - loss: 1.3623 - accuracy: 0.5410 - val_loss: 1.1065 - val_accuracy: 0.6247\n",
            "Epoch 2/4\n",
            "1563/1563 [==============================] - 33s 21ms/step - loss: 0.8701 - accuracy: 0.6977 - val_loss: 0.8015 - val_accuracy: 0.7236\n",
            "Epoch 3/4\n",
            "1563/1563 [==============================] - 32s 21ms/step - loss: 0.7081 - accuracy: 0.7532 - val_loss: 0.8604 - val_accuracy: 0.7100\n",
            "Epoch 4/4\n",
            "1563/1563 [==============================] - 33s 21ms/step - loss: 0.6230 - accuracy: 0.7824 - val_loss: 0.6997 - val_accuracy: 0.7659\n",
            "Epoch 1/4\n",
            "1563/1563 [==============================] - 32s 21ms/step - loss: 1.3889 - accuracy: 0.5266 - val_loss: 1.0816 - val_accuracy: 0.6393\n",
            "Epoch 2/4\n",
            "1563/1563 [==============================] - 32s 21ms/step - loss: 0.8784 - accuracy: 0.6930 - val_loss: 0.9182 - val_accuracy: 0.6751\n",
            "Epoch 3/4\n",
            "1563/1563 [==============================] - 32s 21ms/step - loss: 0.7197 - accuracy: 0.7478 - val_loss: 0.8822 - val_accuracy: 0.7011\n",
            "Epoch 4/4\n",
            "1563/1563 [==============================] - 32s 21ms/step - loss: 0.6186 - accuracy: 0.7839 - val_loss: 0.8071 - val_accuracy: 0.7277\n"
          ],
          "name": "stdout"
        },
        {
          "output_type": "display_data",
          "data": {
            "text/html": [
              "<span style=\"color:#4527A0\"><h1 style=\"font-size:18px\">Trial complete</h1></span>"
            ],
            "text/plain": [
              "<IPython.core.display.HTML object>"
            ]
          },
          "metadata": {
            "tags": []
          }
        },
        {
          "output_type": "display_data",
          "data": {
            "text/html": [
              "<span style=\"color:#4527A0\"><h1 style=\"font-size:18px\">Trial summary</h1></span>"
            ],
            "text/plain": [
              "<IPython.core.display.HTML object>"
            ]
          },
          "metadata": {
            "tags": []
          }
        },
        {
          "output_type": "display_data",
          "data": {
            "text/html": [
              "<span style=\"color:cyan\"> |-Trial ID: 6c140b6150ad6c1ff3e5e34cab87b7f7</span>"
            ],
            "text/plain": [
              "<IPython.core.display.HTML object>"
            ]
          },
          "metadata": {
            "tags": []
          }
        },
        {
          "output_type": "display_data",
          "data": {
            "text/html": [
              "<span style=\"color:cyan\"> |-Score: 0.7468000054359436</span>"
            ],
            "text/plain": [
              "<IPython.core.display.HTML object>"
            ]
          },
          "metadata": {
            "tags": []
          }
        },
        {
          "output_type": "display_data",
          "data": {
            "text/html": [
              "<span style=\"color:cyan\"> |-Best step: 0</span>"
            ],
            "text/plain": [
              "<IPython.core.display.HTML object>"
            ]
          },
          "metadata": {
            "tags": []
          }
        },
        {
          "output_type": "display_data",
          "data": {
            "text/html": [
              "<span style=\"color:#7E57C2\"><h2 style=\"font-size:16px\">Hyperparameters:</h2></span>"
            ],
            "text/plain": [
              "<IPython.core.display.HTML object>"
            ]
          },
          "metadata": {
            "tags": []
          }
        },
        {
          "output_type": "display_data",
          "data": {
            "text/html": [
              "<span style=\"color:cyan\"> |-cnn_activation: relu</span>"
            ],
            "text/plain": [
              "<IPython.core.display.HTML object>"
            ]
          },
          "metadata": {
            "tags": []
          }
        },
        {
          "output_type": "display_data",
          "data": {
            "text/html": [
              "<span style=\"color:blue\"> |-dense_activation: relu</span>"
            ],
            "text/plain": [
              "<IPython.core.display.HTML object>"
            ]
          },
          "metadata": {
            "tags": []
          }
        },
        {
          "output_type": "display_data",
          "data": {
            "text/html": [
              "<span style=\"color:cyan\"> |-dropout_1: 0.35000000000000003</span>"
            ],
            "text/plain": [
              "<IPython.core.display.HTML object>"
            ]
          },
          "metadata": {
            "tags": []
          }
        },
        {
          "output_type": "display_data",
          "data": {
            "text/html": [
              "<span style=\"color:blue\"> |-learning_rate: 0.0007122389449044969</span>"
            ],
            "text/plain": [
              "<IPython.core.display.HTML object>"
            ]
          },
          "metadata": {
            "tags": []
          }
        },
        {
          "output_type": "display_data",
          "data": {
            "text/html": [
              "<span style=\"color:cyan\"> |-num_filters: 128</span>"
            ],
            "text/plain": [
              "<IPython.core.display.HTML object>"
            ]
          },
          "metadata": {
            "tags": []
          }
        },
        {
          "output_type": "display_data",
          "data": {
            "text/html": [
              "<span style=\"color:blue\"> |-padding: valid</span>"
            ],
            "text/plain": [
              "<IPython.core.display.HTML object>"
            ]
          },
          "metadata": {
            "tags": []
          }
        },
        {
          "output_type": "display_data",
          "data": {
            "text/html": [
              "<span style=\"color:cyan\"> |-tuner/bracket: 1</span>"
            ],
            "text/plain": [
              "<IPython.core.display.HTML object>"
            ]
          },
          "metadata": {
            "tags": []
          }
        },
        {
          "output_type": "display_data",
          "data": {
            "text/html": [
              "<span style=\"color:blue\"> |-tuner/epochs: 4</span>"
            ],
            "text/plain": [
              "<IPython.core.display.HTML object>"
            ]
          },
          "metadata": {
            "tags": []
          }
        },
        {
          "output_type": "display_data",
          "data": {
            "text/html": [
              "<span style=\"color:cyan\"> |-tuner/initial_epoch: 0</span>"
            ],
            "text/plain": [
              "<IPython.core.display.HTML object>"
            ]
          },
          "metadata": {
            "tags": []
          }
        },
        {
          "output_type": "display_data",
          "data": {
            "text/html": [
              "<span style=\"color:blue\"> |-tuner/round: 0</span>"
            ],
            "text/plain": [
              "<IPython.core.display.HTML object>"
            ]
          },
          "metadata": {
            "tags": []
          }
        },
        {
          "output_type": "display_data",
          "data": {
            "text/html": [
              "<span style=\"color:cyan\"> |-units: 448</span>"
            ],
            "text/plain": [
              "<IPython.core.display.HTML object>"
            ]
          },
          "metadata": {
            "tags": []
          }
        },
        {
          "output_type": "stream",
          "text": [
            "Epoch 1/4\n",
            "1563/1563 [==============================] - 34s 21ms/step - loss: 1.7491 - accuracy: 0.3767 - val_loss: 1.7653 - val_accuracy: 0.4369\n",
            "Epoch 2/4\n",
            "1563/1563 [==============================] - 33s 21ms/step - loss: 1.4409 - accuracy: 0.4866 - val_loss: 1.3573 - val_accuracy: 0.5551\n",
            "Epoch 3/4\n",
            "1563/1563 [==============================] - 33s 21ms/step - loss: 1.2617 - accuracy: 0.5563 - val_loss: 1.2040 - val_accuracy: 0.5768\n",
            "Epoch 4/4\n",
            "1563/1563 [==============================] - 33s 21ms/step - loss: 1.1398 - accuracy: 0.5998 - val_loss: 1.0906 - val_accuracy: 0.6148\n",
            "Epoch 1/4\n",
            "1563/1563 [==============================] - 34s 21ms/step - loss: 1.7827 - accuracy: 0.3693 - val_loss: 2.5961 - val_accuracy: 0.3902\n",
            "Epoch 2/4\n",
            "1563/1563 [==============================] - 33s 21ms/step - loss: 1.4935 - accuracy: 0.4669 - val_loss: 1.4613 - val_accuracy: 0.5004\n",
            "Epoch 3/4\n",
            "1563/1563 [==============================] - 33s 21ms/step - loss: 1.3424 - accuracy: 0.5264 - val_loss: 1.2919 - val_accuracy: 0.5461\n",
            "Epoch 4/4\n",
            "1563/1563 [==============================] - 33s 21ms/step - loss: 1.1826 - accuracy: 0.5847 - val_loss: 1.1041 - val_accuracy: 0.6143\n"
          ],
          "name": "stdout"
        },
        {
          "output_type": "display_data",
          "data": {
            "text/html": [
              "<span style=\"color:#4527A0\"><h1 style=\"font-size:18px\">Trial complete</h1></span>"
            ],
            "text/plain": [
              "<IPython.core.display.HTML object>"
            ]
          },
          "metadata": {
            "tags": []
          }
        },
        {
          "output_type": "display_data",
          "data": {
            "text/html": [
              "<span style=\"color:#4527A0\"><h1 style=\"font-size:18px\">Trial summary</h1></span>"
            ],
            "text/plain": [
              "<IPython.core.display.HTML object>"
            ]
          },
          "metadata": {
            "tags": []
          }
        },
        {
          "output_type": "display_data",
          "data": {
            "text/html": [
              "<span style=\"color:cyan\"> |-Trial ID: ade1ab1ca6374f51b6579e2267447bd9</span>"
            ],
            "text/plain": [
              "<IPython.core.display.HTML object>"
            ]
          },
          "metadata": {
            "tags": []
          }
        },
        {
          "output_type": "display_data",
          "data": {
            "text/html": [
              "<span style=\"color:cyan\"> |-Score: 0.614549994468689</span>"
            ],
            "text/plain": [
              "<IPython.core.display.HTML object>"
            ]
          },
          "metadata": {
            "tags": []
          }
        },
        {
          "output_type": "display_data",
          "data": {
            "text/html": [
              "<span style=\"color:cyan\"> |-Best step: 0</span>"
            ],
            "text/plain": [
              "<IPython.core.display.HTML object>"
            ]
          },
          "metadata": {
            "tags": []
          }
        },
        {
          "output_type": "display_data",
          "data": {
            "text/html": [
              "<span style=\"color:#7E57C2\"><h2 style=\"font-size:16px\">Hyperparameters:</h2></span>"
            ],
            "text/plain": [
              "<IPython.core.display.HTML object>"
            ]
          },
          "metadata": {
            "tags": []
          }
        },
        {
          "output_type": "display_data",
          "data": {
            "text/html": [
              "<span style=\"color:cyan\"> |-cnn_activation: relu</span>"
            ],
            "text/plain": [
              "<IPython.core.display.HTML object>"
            ]
          },
          "metadata": {
            "tags": []
          }
        },
        {
          "output_type": "display_data",
          "data": {
            "text/html": [
              "<span style=\"color:blue\"> |-dense_activation: tanh</span>"
            ],
            "text/plain": [
              "<IPython.core.display.HTML object>"
            ]
          },
          "metadata": {
            "tags": []
          }
        },
        {
          "output_type": "display_data",
          "data": {
            "text/html": [
              "<span style=\"color:cyan\"> |-dropout_1: 0.45</span>"
            ],
            "text/plain": [
              "<IPython.core.display.HTML object>"
            ]
          },
          "metadata": {
            "tags": []
          }
        },
        {
          "output_type": "display_data",
          "data": {
            "text/html": [
              "<span style=\"color:blue\"> |-learning_rate: 0.00013968619216753888</span>"
            ],
            "text/plain": [
              "<IPython.core.display.HTML object>"
            ]
          },
          "metadata": {
            "tags": []
          }
        },
        {
          "output_type": "display_data",
          "data": {
            "text/html": [
              "<span style=\"color:cyan\"> |-num_filters: 128</span>"
            ],
            "text/plain": [
              "<IPython.core.display.HTML object>"
            ]
          },
          "metadata": {
            "tags": []
          }
        },
        {
          "output_type": "display_data",
          "data": {
            "text/html": [
              "<span style=\"color:blue\"> |-padding: same</span>"
            ],
            "text/plain": [
              "<IPython.core.display.HTML object>"
            ]
          },
          "metadata": {
            "tags": []
          }
        },
        {
          "output_type": "display_data",
          "data": {
            "text/html": [
              "<span style=\"color:cyan\"> |-tuner/bracket: 1</span>"
            ],
            "text/plain": [
              "<IPython.core.display.HTML object>"
            ]
          },
          "metadata": {
            "tags": []
          }
        },
        {
          "output_type": "display_data",
          "data": {
            "text/html": [
              "<span style=\"color:blue\"> |-tuner/epochs: 4</span>"
            ],
            "text/plain": [
              "<IPython.core.display.HTML object>"
            ]
          },
          "metadata": {
            "tags": []
          }
        },
        {
          "output_type": "display_data",
          "data": {
            "text/html": [
              "<span style=\"color:cyan\"> |-tuner/initial_epoch: 0</span>"
            ],
            "text/plain": [
              "<IPython.core.display.HTML object>"
            ]
          },
          "metadata": {
            "tags": []
          }
        },
        {
          "output_type": "display_data",
          "data": {
            "text/html": [
              "<span style=\"color:blue\"> |-tuner/round: 0</span>"
            ],
            "text/plain": [
              "<IPython.core.display.HTML object>"
            ]
          },
          "metadata": {
            "tags": []
          }
        },
        {
          "output_type": "display_data",
          "data": {
            "text/html": [
              "<span style=\"color:cyan\"> |-units: 160</span>"
            ],
            "text/plain": [
              "<IPython.core.display.HTML object>"
            ]
          },
          "metadata": {
            "tags": []
          }
        },
        {
          "output_type": "stream",
          "text": [
            "Epoch 5/10\n",
            "1563/1563 [==============================] - 33s 21ms/step - loss: 1.3718 - accuracy: 0.5371 - val_loss: 1.0115 - val_accuracy: 0.6510\n",
            "Epoch 6/10\n",
            "1563/1563 [==============================] - 33s 21ms/step - loss: 0.8532 - accuracy: 0.7040 - val_loss: 0.8030 - val_accuracy: 0.7154\n",
            "Epoch 7/10\n",
            "1563/1563 [==============================] - 33s 21ms/step - loss: 0.7032 - accuracy: 0.7550 - val_loss: 0.7252 - val_accuracy: 0.7505\n",
            "Epoch 8/10\n",
            "1563/1563 [==============================] - 33s 21ms/step - loss: 0.5886 - accuracy: 0.7952 - val_loss: 0.6216 - val_accuracy: 0.7864\n",
            "Epoch 9/10\n",
            "1563/1563 [==============================] - 33s 21ms/step - loss: 0.4855 - accuracy: 0.8308 - val_loss: 0.6454 - val_accuracy: 0.7896\n",
            "Epoch 10/10\n",
            "1563/1563 [==============================] - 33s 21ms/step - loss: 0.4110 - accuracy: 0.8566 - val_loss: 0.6551 - val_accuracy: 0.7937\n",
            "Epoch 5/10\n",
            "1563/1563 [==============================] - 33s 21ms/step - loss: 1.3961 - accuracy: 0.5268 - val_loss: 1.3700 - val_accuracy: 0.5615\n",
            "Epoch 6/10\n",
            "1563/1563 [==============================] - 32s 21ms/step - loss: 0.8743 - accuracy: 0.6940 - val_loss: 0.8834 - val_accuracy: 0.6960\n",
            "Epoch 7/10\n",
            "1563/1563 [==============================] - 32s 21ms/step - loss: 0.7185 - accuracy: 0.7505 - val_loss: 0.7584 - val_accuracy: 0.7450\n",
            "Epoch 8/10\n",
            "1563/1563 [==============================] - 32s 21ms/step - loss: 0.6057 - accuracy: 0.7891 - val_loss: 0.7858 - val_accuracy: 0.7437\n",
            "Epoch 9/10\n",
            "1563/1563 [==============================] - 33s 21ms/step - loss: 0.5116 - accuracy: 0.8197 - val_loss: 0.6090 - val_accuracy: 0.7942\n",
            "Epoch 10/10\n",
            "1563/1563 [==============================] - 33s 21ms/step - loss: 0.4140 - accuracy: 0.8556 - val_loss: 0.6288 - val_accuracy: 0.7984\n"
          ],
          "name": "stdout"
        },
        {
          "output_type": "display_data",
          "data": {
            "text/html": [
              "<span style=\"color:#4527A0\"><h1 style=\"font-size:18px\">Trial complete</h1></span>"
            ],
            "text/plain": [
              "<IPython.core.display.HTML object>"
            ]
          },
          "metadata": {
            "tags": []
          }
        },
        {
          "output_type": "display_data",
          "data": {
            "text/html": [
              "<span style=\"color:#4527A0\"><h1 style=\"font-size:18px\">Trial summary</h1></span>"
            ],
            "text/plain": [
              "<IPython.core.display.HTML object>"
            ]
          },
          "metadata": {
            "tags": []
          }
        },
        {
          "output_type": "display_data",
          "data": {
            "text/html": [
              "<span style=\"color:cyan\"> |-Trial ID: aaa2999c092780d7e9e7f95f8083d249</span>"
            ],
            "text/plain": [
              "<IPython.core.display.HTML object>"
            ]
          },
          "metadata": {
            "tags": []
          }
        },
        {
          "output_type": "display_data",
          "data": {
            "text/html": [
              "<span style=\"color:cyan\"> |-Score: 0.7960499823093414</span>"
            ],
            "text/plain": [
              "<IPython.core.display.HTML object>"
            ]
          },
          "metadata": {
            "tags": []
          }
        },
        {
          "output_type": "display_data",
          "data": {
            "text/html": [
              "<span style=\"color:cyan\"> |-Best step: 0</span>"
            ],
            "text/plain": [
              "<IPython.core.display.HTML object>"
            ]
          },
          "metadata": {
            "tags": []
          }
        },
        {
          "output_type": "display_data",
          "data": {
            "text/html": [
              "<span style=\"color:#7E57C2\"><h2 style=\"font-size:16px\">Hyperparameters:</h2></span>"
            ],
            "text/plain": [
              "<IPython.core.display.HTML object>"
            ]
          },
          "metadata": {
            "tags": []
          }
        },
        {
          "output_type": "display_data",
          "data": {
            "text/html": [
              "<span style=\"color:cyan\"> |-cnn_activation: relu</span>"
            ],
            "text/plain": [
              "<IPython.core.display.HTML object>"
            ]
          },
          "metadata": {
            "tags": []
          }
        },
        {
          "output_type": "display_data",
          "data": {
            "text/html": [
              "<span style=\"color:blue\"> |-dense_activation: relu</span>"
            ],
            "text/plain": [
              "<IPython.core.display.HTML object>"
            ]
          },
          "metadata": {
            "tags": []
          }
        },
        {
          "output_type": "display_data",
          "data": {
            "text/html": [
              "<span style=\"color:cyan\"> |-dropout_1: 0.35000000000000003</span>"
            ],
            "text/plain": [
              "<IPython.core.display.HTML object>"
            ]
          },
          "metadata": {
            "tags": []
          }
        },
        {
          "output_type": "display_data",
          "data": {
            "text/html": [
              "<span style=\"color:blue\"> |-learning_rate: 0.0007122389449044969</span>"
            ],
            "text/plain": [
              "<IPython.core.display.HTML object>"
            ]
          },
          "metadata": {
            "tags": []
          }
        },
        {
          "output_type": "display_data",
          "data": {
            "text/html": [
              "<span style=\"color:cyan\"> |-num_filters: 128</span>"
            ],
            "text/plain": [
              "<IPython.core.display.HTML object>"
            ]
          },
          "metadata": {
            "tags": []
          }
        },
        {
          "output_type": "display_data",
          "data": {
            "text/html": [
              "<span style=\"color:blue\"> |-padding: valid</span>"
            ],
            "text/plain": [
              "<IPython.core.display.HTML object>"
            ]
          },
          "metadata": {
            "tags": []
          }
        },
        {
          "output_type": "display_data",
          "data": {
            "text/html": [
              "<span style=\"color:cyan\"> |-tuner/bracket: 1</span>"
            ],
            "text/plain": [
              "<IPython.core.display.HTML object>"
            ]
          },
          "metadata": {
            "tags": []
          }
        },
        {
          "output_type": "display_data",
          "data": {
            "text/html": [
              "<span style=\"color:blue\"> |-tuner/epochs: 10</span>"
            ],
            "text/plain": [
              "<IPython.core.display.HTML object>"
            ]
          },
          "metadata": {
            "tags": []
          }
        },
        {
          "output_type": "display_data",
          "data": {
            "text/html": [
              "<span style=\"color:cyan\"> |-tuner/initial_epoch: 4</span>"
            ],
            "text/plain": [
              "<IPython.core.display.HTML object>"
            ]
          },
          "metadata": {
            "tags": []
          }
        },
        {
          "output_type": "display_data",
          "data": {
            "text/html": [
              "<span style=\"color:blue\"> |-tuner/round: 1</span>"
            ],
            "text/plain": [
              "<IPython.core.display.HTML object>"
            ]
          },
          "metadata": {
            "tags": []
          }
        },
        {
          "output_type": "display_data",
          "data": {
            "text/html": [
              "<span style=\"color:cyan\"> |-tuner/trial_id: 6c140b6150ad6c1ff3e5e34cab87b7f7</span>"
            ],
            "text/plain": [
              "<IPython.core.display.HTML object>"
            ]
          },
          "metadata": {
            "tags": []
          }
        },
        {
          "output_type": "display_data",
          "data": {
            "text/html": [
              "<span style=\"color:blue\"> |-units: 448</span>"
            ],
            "text/plain": [
              "<IPython.core.display.HTML object>"
            ]
          },
          "metadata": {
            "tags": []
          }
        },
        {
          "output_type": "stream",
          "text": [
            "Epoch 5/10\n",
            "1563/1563 [==============================] - 42s 27ms/step - loss: 1.7663 - accuracy: 0.3752 - val_loss: 1.4178 - val_accuracy: 0.4865\n",
            "Epoch 6/10\n",
            "1563/1563 [==============================] - 42s 27ms/step - loss: 1.3622 - accuracy: 0.5101 - val_loss: 1.1858 - val_accuracy: 0.5700\n",
            "Epoch 7/10\n",
            "1563/1563 [==============================] - 42s 27ms/step - loss: 1.2325 - accuracy: 0.5629 - val_loss: 1.1749 - val_accuracy: 0.5710\n",
            "Epoch 8/10\n",
            "1563/1563 [==============================] - 42s 27ms/step - loss: 1.1505 - accuracy: 0.5929 - val_loss: 1.1661 - val_accuracy: 0.5826\n",
            "Epoch 9/10\n",
            "1563/1563 [==============================] - 42s 27ms/step - loss: 1.0968 - accuracy: 0.6138 - val_loss: 1.7676 - val_accuracy: 0.4035\n",
            "Epoch 10/10\n",
            "1563/1563 [==============================] - 42s 27ms/step - loss: 1.0559 - accuracy: 0.6294 - val_loss: 1.0173 - val_accuracy: 0.6471\n",
            "Epoch 5/10\n",
            "1563/1563 [==============================] - 42s 27ms/step - loss: 1.7549 - accuracy: 0.3725 - val_loss: 1.7329 - val_accuracy: 0.3859\n",
            "Epoch 6/10\n",
            "1563/1563 [==============================] - 42s 27ms/step - loss: 1.3624 - accuracy: 0.5078 - val_loss: 1.6234 - val_accuracy: 0.4499\n",
            "Epoch 7/10\n",
            "1563/1563 [==============================] - 42s 27ms/step - loss: 1.2072 - accuracy: 0.5704 - val_loss: 1.2955 - val_accuracy: 0.5403\n",
            "Epoch 8/10\n",
            "1563/1563 [==============================] - 42s 27ms/step - loss: 1.1167 - accuracy: 0.6070 - val_loss: 1.6205 - val_accuracy: 0.4493\n",
            "Epoch 9/10\n",
            "1563/1563 [==============================] - 42s 27ms/step - loss: 1.0750 - accuracy: 0.6242 - val_loss: 1.0275 - val_accuracy: 0.6371\n",
            "Epoch 10/10\n",
            "1563/1563 [==============================] - 42s 27ms/step - loss: 1.0399 - accuracy: 0.6338 - val_loss: 0.9859 - val_accuracy: 0.6497\n"
          ],
          "name": "stdout"
        },
        {
          "output_type": "display_data",
          "data": {
            "text/html": [
              "<span style=\"color:#4527A0\"><h1 style=\"font-size:18px\">Trial complete</h1></span>"
            ],
            "text/plain": [
              "<IPython.core.display.HTML object>"
            ]
          },
          "metadata": {
            "tags": []
          }
        },
        {
          "output_type": "display_data",
          "data": {
            "text/html": [
              "<span style=\"color:#4527A0\"><h1 style=\"font-size:18px\">Trial summary</h1></span>"
            ],
            "text/plain": [
              "<IPython.core.display.HTML object>"
            ]
          },
          "metadata": {
            "tags": []
          }
        },
        {
          "output_type": "display_data",
          "data": {
            "text/html": [
              "<span style=\"color:cyan\"> |-Trial ID: a2b01799d208518c0b78f1bd8e614a25</span>"
            ],
            "text/plain": [
              "<IPython.core.display.HTML object>"
            ]
          },
          "metadata": {
            "tags": []
          }
        },
        {
          "output_type": "display_data",
          "data": {
            "text/html": [
              "<span style=\"color:cyan\"> |-Score: 0.6483999788761139</span>"
            ],
            "text/plain": [
              "<IPython.core.display.HTML object>"
            ]
          },
          "metadata": {
            "tags": []
          }
        },
        {
          "output_type": "display_data",
          "data": {
            "text/html": [
              "<span style=\"color:cyan\"> |-Best step: 0</span>"
            ],
            "text/plain": [
              "<IPython.core.display.HTML object>"
            ]
          },
          "metadata": {
            "tags": []
          }
        },
        {
          "output_type": "display_data",
          "data": {
            "text/html": [
              "<span style=\"color:#7E57C2\"><h2 style=\"font-size:16px\">Hyperparameters:</h2></span>"
            ],
            "text/plain": [
              "<IPython.core.display.HTML object>"
            ]
          },
          "metadata": {
            "tags": []
          }
        },
        {
          "output_type": "display_data",
          "data": {
            "text/html": [
              "<span style=\"color:cyan\"> |-cnn_activation: relu</span>"
            ],
            "text/plain": [
              "<IPython.core.display.HTML object>"
            ]
          },
          "metadata": {
            "tags": []
          }
        },
        {
          "output_type": "display_data",
          "data": {
            "text/html": [
              "<span style=\"color:blue\"> |-dense_activation: sigmoid</span>"
            ],
            "text/plain": [
              "<IPython.core.display.HTML object>"
            ]
          },
          "metadata": {
            "tags": []
          }
        },
        {
          "output_type": "display_data",
          "data": {
            "text/html": [
              "<span style=\"color:cyan\"> |-dropout_1: 0.5</span>"
            ],
            "text/plain": [
              "<IPython.core.display.HTML object>"
            ]
          },
          "metadata": {
            "tags": []
          }
        },
        {
          "output_type": "display_data",
          "data": {
            "text/html": [
              "<span style=\"color:blue\"> |-learning_rate: 0.0005704251931830293</span>"
            ],
            "text/plain": [
              "<IPython.core.display.HTML object>"
            ]
          },
          "metadata": {
            "tags": []
          }
        },
        {
          "output_type": "display_data",
          "data": {
            "text/html": [
              "<span style=\"color:cyan\"> |-num_filters: 162</span>"
            ],
            "text/plain": [
              "<IPython.core.display.HTML object>"
            ]
          },
          "metadata": {
            "tags": []
          }
        },
        {
          "output_type": "display_data",
          "data": {
            "text/html": [
              "<span style=\"color:blue\"> |-padding: same</span>"
            ],
            "text/plain": [
              "<IPython.core.display.HTML object>"
            ]
          },
          "metadata": {
            "tags": []
          }
        },
        {
          "output_type": "display_data",
          "data": {
            "text/html": [
              "<span style=\"color:cyan\"> |-tuner/bracket: 1</span>"
            ],
            "text/plain": [
              "<IPython.core.display.HTML object>"
            ]
          },
          "metadata": {
            "tags": []
          }
        },
        {
          "output_type": "display_data",
          "data": {
            "text/html": [
              "<span style=\"color:blue\"> |-tuner/epochs: 10</span>"
            ],
            "text/plain": [
              "<IPython.core.display.HTML object>"
            ]
          },
          "metadata": {
            "tags": []
          }
        },
        {
          "output_type": "display_data",
          "data": {
            "text/html": [
              "<span style=\"color:cyan\"> |-tuner/initial_epoch: 4</span>"
            ],
            "text/plain": [
              "<IPython.core.display.HTML object>"
            ]
          },
          "metadata": {
            "tags": []
          }
        },
        {
          "output_type": "display_data",
          "data": {
            "text/html": [
              "<span style=\"color:blue\"> |-tuner/round: 1</span>"
            ],
            "text/plain": [
              "<IPython.core.display.HTML object>"
            ]
          },
          "metadata": {
            "tags": []
          }
        },
        {
          "output_type": "display_data",
          "data": {
            "text/html": [
              "<span style=\"color:cyan\"> |-tuner/trial_id: c3c444fe023a0fe21a4c904d260eddf9</span>"
            ],
            "text/plain": [
              "<IPython.core.display.HTML object>"
            ]
          },
          "metadata": {
            "tags": []
          }
        },
        {
          "output_type": "display_data",
          "data": {
            "text/html": [
              "<span style=\"color:blue\"> |-units: 192</span>"
            ],
            "text/plain": [
              "<IPython.core.display.HTML object>"
            ]
          },
          "metadata": {
            "tags": []
          }
        },
        {
          "output_type": "stream",
          "text": [
            "Epoch 1/10\n",
            "1563/1563 [==============================] - 32s 20ms/step - loss: 1.5589 - accuracy: 0.4548 - val_loss: 2.0851 - val_accuracy: 0.4486\n",
            "Epoch 2/10\n",
            "1563/1563 [==============================] - 32s 20ms/step - loss: 1.1871 - accuracy: 0.5806 - val_loss: 2.0185 - val_accuracy: 0.4674\n",
            "Epoch 3/10\n",
            "1563/1563 [==============================] - 32s 20ms/step - loss: 1.0286 - accuracy: 0.6395 - val_loss: 1.2698 - val_accuracy: 0.5874\n",
            "Epoch 4/10\n",
            "1563/1563 [==============================] - 32s 20ms/step - loss: 0.9336 - accuracy: 0.6740 - val_loss: 1.1890 - val_accuracy: 0.6132\n",
            "Epoch 5/10\n",
            "1563/1563 [==============================] - 32s 20ms/step - loss: 0.8501 - accuracy: 0.7044 - val_loss: 0.9170 - val_accuracy: 0.6952\n",
            "Epoch 6/10\n",
            "1563/1563 [==============================] - 31s 20ms/step - loss: 0.7846 - accuracy: 0.7276 - val_loss: 0.9720 - val_accuracy: 0.6812\n",
            "Epoch 7/10\n",
            "1563/1563 [==============================] - 32s 20ms/step - loss: 0.7159 - accuracy: 0.7497 - val_loss: 0.9557 - val_accuracy: 0.6915\n",
            "Epoch 8/10\n",
            "1563/1563 [==============================] - 32s 20ms/step - loss: 0.6742 - accuracy: 0.7660 - val_loss: 0.8843 - val_accuracy: 0.7083\n",
            "Epoch 9/10\n",
            "1563/1563 [==============================] - 32s 20ms/step - loss: 0.6230 - accuracy: 0.7837 - val_loss: 0.8283 - val_accuracy: 0.7279\n",
            "Epoch 10/10\n",
            "1563/1563 [==============================] - 32s 20ms/step - loss: 0.5804 - accuracy: 0.7980 - val_loss: 0.8029 - val_accuracy: 0.7358\n",
            "Epoch 1/10\n",
            "1563/1563 [==============================] - 32s 20ms/step - loss: 1.5519 - accuracy: 0.4495 - val_loss: 3.1334 - val_accuracy: 0.3338\n",
            "Epoch 2/10\n",
            "1563/1563 [==============================] - 32s 20ms/step - loss: 1.1990 - accuracy: 0.5767 - val_loss: 2.2131 - val_accuracy: 0.4195\n",
            "Epoch 3/10\n",
            "1563/1563 [==============================] - 32s 20ms/step - loss: 1.0443 - accuracy: 0.6348 - val_loss: 1.6699 - val_accuracy: 0.4978\n",
            "Epoch 4/10\n",
            "1563/1563 [==============================] - 32s 20ms/step - loss: 0.9425 - accuracy: 0.6716 - val_loss: 1.7841 - val_accuracy: 0.4770\n",
            "Epoch 5/10\n",
            "1563/1563 [==============================] - 32s 20ms/step - loss: 0.8631 - accuracy: 0.7018 - val_loss: 1.3302 - val_accuracy: 0.5810\n",
            "Epoch 6/10\n",
            "1563/1563 [==============================] - 31s 20ms/step - loss: 0.7868 - accuracy: 0.7264 - val_loss: 1.1209 - val_accuracy: 0.6502\n",
            "Epoch 7/10\n",
            "1563/1563 [==============================] - 32s 20ms/step - loss: 0.7321 - accuracy: 0.7452 - val_loss: 1.1320 - val_accuracy: 0.6355\n",
            "Epoch 8/10\n",
            "1563/1563 [==============================] - 31s 20ms/step - loss: 0.6791 - accuracy: 0.7629 - val_loss: 0.9995 - val_accuracy: 0.6792\n",
            "Epoch 9/10\n",
            "1563/1563 [==============================] - 31s 20ms/step - loss: 0.6368 - accuracy: 0.7787 - val_loss: 0.8605 - val_accuracy: 0.7154\n",
            "Epoch 10/10\n",
            "1563/1563 [==============================] - 31s 20ms/step - loss: 0.5989 - accuracy: 0.7916 - val_loss: 0.8566 - val_accuracy: 0.7203\n"
          ],
          "name": "stdout"
        },
        {
          "output_type": "display_data",
          "data": {
            "text/html": [
              "<span style=\"color:#4527A0\"><h1 style=\"font-size:18px\">Trial complete</h1></span>"
            ],
            "text/plain": [
              "<IPython.core.display.HTML object>"
            ]
          },
          "metadata": {
            "tags": []
          }
        },
        {
          "output_type": "display_data",
          "data": {
            "text/html": [
              "<span style=\"color:#4527A0\"><h1 style=\"font-size:18px\">Trial summary</h1></span>"
            ],
            "text/plain": [
              "<IPython.core.display.HTML object>"
            ]
          },
          "metadata": {
            "tags": []
          }
        },
        {
          "output_type": "display_data",
          "data": {
            "text/html": [
              "<span style=\"color:cyan\"> |-Trial ID: 4e4d35255f788f5bb2ca0ef6bfb44a56</span>"
            ],
            "text/plain": [
              "<IPython.core.display.HTML object>"
            ]
          },
          "metadata": {
            "tags": []
          }
        },
        {
          "output_type": "display_data",
          "data": {
            "text/html": [
              "<span style=\"color:cyan\"> |-Score: 0.728050023317337</span>"
            ],
            "text/plain": [
              "<IPython.core.display.HTML object>"
            ]
          },
          "metadata": {
            "tags": []
          }
        },
        {
          "output_type": "display_data",
          "data": {
            "text/html": [
              "<span style=\"color:cyan\"> |-Best step: 0</span>"
            ],
            "text/plain": [
              "<IPython.core.display.HTML object>"
            ]
          },
          "metadata": {
            "tags": []
          }
        },
        {
          "output_type": "display_data",
          "data": {
            "text/html": [
              "<span style=\"color:#7E57C2\"><h2 style=\"font-size:16px\">Hyperparameters:</h2></span>"
            ],
            "text/plain": [
              "<IPython.core.display.HTML object>"
            ]
          },
          "metadata": {
            "tags": []
          }
        },
        {
          "output_type": "display_data",
          "data": {
            "text/html": [
              "<span style=\"color:cyan\"> |-cnn_activation: relu</span>"
            ],
            "text/plain": [
              "<IPython.core.display.HTML object>"
            ]
          },
          "metadata": {
            "tags": []
          }
        },
        {
          "output_type": "display_data",
          "data": {
            "text/html": [
              "<span style=\"color:blue\"> |-dense_activation: tanh</span>"
            ],
            "text/plain": [
              "<IPython.core.display.HTML object>"
            ]
          },
          "metadata": {
            "tags": []
          }
        },
        {
          "output_type": "display_data",
          "data": {
            "text/html": [
              "<span style=\"color:cyan\"> |-dropout_1: 0.2</span>"
            ],
            "text/plain": [
              "<IPython.core.display.HTML object>"
            ]
          },
          "metadata": {
            "tags": []
          }
        },
        {
          "output_type": "display_data",
          "data": {
            "text/html": [
              "<span style=\"color:blue\"> |-learning_rate: 9.719978423652109e-05</span>"
            ],
            "text/plain": [
              "<IPython.core.display.HTML object>"
            ]
          },
          "metadata": {
            "tags": []
          }
        },
        {
          "output_type": "display_data",
          "data": {
            "text/html": [
              "<span style=\"color:cyan\"> |-num_filters: 128</span>"
            ],
            "text/plain": [
              "<IPython.core.display.HTML object>"
            ]
          },
          "metadata": {
            "tags": []
          }
        },
        {
          "output_type": "display_data",
          "data": {
            "text/html": [
              "<span style=\"color:blue\"> |-padding: valid</span>"
            ],
            "text/plain": [
              "<IPython.core.display.HTML object>"
            ]
          },
          "metadata": {
            "tags": []
          }
        },
        {
          "output_type": "display_data",
          "data": {
            "text/html": [
              "<span style=\"color:cyan\"> |-tuner/bracket: 0</span>"
            ],
            "text/plain": [
              "<IPython.core.display.HTML object>"
            ]
          },
          "metadata": {
            "tags": []
          }
        },
        {
          "output_type": "display_data",
          "data": {
            "text/html": [
              "<span style=\"color:blue\"> |-tuner/epochs: 10</span>"
            ],
            "text/plain": [
              "<IPython.core.display.HTML object>"
            ]
          },
          "metadata": {
            "tags": []
          }
        },
        {
          "output_type": "display_data",
          "data": {
            "text/html": [
              "<span style=\"color:cyan\"> |-tuner/initial_epoch: 0</span>"
            ],
            "text/plain": [
              "<IPython.core.display.HTML object>"
            ]
          },
          "metadata": {
            "tags": []
          }
        },
        {
          "output_type": "display_data",
          "data": {
            "text/html": [
              "<span style=\"color:blue\"> |-tuner/round: 0</span>"
            ],
            "text/plain": [
              "<IPython.core.display.HTML object>"
            ]
          },
          "metadata": {
            "tags": []
          }
        },
        {
          "output_type": "display_data",
          "data": {
            "text/html": [
              "<span style=\"color:cyan\"> |-units: 320</span>"
            ],
            "text/plain": [
              "<IPython.core.display.HTML object>"
            ]
          },
          "metadata": {
            "tags": []
          }
        },
        {
          "output_type": "stream",
          "text": [
            "Epoch 1/10\n",
            "1563/1563 [==============================] - 37s 23ms/step - loss: 1.2054 - accuracy: 0.5737 - val_loss: 2.5176 - val_accuracy: 0.5710\n",
            "Epoch 2/10\n",
            "1563/1563 [==============================] - 36s 23ms/step - loss: 0.8859 - accuracy: 0.6922 - val_loss: 1.2924 - val_accuracy: 0.5632\n",
            "Epoch 3/10\n",
            "1563/1563 [==============================] - 36s 23ms/step - loss: 0.7887 - accuracy: 0.7242 - val_loss: 0.7845 - val_accuracy: 0.7278\n",
            "Epoch 4/10\n",
            "1563/1563 [==============================] - 37s 23ms/step - loss: 0.6275 - accuracy: 0.7794 - val_loss: 0.7352 - val_accuracy: 0.7484\n",
            "Epoch 5/10\n",
            "1563/1563 [==============================] - 36s 23ms/step - loss: 0.5409 - accuracy: 0.8118 - val_loss: 0.6653 - val_accuracy: 0.7779\n",
            "Epoch 6/10\n",
            "1563/1563 [==============================] - 36s 23ms/step - loss: 0.4571 - accuracy: 0.8419 - val_loss: 0.7369 - val_accuracy: 0.7572\n",
            "Epoch 7/10\n",
            "1563/1563 [==============================] - 36s 23ms/step - loss: 0.3859 - accuracy: 0.8664 - val_loss: 0.8108 - val_accuracy: 0.7437\n",
            "Epoch 8/10\n",
            "1563/1563 [==============================] - 36s 23ms/step - loss: 0.3200 - accuracy: 0.8895 - val_loss: 0.6333 - val_accuracy: 0.7973\n",
            "Epoch 9/10\n",
            "1563/1563 [==============================] - 36s 23ms/step - loss: 0.2662 - accuracy: 0.9086 - val_loss: 0.7354 - val_accuracy: 0.7787\n",
            "Epoch 10/10\n",
            "1563/1563 [==============================] - 36s 23ms/step - loss: 0.2296 - accuracy: 0.9213 - val_loss: 0.6905 - val_accuracy: 0.7935\n",
            "Epoch 1/10\n",
            "1563/1563 [==============================] - 37s 23ms/step - loss: 1.2217 - accuracy: 0.5718 - val_loss: 6.7115 - val_accuracy: 0.4303\n",
            "Epoch 2/10\n",
            "1563/1563 [==============================] - 36s 23ms/step - loss: 0.8916 - accuracy: 0.6901 - val_loss: 0.9775 - val_accuracy: 0.6651\n",
            "Epoch 3/10\n",
            "1563/1563 [==============================] - 36s 23ms/step - loss: 0.7648 - accuracy: 0.7314 - val_loss: 0.7710 - val_accuracy: 0.7307\n",
            "Epoch 4/10\n",
            "1563/1563 [==============================] - 36s 23ms/step - loss: 0.6348 - accuracy: 0.7808 - val_loss: 0.7134 - val_accuracy: 0.7530\n",
            "Epoch 5/10\n",
            "1563/1563 [==============================] - 36s 23ms/step - loss: 0.5443 - accuracy: 0.8121 - val_loss: 0.6722 - val_accuracy: 0.7707\n",
            "Epoch 6/10\n",
            "1563/1563 [==============================] - 36s 23ms/step - loss: 0.4600 - accuracy: 0.8401 - val_loss: 0.6995 - val_accuracy: 0.7675\n",
            "Epoch 7/10\n",
            "1563/1563 [==============================] - 36s 23ms/step - loss: 0.3857 - accuracy: 0.8666 - val_loss: 0.6903 - val_accuracy: 0.7762\n",
            "Epoch 8/10\n",
            "1563/1563 [==============================] - 36s 23ms/step - loss: 0.3197 - accuracy: 0.8905 - val_loss: 0.6366 - val_accuracy: 0.7942\n",
            "Epoch 9/10\n",
            "1563/1563 [==============================] - 36s 23ms/step - loss: 0.2717 - accuracy: 0.9062 - val_loss: 0.7470 - val_accuracy: 0.7621\n",
            "Epoch 10/10\n",
            "1563/1563 [==============================] - 36s 23ms/step - loss: 0.2279 - accuracy: 0.9233 - val_loss: 0.6814 - val_accuracy: 0.7900\n"
          ],
          "name": "stdout"
        },
        {
          "output_type": "display_data",
          "data": {
            "text/html": [
              "<span style=\"color:#4527A0\"><h1 style=\"font-size:18px\">Trial complete</h1></span>"
            ],
            "text/plain": [
              "<IPython.core.display.HTML object>"
            ]
          },
          "metadata": {
            "tags": []
          }
        },
        {
          "output_type": "display_data",
          "data": {
            "text/html": [
              "<span style=\"color:#4527A0\"><h1 style=\"font-size:18px\">Trial summary</h1></span>"
            ],
            "text/plain": [
              "<IPython.core.display.HTML object>"
            ]
          },
          "metadata": {
            "tags": []
          }
        },
        {
          "output_type": "display_data",
          "data": {
            "text/html": [
              "<span style=\"color:cyan\"> |-Trial ID: 82f73936f36bd5d4c35c1ea548179b63</span>"
            ],
            "text/plain": [
              "<IPython.core.display.HTML object>"
            ]
          },
          "metadata": {
            "tags": []
          }
        },
        {
          "output_type": "display_data",
          "data": {
            "text/html": [
              "<span style=\"color:cyan\"> |-Score: 0.7957499921321869</span>"
            ],
            "text/plain": [
              "<IPython.core.display.HTML object>"
            ]
          },
          "metadata": {
            "tags": []
          }
        },
        {
          "output_type": "display_data",
          "data": {
            "text/html": [
              "<span style=\"color:cyan\"> |-Best step: 0</span>"
            ],
            "text/plain": [
              "<IPython.core.display.HTML object>"
            ]
          },
          "metadata": {
            "tags": []
          }
        },
        {
          "output_type": "display_data",
          "data": {
            "text/html": [
              "<span style=\"color:#7E57C2\"><h2 style=\"font-size:16px\">Hyperparameters:</h2></span>"
            ],
            "text/plain": [
              "<IPython.core.display.HTML object>"
            ]
          },
          "metadata": {
            "tags": []
          }
        },
        {
          "output_type": "display_data",
          "data": {
            "text/html": [
              "<span style=\"color:cyan\"> |-cnn_activation: tanh</span>"
            ],
            "text/plain": [
              "<IPython.core.display.HTML object>"
            ]
          },
          "metadata": {
            "tags": []
          }
        },
        {
          "output_type": "display_data",
          "data": {
            "text/html": [
              "<span style=\"color:blue\"> |-dense_activation: relu</span>"
            ],
            "text/plain": [
              "<IPython.core.display.HTML object>"
            ]
          },
          "metadata": {
            "tags": []
          }
        },
        {
          "output_type": "display_data",
          "data": {
            "text/html": [
              "<span style=\"color:cyan\"> |-dropout_1: 0.0</span>"
            ],
            "text/plain": [
              "<IPython.core.display.HTML object>"
            ]
          },
          "metadata": {
            "tags": []
          }
        },
        {
          "output_type": "display_data",
          "data": {
            "text/html": [
              "<span style=\"color:blue\"> |-learning_rate: 0.0003492865635462057</span>"
            ],
            "text/plain": [
              "<IPython.core.display.HTML object>"
            ]
          },
          "metadata": {
            "tags": []
          }
        },
        {
          "output_type": "display_data",
          "data": {
            "text/html": [
              "<span style=\"color:cyan\"> |-num_filters: 162</span>"
            ],
            "text/plain": [
              "<IPython.core.display.HTML object>"
            ]
          },
          "metadata": {
            "tags": []
          }
        },
        {
          "output_type": "display_data",
          "data": {
            "text/html": [
              "<span style=\"color:blue\"> |-padding: valid</span>"
            ],
            "text/plain": [
              "<IPython.core.display.HTML object>"
            ]
          },
          "metadata": {
            "tags": []
          }
        },
        {
          "output_type": "display_data",
          "data": {
            "text/html": [
              "<span style=\"color:cyan\"> |-tuner/bracket: 0</span>"
            ],
            "text/plain": [
              "<IPython.core.display.HTML object>"
            ]
          },
          "metadata": {
            "tags": []
          }
        },
        {
          "output_type": "display_data",
          "data": {
            "text/html": [
              "<span style=\"color:blue\"> |-tuner/epochs: 10</span>"
            ],
            "text/plain": [
              "<IPython.core.display.HTML object>"
            ]
          },
          "metadata": {
            "tags": []
          }
        },
        {
          "output_type": "display_data",
          "data": {
            "text/html": [
              "<span style=\"color:cyan\"> |-tuner/initial_epoch: 0</span>"
            ],
            "text/plain": [
              "<IPython.core.display.HTML object>"
            ]
          },
          "metadata": {
            "tags": []
          }
        },
        {
          "output_type": "display_data",
          "data": {
            "text/html": [
              "<span style=\"color:blue\"> |-tuner/round: 0</span>"
            ],
            "text/plain": [
              "<IPython.core.display.HTML object>"
            ]
          },
          "metadata": {
            "tags": []
          }
        },
        {
          "output_type": "display_data",
          "data": {
            "text/html": [
              "<span style=\"color:cyan\"> |-units: 160</span>"
            ],
            "text/plain": [
              "<IPython.core.display.HTML object>"
            ]
          },
          "metadata": {
            "tags": []
          }
        },
        {
          "output_type": "stream",
          "text": [
            "Epoch 1/10\n",
            "1563/1563 [==============================] - 35s 22ms/step - loss: 1.4789 - accuracy: 0.4680 - val_loss: 1.5715 - val_accuracy: 0.4777\n",
            "Epoch 2/10\n",
            "1563/1563 [==============================] - 35s 22ms/step - loss: 1.1408 - accuracy: 0.5989 - val_loss: 1.2904 - val_accuracy: 0.5818\n",
            "Epoch 3/10\n",
            "1563/1563 [==============================] - 35s 22ms/step - loss: 1.0223 - accuracy: 0.6419 - val_loss: 1.2107 - val_accuracy: 0.6053\n",
            "Epoch 4/10\n",
            "1563/1563 [==============================] - 35s 22ms/step - loss: 0.9495 - accuracy: 0.6684 - val_loss: 1.0984 - val_accuracy: 0.6289\n",
            "Epoch 5/10\n",
            "1563/1563 [==============================] - 35s 22ms/step - loss: 0.8894 - accuracy: 0.6874 - val_loss: 0.9381 - val_accuracy: 0.6761\n",
            "Epoch 6/10\n",
            "1563/1563 [==============================] - 35s 22ms/step - loss: 0.8331 - accuracy: 0.7083 - val_loss: 0.9414 - val_accuracy: 0.6808\n",
            "Epoch 7/10\n",
            "1563/1563 [==============================] - 35s 22ms/step - loss: 0.7950 - accuracy: 0.7216 - val_loss: 0.9219 - val_accuracy: 0.6869\n",
            "Epoch 8/10\n",
            "1563/1563 [==============================] - 35s 22ms/step - loss: 0.7545 - accuracy: 0.7345 - val_loss: 0.9116 - val_accuracy: 0.6939\n",
            "Epoch 9/10\n",
            "1563/1563 [==============================] - 35s 22ms/step - loss: 0.7261 - accuracy: 0.7446 - val_loss: 0.8740 - val_accuracy: 0.7011\n",
            "Epoch 10/10\n",
            "1563/1563 [==============================] - 35s 22ms/step - loss: 0.7003 - accuracy: 0.7568 - val_loss: 0.8320 - val_accuracy: 0.7173\n",
            "Epoch 1/10\n",
            "1563/1563 [==============================] - 35s 22ms/step - loss: 1.4733 - accuracy: 0.4758 - val_loss: 2.1333 - val_accuracy: 0.4419\n",
            "Epoch 2/10\n",
            "1563/1563 [==============================] - 35s 22ms/step - loss: 1.1801 - accuracy: 0.5812 - val_loss: 1.4195 - val_accuracy: 0.5197\n",
            "Epoch 3/10\n",
            "1563/1563 [==============================] - 34s 22ms/step - loss: 1.0299 - accuracy: 0.6390 - val_loss: 1.4092 - val_accuracy: 0.5463\n",
            "Epoch 4/10\n",
            "1563/1563 [==============================] - 34s 22ms/step - loss: 0.9381 - accuracy: 0.6699 - val_loss: 1.0004 - val_accuracy: 0.6617\n",
            "Epoch 5/10\n",
            "1563/1563 [==============================] - 35s 22ms/step - loss: 0.8713 - accuracy: 0.6936 - val_loss: 0.9569 - val_accuracy: 0.6710\n",
            "Epoch 6/10\n",
            "1563/1563 [==============================] - 34s 22ms/step - loss: 0.8262 - accuracy: 0.7118 - val_loss: 1.0112 - val_accuracy: 0.6615\n",
            "Epoch 7/10\n",
            "1563/1563 [==============================] - 34s 22ms/step - loss: 0.7906 - accuracy: 0.7227 - val_loss: 1.1355 - val_accuracy: 0.6267\n",
            "Epoch 8/10\n",
            "1563/1563 [==============================] - 35s 22ms/step - loss: 0.7564 - accuracy: 0.7358 - val_loss: 0.9399 - val_accuracy: 0.6780\n",
            "Epoch 9/10\n",
            "1563/1563 [==============================] - 34s 22ms/step - loss: 0.7209 - accuracy: 0.7503 - val_loss: 0.8764 - val_accuracy: 0.7052\n",
            "Epoch 10/10\n",
            "1563/1563 [==============================] - 35s 22ms/step - loss: 0.6844 - accuracy: 0.7615 - val_loss: 0.9156 - val_accuracy: 0.6982\n"
          ],
          "name": "stdout"
        },
        {
          "output_type": "display_data",
          "data": {
            "text/html": [
              "<span style=\"color:#4527A0\"><h1 style=\"font-size:18px\">Trial complete</h1></span>"
            ],
            "text/plain": [
              "<IPython.core.display.HTML object>"
            ]
          },
          "metadata": {
            "tags": []
          }
        },
        {
          "output_type": "display_data",
          "data": {
            "text/html": [
              "<span style=\"color:#4527A0\"><h1 style=\"font-size:18px\">Trial summary</h1></span>"
            ],
            "text/plain": [
              "<IPython.core.display.HTML object>"
            ]
          },
          "metadata": {
            "tags": []
          }
        },
        {
          "output_type": "display_data",
          "data": {
            "text/html": [
              "<span style=\"color:cyan\"> |-Trial ID: d8491fc2b97f9ee74679d2851ba511e6</span>"
            ],
            "text/plain": [
              "<IPython.core.display.HTML object>"
            ]
          },
          "metadata": {
            "tags": []
          }
        },
        {
          "output_type": "display_data",
          "data": {
            "text/html": [
              "<span style=\"color:cyan\"> |-Score: 0.7112500071525574</span>"
            ],
            "text/plain": [
              "<IPython.core.display.HTML object>"
            ]
          },
          "metadata": {
            "tags": []
          }
        },
        {
          "output_type": "display_data",
          "data": {
            "text/html": [
              "<span style=\"color:cyan\"> |-Best step: 0</span>"
            ],
            "text/plain": [
              "<IPython.core.display.HTML object>"
            ]
          },
          "metadata": {
            "tags": []
          }
        },
        {
          "output_type": "display_data",
          "data": {
            "text/html": [
              "<span style=\"color:#7E57C2\"><h2 style=\"font-size:16px\">Hyperparameters:</h2></span>"
            ],
            "text/plain": [
              "<IPython.core.display.HTML object>"
            ]
          },
          "metadata": {
            "tags": []
          }
        },
        {
          "output_type": "display_data",
          "data": {
            "text/html": [
              "<span style=\"color:cyan\"> |-cnn_activation: tanh</span>"
            ],
            "text/plain": [
              "<IPython.core.display.HTML object>"
            ]
          },
          "metadata": {
            "tags": []
          }
        },
        {
          "output_type": "display_data",
          "data": {
            "text/html": [
              "<span style=\"color:blue\"> |-dense_activation: tanh</span>"
            ],
            "text/plain": [
              "<IPython.core.display.HTML object>"
            ]
          },
          "metadata": {
            "tags": []
          }
        },
        {
          "output_type": "display_data",
          "data": {
            "text/html": [
              "<span style=\"color:cyan\"> |-dropout_1: 0.05</span>"
            ],
            "text/plain": [
              "<IPython.core.display.HTML object>"
            ]
          },
          "metadata": {
            "tags": []
          }
        },
        {
          "output_type": "display_data",
          "data": {
            "text/html": [
              "<span style=\"color:blue\"> |-learning_rate: 0.000162360268482153</span>"
            ],
            "text/plain": [
              "<IPython.core.display.HTML object>"
            ]
          },
          "metadata": {
            "tags": []
          }
        },
        {
          "output_type": "display_data",
          "data": {
            "text/html": [
              "<span style=\"color:cyan\"> |-num_filters: 128</span>"
            ],
            "text/plain": [
              "<IPython.core.display.HTML object>"
            ]
          },
          "metadata": {
            "tags": []
          }
        },
        {
          "output_type": "display_data",
          "data": {
            "text/html": [
              "<span style=\"color:blue\"> |-padding: same</span>"
            ],
            "text/plain": [
              "<IPython.core.display.HTML object>"
            ]
          },
          "metadata": {
            "tags": []
          }
        },
        {
          "output_type": "display_data",
          "data": {
            "text/html": [
              "<span style=\"color:cyan\"> |-tuner/bracket: 0</span>"
            ],
            "text/plain": [
              "<IPython.core.display.HTML object>"
            ]
          },
          "metadata": {
            "tags": []
          }
        },
        {
          "output_type": "display_data",
          "data": {
            "text/html": [
              "<span style=\"color:blue\"> |-tuner/epochs: 10</span>"
            ],
            "text/plain": [
              "<IPython.core.display.HTML object>"
            ]
          },
          "metadata": {
            "tags": []
          }
        },
        {
          "output_type": "display_data",
          "data": {
            "text/html": [
              "<span style=\"color:cyan\"> |-tuner/initial_epoch: 0</span>"
            ],
            "text/plain": [
              "<IPython.core.display.HTML object>"
            ]
          },
          "metadata": {
            "tags": []
          }
        },
        {
          "output_type": "display_data",
          "data": {
            "text/html": [
              "<span style=\"color:blue\"> |-tuner/round: 0</span>"
            ],
            "text/plain": [
              "<IPython.core.display.HTML object>"
            ]
          },
          "metadata": {
            "tags": []
          }
        },
        {
          "output_type": "display_data",
          "data": {
            "text/html": [
              "<span style=\"color:cyan\"> |-units: 288</span>"
            ],
            "text/plain": [
              "<IPython.core.display.HTML object>"
            ]
          },
          "metadata": {
            "tags": []
          }
        },
        {
          "output_type": "stream",
          "text": [
            "Epoch 1/10\n",
            "1563/1563 [==============================] - 39s 25ms/step - loss: 2.1674 - accuracy: 0.3360 - val_loss: 5.8059 - val_accuracy: 0.3760\n",
            "Epoch 2/10\n",
            "1563/1563 [==============================] - 39s 25ms/step - loss: 1.6056 - accuracy: 0.4419 - val_loss: 4.4685 - val_accuracy: 0.4142\n",
            "Epoch 3/10\n",
            "1563/1563 [==============================] - 39s 25ms/step - loss: 1.4330 - accuracy: 0.4957 - val_loss: 3.3787 - val_accuracy: 0.4512\n",
            "Epoch 4/10\n",
            "1563/1563 [==============================] - 39s 25ms/step - loss: 1.3189 - accuracy: 0.5358 - val_loss: 2.9389 - val_accuracy: 0.4974\n",
            "Epoch 5/10\n",
            "1563/1563 [==============================] - 38s 25ms/step - loss: 1.2316 - accuracy: 0.5679 - val_loss: 2.7135 - val_accuracy: 0.4835\n",
            "Epoch 6/10\n",
            "1563/1563 [==============================] - 39s 25ms/step - loss: 1.1658 - accuracy: 0.5919 - val_loss: 2.1305 - val_accuracy: 0.5322\n",
            "Epoch 7/10\n",
            "1563/1563 [==============================] - 39s 25ms/step - loss: 1.1049 - accuracy: 0.6162 - val_loss: 1.7327 - val_accuracy: 0.5725\n",
            "Epoch 8/10\n",
            "1563/1563 [==============================] - 38s 24ms/step - loss: 1.0543 - accuracy: 0.6339 - val_loss: 1.9052 - val_accuracy: 0.5579\n",
            "Epoch 9/10\n",
            "1563/1563 [==============================] - 39s 25ms/step - loss: 0.9989 - accuracy: 0.6510 - val_loss: 1.5180 - val_accuracy: 0.5993\n",
            "Epoch 10/10\n",
            "1563/1563 [==============================] - 39s 25ms/step - loss: 0.9516 - accuracy: 0.6683 - val_loss: 1.4692 - val_accuracy: 0.6217\n",
            "Epoch 1/10\n",
            "1563/1563 [==============================] - 39s 25ms/step - loss: 2.0804 - accuracy: 0.3566 - val_loss: 4.5801 - val_accuracy: 0.3795\n",
            "Epoch 2/10\n",
            "1563/1563 [==============================] - 38s 25ms/step - loss: 1.5277 - accuracy: 0.4667 - val_loss: 4.4606 - val_accuracy: 0.4226\n",
            "Epoch 3/10\n",
            "1563/1563 [==============================] - 38s 24ms/step - loss: 1.3543 - accuracy: 0.5229 - val_loss: 3.9342 - val_accuracy: 0.4281\n",
            "Epoch 4/10\n",
            "1563/1563 [==============================] - 38s 24ms/step - loss: 1.2496 - accuracy: 0.5617 - val_loss: 2.7590 - val_accuracy: 0.4864\n",
            "Epoch 5/10\n",
            "1563/1563 [==============================] - 38s 24ms/step - loss: 1.1738 - accuracy: 0.5897 - val_loss: 2.0423 - val_accuracy: 0.5287\n",
            "Epoch 6/10\n",
            "1563/1563 [==============================] - 38s 24ms/step - loss: 1.0909 - accuracy: 0.6180 - val_loss: 2.4853 - val_accuracy: 0.4924\n",
            "Epoch 7/10\n",
            "1563/1563 [==============================] - 38s 25ms/step - loss: 1.0397 - accuracy: 0.6397 - val_loss: 1.9149 - val_accuracy: 0.5466\n",
            "Epoch 8/10\n",
            "1563/1563 [==============================] - 38s 24ms/step - loss: 0.9899 - accuracy: 0.6554 - val_loss: 2.0528 - val_accuracy: 0.5385\n",
            "Epoch 9/10\n",
            "1563/1563 [==============================] - 38s 24ms/step - loss: 0.9411 - accuracy: 0.6734 - val_loss: 1.8719 - val_accuracy: 0.5525\n",
            "Epoch 10/10\n",
            "1563/1563 [==============================] - 39s 25ms/step - loss: 0.9052 - accuracy: 0.6849 - val_loss: 1.4335 - val_accuracy: 0.6228\n"
          ],
          "name": "stdout"
        },
        {
          "output_type": "display_data",
          "data": {
            "text/html": [
              "<span style=\"color:#4527A0\"><h1 style=\"font-size:18px\">Trial complete</h1></span>"
            ],
            "text/plain": [
              "<IPython.core.display.HTML object>"
            ]
          },
          "metadata": {
            "tags": []
          }
        },
        {
          "output_type": "display_data",
          "data": {
            "text/html": [
              "<span style=\"color:#4527A0\"><h1 style=\"font-size:18px\">Trial summary</h1></span>"
            ],
            "text/plain": [
              "<IPython.core.display.HTML object>"
            ]
          },
          "metadata": {
            "tags": []
          }
        },
        {
          "output_type": "display_data",
          "data": {
            "text/html": [
              "<span style=\"color:cyan\"> |-Trial ID: 9508376024669bfcf800b2777dba4aee</span>"
            ],
            "text/plain": [
              "<IPython.core.display.HTML object>"
            ]
          },
          "metadata": {
            "tags": []
          }
        },
        {
          "output_type": "display_data",
          "data": {
            "text/html": [
              "<span style=\"color:cyan\"> |-Score: 0.6222499907016754</span>"
            ],
            "text/plain": [
              "<IPython.core.display.HTML object>"
            ]
          },
          "metadata": {
            "tags": []
          }
        },
        {
          "output_type": "display_data",
          "data": {
            "text/html": [
              "<span style=\"color:cyan\"> |-Best step: 0</span>"
            ],
            "text/plain": [
              "<IPython.core.display.HTML object>"
            ]
          },
          "metadata": {
            "tags": []
          }
        },
        {
          "output_type": "display_data",
          "data": {
            "text/html": [
              "<span style=\"color:#7E57C2\"><h2 style=\"font-size:16px\">Hyperparameters:</h2></span>"
            ],
            "text/plain": [
              "<IPython.core.display.HTML object>"
            ]
          },
          "metadata": {
            "tags": []
          }
        },
        {
          "output_type": "display_data",
          "data": {
            "text/html": [
              "<span style=\"color:cyan\"> |-cnn_activation: relu</span>"
            ],
            "text/plain": [
              "<IPython.core.display.HTML object>"
            ]
          },
          "metadata": {
            "tags": []
          }
        },
        {
          "output_type": "display_data",
          "data": {
            "text/html": [
              "<span style=\"color:blue\"> |-dense_activation: tanh</span>"
            ],
            "text/plain": [
              "<IPython.core.display.HTML object>"
            ]
          },
          "metadata": {
            "tags": []
          }
        },
        {
          "output_type": "display_data",
          "data": {
            "text/html": [
              "<span style=\"color:cyan\"> |-dropout_1: 0.5</span>"
            ],
            "text/plain": [
              "<IPython.core.display.HTML object>"
            ]
          },
          "metadata": {
            "tags": []
          }
        },
        {
          "output_type": "display_data",
          "data": {
            "text/html": [
              "<span style=\"color:blue\"> |-learning_rate: 2.5484998522774205e-05</span>"
            ],
            "text/plain": [
              "<IPython.core.display.HTML object>"
            ]
          },
          "metadata": {
            "tags": []
          }
        },
        {
          "output_type": "display_data",
          "data": {
            "text/html": [
              "<span style=\"color:cyan\"> |-num_filters: 162</span>"
            ],
            "text/plain": [
              "<IPython.core.display.HTML object>"
            ]
          },
          "metadata": {
            "tags": []
          }
        },
        {
          "output_type": "display_data",
          "data": {
            "text/html": [
              "<span style=\"color:blue\"> |-padding: valid</span>"
            ],
            "text/plain": [
              "<IPython.core.display.HTML object>"
            ]
          },
          "metadata": {
            "tags": []
          }
        },
        {
          "output_type": "display_data",
          "data": {
            "text/html": [
              "<span style=\"color:cyan\"> |-tuner/bracket: 0</span>"
            ],
            "text/plain": [
              "<IPython.core.display.HTML object>"
            ]
          },
          "metadata": {
            "tags": []
          }
        },
        {
          "output_type": "display_data",
          "data": {
            "text/html": [
              "<span style=\"color:blue\"> |-tuner/epochs: 10</span>"
            ],
            "text/plain": [
              "<IPython.core.display.HTML object>"
            ]
          },
          "metadata": {
            "tags": []
          }
        },
        {
          "output_type": "display_data",
          "data": {
            "text/html": [
              "<span style=\"color:cyan\"> |-tuner/initial_epoch: 0</span>"
            ],
            "text/plain": [
              "<IPython.core.display.HTML object>"
            ]
          },
          "metadata": {
            "tags": []
          }
        },
        {
          "output_type": "display_data",
          "data": {
            "text/html": [
              "<span style=\"color:blue\"> |-tuner/round: 0</span>"
            ],
            "text/plain": [
              "<IPython.core.display.HTML object>"
            ]
          },
          "metadata": {
            "tags": []
          }
        },
        {
          "output_type": "display_data",
          "data": {
            "text/html": [
              "<span style=\"color:cyan\"> |-units: 384</span>"
            ],
            "text/plain": [
              "<IPython.core.display.HTML object>"
            ]
          },
          "metadata": {
            "tags": []
          }
        },
        {
          "output_type": "stream",
          "text": [
            "INFO:tensorflow:Oracle triggered exit\n"
          ],
          "name": "stdout"
        },
        {
          "output_type": "display_data",
          "data": {
            "text/html": [
              "<span style=\"color:#4527A0\"><h1 style=\"font-size:18px\">Results summary</h1></span>"
            ],
            "text/plain": [
              "<IPython.core.display.HTML object>"
            ]
          },
          "metadata": {
            "tags": []
          }
        },
        {
          "output_type": "display_data",
          "data": {
            "text/html": [
              "<span style=\"color:cyan\"> |-Results in /content/drive/My Drive/Cifar-10_hyperband_tuner/simple_cnn_tuning</span>"
            ],
            "text/plain": [
              "<IPython.core.display.HTML object>"
            ]
          },
          "metadata": {
            "tags": []
          }
        },
        {
          "output_type": "display_data",
          "data": {
            "text/html": [
              "<span style=\"color:cyan\"> |-Showing 10 best trials</span>"
            ],
            "text/plain": [
              "<IPython.core.display.HTML object>"
            ]
          },
          "metadata": {
            "tags": []
          }
        },
        {
          "output_type": "display_data",
          "data": {
            "text/html": [
              "<span style=\"color:cyan\"> |-Objective(name='val_accuracy', direction='max')</span>"
            ],
            "text/plain": [
              "<IPython.core.display.HTML object>"
            ]
          },
          "metadata": {
            "tags": []
          }
        },
        {
          "output_type": "display_data",
          "data": {
            "text/html": [
              "<span style=\"color:#4527A0\"><h1 style=\"font-size:18px\">Trial summary</h1></span>"
            ],
            "text/plain": [
              "<IPython.core.display.HTML object>"
            ]
          },
          "metadata": {
            "tags": []
          }
        },
        {
          "output_type": "display_data",
          "data": {
            "text/html": [
              "<span style=\"color:cyan\"> |-Trial ID: f4f10411c2b0be81454b1ac591b61974</span>"
            ],
            "text/plain": [
              "<IPython.core.display.HTML object>"
            ]
          },
          "metadata": {
            "tags": []
          }
        },
        {
          "output_type": "display_data",
          "data": {
            "text/html": [
              "<span style=\"color:cyan\"> |-Score: 0.8007000088691711</span>"
            ],
            "text/plain": [
              "<IPython.core.display.HTML object>"
            ]
          },
          "metadata": {
            "tags": []
          }
        },
        {
          "output_type": "display_data",
          "data": {
            "text/html": [
              "<span style=\"color:cyan\"> |-Best step: 0</span>"
            ],
            "text/plain": [
              "<IPython.core.display.HTML object>"
            ]
          },
          "metadata": {
            "tags": []
          }
        },
        {
          "output_type": "display_data",
          "data": {
            "text/html": [
              "<span style=\"color:#7E57C2\"><h2 style=\"font-size:16px\">Hyperparameters:</h2></span>"
            ],
            "text/plain": [
              "<IPython.core.display.HTML object>"
            ]
          },
          "metadata": {
            "tags": []
          }
        },
        {
          "output_type": "display_data",
          "data": {
            "text/html": [
              "<span style=\"color:cyan\"> |-cnn_activation: relu</span>"
            ],
            "text/plain": [
              "<IPython.core.display.HTML object>"
            ]
          },
          "metadata": {
            "tags": []
          }
        },
        {
          "output_type": "display_data",
          "data": {
            "text/html": [
              "<span style=\"color:blue\"> |-dense_activation: relu</span>"
            ],
            "text/plain": [
              "<IPython.core.display.HTML object>"
            ]
          },
          "metadata": {
            "tags": []
          }
        },
        {
          "output_type": "display_data",
          "data": {
            "text/html": [
              "<span style=\"color:cyan\"> |-dropout_1: 0.05</span>"
            ],
            "text/plain": [
              "<IPython.core.display.HTML object>"
            ]
          },
          "metadata": {
            "tags": []
          }
        },
        {
          "output_type": "display_data",
          "data": {
            "text/html": [
              "<span style=\"color:blue\"> |-learning_rate: 0.0008547485565344062</span>"
            ],
            "text/plain": [
              "<IPython.core.display.HTML object>"
            ]
          },
          "metadata": {
            "tags": []
          }
        },
        {
          "output_type": "display_data",
          "data": {
            "text/html": [
              "<span style=\"color:cyan\"> |-num_filters: 162</span>"
            ],
            "text/plain": [
              "<IPython.core.display.HTML object>"
            ]
          },
          "metadata": {
            "tags": []
          }
        },
        {
          "output_type": "display_data",
          "data": {
            "text/html": [
              "<span style=\"color:blue\"> |-padding: valid</span>"
            ],
            "text/plain": [
              "<IPython.core.display.HTML object>"
            ]
          },
          "metadata": {
            "tags": []
          }
        },
        {
          "output_type": "display_data",
          "data": {
            "text/html": [
              "<span style=\"color:cyan\"> |-tuner/bracket: 2</span>"
            ],
            "text/plain": [
              "<IPython.core.display.HTML object>"
            ]
          },
          "metadata": {
            "tags": []
          }
        },
        {
          "output_type": "display_data",
          "data": {
            "text/html": [
              "<span style=\"color:blue\"> |-tuner/epochs: 10</span>"
            ],
            "text/plain": [
              "<IPython.core.display.HTML object>"
            ]
          },
          "metadata": {
            "tags": []
          }
        },
        {
          "output_type": "display_data",
          "data": {
            "text/html": [
              "<span style=\"color:cyan\"> |-tuner/initial_epoch: 4</span>"
            ],
            "text/plain": [
              "<IPython.core.display.HTML object>"
            ]
          },
          "metadata": {
            "tags": []
          }
        },
        {
          "output_type": "display_data",
          "data": {
            "text/html": [
              "<span style=\"color:blue\"> |-tuner/round: 2</span>"
            ],
            "text/plain": [
              "<IPython.core.display.HTML object>"
            ]
          },
          "metadata": {
            "tags": []
          }
        },
        {
          "output_type": "display_data",
          "data": {
            "text/html": [
              "<span style=\"color:cyan\"> |-tuner/trial_id: 654c638323a4926995bda54d79ecdb97</span>"
            ],
            "text/plain": [
              "<IPython.core.display.HTML object>"
            ]
          },
          "metadata": {
            "tags": []
          }
        },
        {
          "output_type": "display_data",
          "data": {
            "text/html": [
              "<span style=\"color:blue\"> |-units: 352</span>"
            ],
            "text/plain": [
              "<IPython.core.display.HTML object>"
            ]
          },
          "metadata": {
            "tags": []
          }
        },
        {
          "output_type": "display_data",
          "data": {
            "text/html": [
              "<span style=\"color:#4527A0\"><h1 style=\"font-size:18px\">Trial summary</h1></span>"
            ],
            "text/plain": [
              "<IPython.core.display.HTML object>"
            ]
          },
          "metadata": {
            "tags": []
          }
        },
        {
          "output_type": "display_data",
          "data": {
            "text/html": [
              "<span style=\"color:cyan\"> |-Trial ID: aaa2999c092780d7e9e7f95f8083d249</span>"
            ],
            "text/plain": [
              "<IPython.core.display.HTML object>"
            ]
          },
          "metadata": {
            "tags": []
          }
        },
        {
          "output_type": "display_data",
          "data": {
            "text/html": [
              "<span style=\"color:cyan\"> |-Score: 0.7960499823093414</span>"
            ],
            "text/plain": [
              "<IPython.core.display.HTML object>"
            ]
          },
          "metadata": {
            "tags": []
          }
        },
        {
          "output_type": "display_data",
          "data": {
            "text/html": [
              "<span style=\"color:cyan\"> |-Best step: 0</span>"
            ],
            "text/plain": [
              "<IPython.core.display.HTML object>"
            ]
          },
          "metadata": {
            "tags": []
          }
        },
        {
          "output_type": "display_data",
          "data": {
            "text/html": [
              "<span style=\"color:#7E57C2\"><h2 style=\"font-size:16px\">Hyperparameters:</h2></span>"
            ],
            "text/plain": [
              "<IPython.core.display.HTML object>"
            ]
          },
          "metadata": {
            "tags": []
          }
        },
        {
          "output_type": "display_data",
          "data": {
            "text/html": [
              "<span style=\"color:cyan\"> |-cnn_activation: relu</span>"
            ],
            "text/plain": [
              "<IPython.core.display.HTML object>"
            ]
          },
          "metadata": {
            "tags": []
          }
        },
        {
          "output_type": "display_data",
          "data": {
            "text/html": [
              "<span style=\"color:blue\"> |-dense_activation: relu</span>"
            ],
            "text/plain": [
              "<IPython.core.display.HTML object>"
            ]
          },
          "metadata": {
            "tags": []
          }
        },
        {
          "output_type": "display_data",
          "data": {
            "text/html": [
              "<span style=\"color:cyan\"> |-dropout_1: 0.35000000000000003</span>"
            ],
            "text/plain": [
              "<IPython.core.display.HTML object>"
            ]
          },
          "metadata": {
            "tags": []
          }
        },
        {
          "output_type": "display_data",
          "data": {
            "text/html": [
              "<span style=\"color:blue\"> |-learning_rate: 0.0007122389449044969</span>"
            ],
            "text/plain": [
              "<IPython.core.display.HTML object>"
            ]
          },
          "metadata": {
            "tags": []
          }
        },
        {
          "output_type": "display_data",
          "data": {
            "text/html": [
              "<span style=\"color:cyan\"> |-num_filters: 128</span>"
            ],
            "text/plain": [
              "<IPython.core.display.HTML object>"
            ]
          },
          "metadata": {
            "tags": []
          }
        },
        {
          "output_type": "display_data",
          "data": {
            "text/html": [
              "<span style=\"color:blue\"> |-padding: valid</span>"
            ],
            "text/plain": [
              "<IPython.core.display.HTML object>"
            ]
          },
          "metadata": {
            "tags": []
          }
        },
        {
          "output_type": "display_data",
          "data": {
            "text/html": [
              "<span style=\"color:cyan\"> |-tuner/bracket: 1</span>"
            ],
            "text/plain": [
              "<IPython.core.display.HTML object>"
            ]
          },
          "metadata": {
            "tags": []
          }
        },
        {
          "output_type": "display_data",
          "data": {
            "text/html": [
              "<span style=\"color:blue\"> |-tuner/epochs: 10</span>"
            ],
            "text/plain": [
              "<IPython.core.display.HTML object>"
            ]
          },
          "metadata": {
            "tags": []
          }
        },
        {
          "output_type": "display_data",
          "data": {
            "text/html": [
              "<span style=\"color:cyan\"> |-tuner/initial_epoch: 4</span>"
            ],
            "text/plain": [
              "<IPython.core.display.HTML object>"
            ]
          },
          "metadata": {
            "tags": []
          }
        },
        {
          "output_type": "display_data",
          "data": {
            "text/html": [
              "<span style=\"color:blue\"> |-tuner/round: 1</span>"
            ],
            "text/plain": [
              "<IPython.core.display.HTML object>"
            ]
          },
          "metadata": {
            "tags": []
          }
        },
        {
          "output_type": "display_data",
          "data": {
            "text/html": [
              "<span style=\"color:cyan\"> |-tuner/trial_id: 6c140b6150ad6c1ff3e5e34cab87b7f7</span>"
            ],
            "text/plain": [
              "<IPython.core.display.HTML object>"
            ]
          },
          "metadata": {
            "tags": []
          }
        },
        {
          "output_type": "display_data",
          "data": {
            "text/html": [
              "<span style=\"color:blue\"> |-units: 448</span>"
            ],
            "text/plain": [
              "<IPython.core.display.HTML object>"
            ]
          },
          "metadata": {
            "tags": []
          }
        },
        {
          "output_type": "display_data",
          "data": {
            "text/html": [
              "<span style=\"color:#4527A0\"><h1 style=\"font-size:18px\">Trial summary</h1></span>"
            ],
            "text/plain": [
              "<IPython.core.display.HTML object>"
            ]
          },
          "metadata": {
            "tags": []
          }
        },
        {
          "output_type": "display_data",
          "data": {
            "text/html": [
              "<span style=\"color:cyan\"> |-Trial ID: 82f73936f36bd5d4c35c1ea548179b63</span>"
            ],
            "text/plain": [
              "<IPython.core.display.HTML object>"
            ]
          },
          "metadata": {
            "tags": []
          }
        },
        {
          "output_type": "display_data",
          "data": {
            "text/html": [
              "<span style=\"color:cyan\"> |-Score: 0.7957499921321869</span>"
            ],
            "text/plain": [
              "<IPython.core.display.HTML object>"
            ]
          },
          "metadata": {
            "tags": []
          }
        },
        {
          "output_type": "display_data",
          "data": {
            "text/html": [
              "<span style=\"color:cyan\"> |-Best step: 0</span>"
            ],
            "text/plain": [
              "<IPython.core.display.HTML object>"
            ]
          },
          "metadata": {
            "tags": []
          }
        },
        {
          "output_type": "display_data",
          "data": {
            "text/html": [
              "<span style=\"color:#7E57C2\"><h2 style=\"font-size:16px\">Hyperparameters:</h2></span>"
            ],
            "text/plain": [
              "<IPython.core.display.HTML object>"
            ]
          },
          "metadata": {
            "tags": []
          }
        },
        {
          "output_type": "display_data",
          "data": {
            "text/html": [
              "<span style=\"color:cyan\"> |-cnn_activation: tanh</span>"
            ],
            "text/plain": [
              "<IPython.core.display.HTML object>"
            ]
          },
          "metadata": {
            "tags": []
          }
        },
        {
          "output_type": "display_data",
          "data": {
            "text/html": [
              "<span style=\"color:blue\"> |-dense_activation: relu</span>"
            ],
            "text/plain": [
              "<IPython.core.display.HTML object>"
            ]
          },
          "metadata": {
            "tags": []
          }
        },
        {
          "output_type": "display_data",
          "data": {
            "text/html": [
              "<span style=\"color:cyan\"> |-dropout_1: 0.0</span>"
            ],
            "text/plain": [
              "<IPython.core.display.HTML object>"
            ]
          },
          "metadata": {
            "tags": []
          }
        },
        {
          "output_type": "display_data",
          "data": {
            "text/html": [
              "<span style=\"color:blue\"> |-learning_rate: 0.0003492865635462057</span>"
            ],
            "text/plain": [
              "<IPython.core.display.HTML object>"
            ]
          },
          "metadata": {
            "tags": []
          }
        },
        {
          "output_type": "display_data",
          "data": {
            "text/html": [
              "<span style=\"color:cyan\"> |-num_filters: 162</span>"
            ],
            "text/plain": [
              "<IPython.core.display.HTML object>"
            ]
          },
          "metadata": {
            "tags": []
          }
        },
        {
          "output_type": "display_data",
          "data": {
            "text/html": [
              "<span style=\"color:blue\"> |-padding: valid</span>"
            ],
            "text/plain": [
              "<IPython.core.display.HTML object>"
            ]
          },
          "metadata": {
            "tags": []
          }
        },
        {
          "output_type": "display_data",
          "data": {
            "text/html": [
              "<span style=\"color:cyan\"> |-tuner/bracket: 0</span>"
            ],
            "text/plain": [
              "<IPython.core.display.HTML object>"
            ]
          },
          "metadata": {
            "tags": []
          }
        },
        {
          "output_type": "display_data",
          "data": {
            "text/html": [
              "<span style=\"color:blue\"> |-tuner/epochs: 10</span>"
            ],
            "text/plain": [
              "<IPython.core.display.HTML object>"
            ]
          },
          "metadata": {
            "tags": []
          }
        },
        {
          "output_type": "display_data",
          "data": {
            "text/html": [
              "<span style=\"color:cyan\"> |-tuner/initial_epoch: 0</span>"
            ],
            "text/plain": [
              "<IPython.core.display.HTML object>"
            ]
          },
          "metadata": {
            "tags": []
          }
        },
        {
          "output_type": "display_data",
          "data": {
            "text/html": [
              "<span style=\"color:blue\"> |-tuner/round: 0</span>"
            ],
            "text/plain": [
              "<IPython.core.display.HTML object>"
            ]
          },
          "metadata": {
            "tags": []
          }
        },
        {
          "output_type": "display_data",
          "data": {
            "text/html": [
              "<span style=\"color:cyan\"> |-units: 160</span>"
            ],
            "text/plain": [
              "<IPython.core.display.HTML object>"
            ]
          },
          "metadata": {
            "tags": []
          }
        },
        {
          "output_type": "display_data",
          "data": {
            "text/html": [
              "<span style=\"color:#4527A0\"><h1 style=\"font-size:18px\">Trial summary</h1></span>"
            ],
            "text/plain": [
              "<IPython.core.display.HTML object>"
            ]
          },
          "metadata": {
            "tags": []
          }
        },
        {
          "output_type": "display_data",
          "data": {
            "text/html": [
              "<span style=\"color:cyan\"> |-Trial ID: 0b3afc0171da8520d408fefa97ef891f</span>"
            ],
            "text/plain": [
              "<IPython.core.display.HTML object>"
            ]
          },
          "metadata": {
            "tags": []
          }
        },
        {
          "output_type": "display_data",
          "data": {
            "text/html": [
              "<span style=\"color:cyan\"> |-Score: 0.7924000024795532</span>"
            ],
            "text/plain": [
              "<IPython.core.display.HTML object>"
            ]
          },
          "metadata": {
            "tags": []
          }
        },
        {
          "output_type": "display_data",
          "data": {
            "text/html": [
              "<span style=\"color:cyan\"> |-Best step: 0</span>"
            ],
            "text/plain": [
              "<IPython.core.display.HTML object>"
            ]
          },
          "metadata": {
            "tags": []
          }
        },
        {
          "output_type": "display_data",
          "data": {
            "text/html": [
              "<span style=\"color:#7E57C2\"><h2 style=\"font-size:16px\">Hyperparameters:</h2></span>"
            ],
            "text/plain": [
              "<IPython.core.display.HTML object>"
            ]
          },
          "metadata": {
            "tags": []
          }
        },
        {
          "output_type": "display_data",
          "data": {
            "text/html": [
              "<span style=\"color:cyan\"> |-cnn_activation: relu</span>"
            ],
            "text/plain": [
              "<IPython.core.display.HTML object>"
            ]
          },
          "metadata": {
            "tags": []
          }
        },
        {
          "output_type": "display_data",
          "data": {
            "text/html": [
              "<span style=\"color:blue\"> |-dense_activation: relu</span>"
            ],
            "text/plain": [
              "<IPython.core.display.HTML object>"
            ]
          },
          "metadata": {
            "tags": []
          }
        },
        {
          "output_type": "display_data",
          "data": {
            "text/html": [
              "<span style=\"color:cyan\"> |-dropout_1: 0.25</span>"
            ],
            "text/plain": [
              "<IPython.core.display.HTML object>"
            ]
          },
          "metadata": {
            "tags": []
          }
        },
        {
          "output_type": "display_data",
          "data": {
            "text/html": [
              "<span style=\"color:blue\"> |-learning_rate: 0.0002904439007292695</span>"
            ],
            "text/plain": [
              "<IPython.core.display.HTML object>"
            ]
          },
          "metadata": {
            "tags": []
          }
        },
        {
          "output_type": "display_data",
          "data": {
            "text/html": [
              "<span style=\"color:cyan\"> |-num_filters: 128</span>"
            ],
            "text/plain": [
              "<IPython.core.display.HTML object>"
            ]
          },
          "metadata": {
            "tags": []
          }
        },
        {
          "output_type": "display_data",
          "data": {
            "text/html": [
              "<span style=\"color:blue\"> |-padding: valid</span>"
            ],
            "text/plain": [
              "<IPython.core.display.HTML object>"
            ]
          },
          "metadata": {
            "tags": []
          }
        },
        {
          "output_type": "display_data",
          "data": {
            "text/html": [
              "<span style=\"color:cyan\"> |-tuner/bracket: 2</span>"
            ],
            "text/plain": [
              "<IPython.core.display.HTML object>"
            ]
          },
          "metadata": {
            "tags": []
          }
        },
        {
          "output_type": "display_data",
          "data": {
            "text/html": [
              "<span style=\"color:blue\"> |-tuner/epochs: 10</span>"
            ],
            "text/plain": [
              "<IPython.core.display.HTML object>"
            ]
          },
          "metadata": {
            "tags": []
          }
        },
        {
          "output_type": "display_data",
          "data": {
            "text/html": [
              "<span style=\"color:cyan\"> |-tuner/initial_epoch: 4</span>"
            ],
            "text/plain": [
              "<IPython.core.display.HTML object>"
            ]
          },
          "metadata": {
            "tags": []
          }
        },
        {
          "output_type": "display_data",
          "data": {
            "text/html": [
              "<span style=\"color:blue\"> |-tuner/round: 2</span>"
            ],
            "text/plain": [
              "<IPython.core.display.HTML object>"
            ]
          },
          "metadata": {
            "tags": []
          }
        },
        {
          "output_type": "display_data",
          "data": {
            "text/html": [
              "<span style=\"color:cyan\"> |-tuner/trial_id: ca5a2ebf59dec4e1c427fb003fc9cf0d</span>"
            ],
            "text/plain": [
              "<IPython.core.display.HTML object>"
            ]
          },
          "metadata": {
            "tags": []
          }
        },
        {
          "output_type": "display_data",
          "data": {
            "text/html": [
              "<span style=\"color:blue\"> |-units: 320</span>"
            ],
            "text/plain": [
              "<IPython.core.display.HTML object>"
            ]
          },
          "metadata": {
            "tags": []
          }
        },
        {
          "output_type": "display_data",
          "data": {
            "text/html": [
              "<span style=\"color:#4527A0\"><h1 style=\"font-size:18px\">Trial summary</h1></span>"
            ],
            "text/plain": [
              "<IPython.core.display.HTML object>"
            ]
          },
          "metadata": {
            "tags": []
          }
        },
        {
          "output_type": "display_data",
          "data": {
            "text/html": [
              "<span style=\"color:cyan\"> |-Trial ID: 6c140b6150ad6c1ff3e5e34cab87b7f7</span>"
            ],
            "text/plain": [
              "<IPython.core.display.HTML object>"
            ]
          },
          "metadata": {
            "tags": []
          }
        },
        {
          "output_type": "display_data",
          "data": {
            "text/html": [
              "<span style=\"color:cyan\"> |-Score: 0.7468000054359436</span>"
            ],
            "text/plain": [
              "<IPython.core.display.HTML object>"
            ]
          },
          "metadata": {
            "tags": []
          }
        },
        {
          "output_type": "display_data",
          "data": {
            "text/html": [
              "<span style=\"color:cyan\"> |-Best step: 0</span>"
            ],
            "text/plain": [
              "<IPython.core.display.HTML object>"
            ]
          },
          "metadata": {
            "tags": []
          }
        },
        {
          "output_type": "display_data",
          "data": {
            "text/html": [
              "<span style=\"color:#7E57C2\"><h2 style=\"font-size:16px\">Hyperparameters:</h2></span>"
            ],
            "text/plain": [
              "<IPython.core.display.HTML object>"
            ]
          },
          "metadata": {
            "tags": []
          }
        },
        {
          "output_type": "display_data",
          "data": {
            "text/html": [
              "<span style=\"color:cyan\"> |-cnn_activation: relu</span>"
            ],
            "text/plain": [
              "<IPython.core.display.HTML object>"
            ]
          },
          "metadata": {
            "tags": []
          }
        },
        {
          "output_type": "display_data",
          "data": {
            "text/html": [
              "<span style=\"color:blue\"> |-dense_activation: relu</span>"
            ],
            "text/plain": [
              "<IPython.core.display.HTML object>"
            ]
          },
          "metadata": {
            "tags": []
          }
        },
        {
          "output_type": "display_data",
          "data": {
            "text/html": [
              "<span style=\"color:cyan\"> |-dropout_1: 0.35000000000000003</span>"
            ],
            "text/plain": [
              "<IPython.core.display.HTML object>"
            ]
          },
          "metadata": {
            "tags": []
          }
        },
        {
          "output_type": "display_data",
          "data": {
            "text/html": [
              "<span style=\"color:blue\"> |-learning_rate: 0.0007122389449044969</span>"
            ],
            "text/plain": [
              "<IPython.core.display.HTML object>"
            ]
          },
          "metadata": {
            "tags": []
          }
        },
        {
          "output_type": "display_data",
          "data": {
            "text/html": [
              "<span style=\"color:cyan\"> |-num_filters: 128</span>"
            ],
            "text/plain": [
              "<IPython.core.display.HTML object>"
            ]
          },
          "metadata": {
            "tags": []
          }
        },
        {
          "output_type": "display_data",
          "data": {
            "text/html": [
              "<span style=\"color:blue\"> |-padding: valid</span>"
            ],
            "text/plain": [
              "<IPython.core.display.HTML object>"
            ]
          },
          "metadata": {
            "tags": []
          }
        },
        {
          "output_type": "display_data",
          "data": {
            "text/html": [
              "<span style=\"color:cyan\"> |-tuner/bracket: 1</span>"
            ],
            "text/plain": [
              "<IPython.core.display.HTML object>"
            ]
          },
          "metadata": {
            "tags": []
          }
        },
        {
          "output_type": "display_data",
          "data": {
            "text/html": [
              "<span style=\"color:blue\"> |-tuner/epochs: 4</span>"
            ],
            "text/plain": [
              "<IPython.core.display.HTML object>"
            ]
          },
          "metadata": {
            "tags": []
          }
        },
        {
          "output_type": "display_data",
          "data": {
            "text/html": [
              "<span style=\"color:cyan\"> |-tuner/initial_epoch: 0</span>"
            ],
            "text/plain": [
              "<IPython.core.display.HTML object>"
            ]
          },
          "metadata": {
            "tags": []
          }
        },
        {
          "output_type": "display_data",
          "data": {
            "text/html": [
              "<span style=\"color:blue\"> |-tuner/round: 0</span>"
            ],
            "text/plain": [
              "<IPython.core.display.HTML object>"
            ]
          },
          "metadata": {
            "tags": []
          }
        },
        {
          "output_type": "display_data",
          "data": {
            "text/html": [
              "<span style=\"color:cyan\"> |-units: 448</span>"
            ],
            "text/plain": [
              "<IPython.core.display.HTML object>"
            ]
          },
          "metadata": {
            "tags": []
          }
        },
        {
          "output_type": "display_data",
          "data": {
            "text/html": [
              "<span style=\"color:#4527A0\"><h1 style=\"font-size:18px\">Trial summary</h1></span>"
            ],
            "text/plain": [
              "<IPython.core.display.HTML object>"
            ]
          },
          "metadata": {
            "tags": []
          }
        },
        {
          "output_type": "display_data",
          "data": {
            "text/html": [
              "<span style=\"color:cyan\"> |-Trial ID: 636b7d3cb1b63afd9425e53dced7c0f7</span>"
            ],
            "text/plain": [
              "<IPython.core.display.HTML object>"
            ]
          },
          "metadata": {
            "tags": []
          }
        },
        {
          "output_type": "display_data",
          "data": {
            "text/html": [
              "<span style=\"color:cyan\"> |-Score: 0.7335499823093414</span>"
            ],
            "text/plain": [
              "<IPython.core.display.HTML object>"
            ]
          },
          "metadata": {
            "tags": []
          }
        },
        {
          "output_type": "display_data",
          "data": {
            "text/html": [
              "<span style=\"color:cyan\"> |-Best step: 0</span>"
            ],
            "text/plain": [
              "<IPython.core.display.HTML object>"
            ]
          },
          "metadata": {
            "tags": []
          }
        },
        {
          "output_type": "display_data",
          "data": {
            "text/html": [
              "<span style=\"color:#7E57C2\"><h2 style=\"font-size:16px\">Hyperparameters:</h2></span>"
            ],
            "text/plain": [
              "<IPython.core.display.HTML object>"
            ]
          },
          "metadata": {
            "tags": []
          }
        },
        {
          "output_type": "display_data",
          "data": {
            "text/html": [
              "<span style=\"color:cyan\"> |-cnn_activation: relu</span>"
            ],
            "text/plain": [
              "<IPython.core.display.HTML object>"
            ]
          },
          "metadata": {
            "tags": []
          }
        },
        {
          "output_type": "display_data",
          "data": {
            "text/html": [
              "<span style=\"color:blue\"> |-dense_activation: relu</span>"
            ],
            "text/plain": [
              "<IPython.core.display.HTML object>"
            ]
          },
          "metadata": {
            "tags": []
          }
        },
        {
          "output_type": "display_data",
          "data": {
            "text/html": [
              "<span style=\"color:cyan\"> |-dropout_1: 0.05</span>"
            ],
            "text/plain": [
              "<IPython.core.display.HTML object>"
            ]
          },
          "metadata": {
            "tags": []
          }
        },
        {
          "output_type": "display_data",
          "data": {
            "text/html": [
              "<span style=\"color:blue\"> |-learning_rate: 0.0008547485565344062</span>"
            ],
            "text/plain": [
              "<IPython.core.display.HTML object>"
            ]
          },
          "metadata": {
            "tags": []
          }
        },
        {
          "output_type": "display_data",
          "data": {
            "text/html": [
              "<span style=\"color:cyan\"> |-num_filters: 162</span>"
            ],
            "text/plain": [
              "<IPython.core.display.HTML object>"
            ]
          },
          "metadata": {
            "tags": []
          }
        },
        {
          "output_type": "display_data",
          "data": {
            "text/html": [
              "<span style=\"color:blue\"> |-padding: valid</span>"
            ],
            "text/plain": [
              "<IPython.core.display.HTML object>"
            ]
          },
          "metadata": {
            "tags": []
          }
        },
        {
          "output_type": "display_data",
          "data": {
            "text/html": [
              "<span style=\"color:cyan\"> |-tuner/bracket: 2</span>"
            ],
            "text/plain": [
              "<IPython.core.display.HTML object>"
            ]
          },
          "metadata": {
            "tags": []
          }
        },
        {
          "output_type": "display_data",
          "data": {
            "text/html": [
              "<span style=\"color:blue\"> |-tuner/epochs: 2</span>"
            ],
            "text/plain": [
              "<IPython.core.display.HTML object>"
            ]
          },
          "metadata": {
            "tags": []
          }
        },
        {
          "output_type": "display_data",
          "data": {
            "text/html": [
              "<span style=\"color:cyan\"> |-tuner/initial_epoch: 0</span>"
            ],
            "text/plain": [
              "<IPython.core.display.HTML object>"
            ]
          },
          "metadata": {
            "tags": []
          }
        },
        {
          "output_type": "display_data",
          "data": {
            "text/html": [
              "<span style=\"color:blue\"> |-tuner/round: 0</span>"
            ],
            "text/plain": [
              "<IPython.core.display.HTML object>"
            ]
          },
          "metadata": {
            "tags": []
          }
        },
        {
          "output_type": "display_data",
          "data": {
            "text/html": [
              "<span style=\"color:cyan\"> |-units: 352</span>"
            ],
            "text/plain": [
              "<IPython.core.display.HTML object>"
            ]
          },
          "metadata": {
            "tags": []
          }
        },
        {
          "output_type": "display_data",
          "data": {
            "text/html": [
              "<span style=\"color:#4527A0\"><h1 style=\"font-size:18px\">Trial summary</h1></span>"
            ],
            "text/plain": [
              "<IPython.core.display.HTML object>"
            ]
          },
          "metadata": {
            "tags": []
          }
        },
        {
          "output_type": "display_data",
          "data": {
            "text/html": [
              "<span style=\"color:cyan\"> |-Trial ID: 4e4d35255f788f5bb2ca0ef6bfb44a56</span>"
            ],
            "text/plain": [
              "<IPython.core.display.HTML object>"
            ]
          },
          "metadata": {
            "tags": []
          }
        },
        {
          "output_type": "display_data",
          "data": {
            "text/html": [
              "<span style=\"color:cyan\"> |-Score: 0.728050023317337</span>"
            ],
            "text/plain": [
              "<IPython.core.display.HTML object>"
            ]
          },
          "metadata": {
            "tags": []
          }
        },
        {
          "output_type": "display_data",
          "data": {
            "text/html": [
              "<span style=\"color:cyan\"> |-Best step: 0</span>"
            ],
            "text/plain": [
              "<IPython.core.display.HTML object>"
            ]
          },
          "metadata": {
            "tags": []
          }
        },
        {
          "output_type": "display_data",
          "data": {
            "text/html": [
              "<span style=\"color:#7E57C2\"><h2 style=\"font-size:16px\">Hyperparameters:</h2></span>"
            ],
            "text/plain": [
              "<IPython.core.display.HTML object>"
            ]
          },
          "metadata": {
            "tags": []
          }
        },
        {
          "output_type": "display_data",
          "data": {
            "text/html": [
              "<span style=\"color:cyan\"> |-cnn_activation: relu</span>"
            ],
            "text/plain": [
              "<IPython.core.display.HTML object>"
            ]
          },
          "metadata": {
            "tags": []
          }
        },
        {
          "output_type": "display_data",
          "data": {
            "text/html": [
              "<span style=\"color:blue\"> |-dense_activation: tanh</span>"
            ],
            "text/plain": [
              "<IPython.core.display.HTML object>"
            ]
          },
          "metadata": {
            "tags": []
          }
        },
        {
          "output_type": "display_data",
          "data": {
            "text/html": [
              "<span style=\"color:cyan\"> |-dropout_1: 0.2</span>"
            ],
            "text/plain": [
              "<IPython.core.display.HTML object>"
            ]
          },
          "metadata": {
            "tags": []
          }
        },
        {
          "output_type": "display_data",
          "data": {
            "text/html": [
              "<span style=\"color:blue\"> |-learning_rate: 9.719978423652109e-05</span>"
            ],
            "text/plain": [
              "<IPython.core.display.HTML object>"
            ]
          },
          "metadata": {
            "tags": []
          }
        },
        {
          "output_type": "display_data",
          "data": {
            "text/html": [
              "<span style=\"color:cyan\"> |-num_filters: 128</span>"
            ],
            "text/plain": [
              "<IPython.core.display.HTML object>"
            ]
          },
          "metadata": {
            "tags": []
          }
        },
        {
          "output_type": "display_data",
          "data": {
            "text/html": [
              "<span style=\"color:blue\"> |-padding: valid</span>"
            ],
            "text/plain": [
              "<IPython.core.display.HTML object>"
            ]
          },
          "metadata": {
            "tags": []
          }
        },
        {
          "output_type": "display_data",
          "data": {
            "text/html": [
              "<span style=\"color:cyan\"> |-tuner/bracket: 0</span>"
            ],
            "text/plain": [
              "<IPython.core.display.HTML object>"
            ]
          },
          "metadata": {
            "tags": []
          }
        },
        {
          "output_type": "display_data",
          "data": {
            "text/html": [
              "<span style=\"color:blue\"> |-tuner/epochs: 10</span>"
            ],
            "text/plain": [
              "<IPython.core.display.HTML object>"
            ]
          },
          "metadata": {
            "tags": []
          }
        },
        {
          "output_type": "display_data",
          "data": {
            "text/html": [
              "<span style=\"color:cyan\"> |-tuner/initial_epoch: 0</span>"
            ],
            "text/plain": [
              "<IPython.core.display.HTML object>"
            ]
          },
          "metadata": {
            "tags": []
          }
        },
        {
          "output_type": "display_data",
          "data": {
            "text/html": [
              "<span style=\"color:blue\"> |-tuner/round: 0</span>"
            ],
            "text/plain": [
              "<IPython.core.display.HTML object>"
            ]
          },
          "metadata": {
            "tags": []
          }
        },
        {
          "output_type": "display_data",
          "data": {
            "text/html": [
              "<span style=\"color:cyan\"> |-units: 320</span>"
            ],
            "text/plain": [
              "<IPython.core.display.HTML object>"
            ]
          },
          "metadata": {
            "tags": []
          }
        },
        {
          "output_type": "display_data",
          "data": {
            "text/html": [
              "<span style=\"color:#4527A0\"><h1 style=\"font-size:18px\">Trial summary</h1></span>"
            ],
            "text/plain": [
              "<IPython.core.display.HTML object>"
            ]
          },
          "metadata": {
            "tags": []
          }
        },
        {
          "output_type": "display_data",
          "data": {
            "text/html": [
              "<span style=\"color:cyan\"> |-Trial ID: d8491fc2b97f9ee74679d2851ba511e6</span>"
            ],
            "text/plain": [
              "<IPython.core.display.HTML object>"
            ]
          },
          "metadata": {
            "tags": []
          }
        },
        {
          "output_type": "display_data",
          "data": {
            "text/html": [
              "<span style=\"color:cyan\"> |-Score: 0.7112500071525574</span>"
            ],
            "text/plain": [
              "<IPython.core.display.HTML object>"
            ]
          },
          "metadata": {
            "tags": []
          }
        },
        {
          "output_type": "display_data",
          "data": {
            "text/html": [
              "<span style=\"color:cyan\"> |-Best step: 0</span>"
            ],
            "text/plain": [
              "<IPython.core.display.HTML object>"
            ]
          },
          "metadata": {
            "tags": []
          }
        },
        {
          "output_type": "display_data",
          "data": {
            "text/html": [
              "<span style=\"color:#7E57C2\"><h2 style=\"font-size:16px\">Hyperparameters:</h2></span>"
            ],
            "text/plain": [
              "<IPython.core.display.HTML object>"
            ]
          },
          "metadata": {
            "tags": []
          }
        },
        {
          "output_type": "display_data",
          "data": {
            "text/html": [
              "<span style=\"color:cyan\"> |-cnn_activation: tanh</span>"
            ],
            "text/plain": [
              "<IPython.core.display.HTML object>"
            ]
          },
          "metadata": {
            "tags": []
          }
        },
        {
          "output_type": "display_data",
          "data": {
            "text/html": [
              "<span style=\"color:blue\"> |-dense_activation: tanh</span>"
            ],
            "text/plain": [
              "<IPython.core.display.HTML object>"
            ]
          },
          "metadata": {
            "tags": []
          }
        },
        {
          "output_type": "display_data",
          "data": {
            "text/html": [
              "<span style=\"color:cyan\"> |-dropout_1: 0.05</span>"
            ],
            "text/plain": [
              "<IPython.core.display.HTML object>"
            ]
          },
          "metadata": {
            "tags": []
          }
        },
        {
          "output_type": "display_data",
          "data": {
            "text/html": [
              "<span style=\"color:blue\"> |-learning_rate: 0.000162360268482153</span>"
            ],
            "text/plain": [
              "<IPython.core.display.HTML object>"
            ]
          },
          "metadata": {
            "tags": []
          }
        },
        {
          "output_type": "display_data",
          "data": {
            "text/html": [
              "<span style=\"color:cyan\"> |-num_filters: 128</span>"
            ],
            "text/plain": [
              "<IPython.core.display.HTML object>"
            ]
          },
          "metadata": {
            "tags": []
          }
        },
        {
          "output_type": "display_data",
          "data": {
            "text/html": [
              "<span style=\"color:blue\"> |-padding: same</span>"
            ],
            "text/plain": [
              "<IPython.core.display.HTML object>"
            ]
          },
          "metadata": {
            "tags": []
          }
        },
        {
          "output_type": "display_data",
          "data": {
            "text/html": [
              "<span style=\"color:cyan\"> |-tuner/bracket: 0</span>"
            ],
            "text/plain": [
              "<IPython.core.display.HTML object>"
            ]
          },
          "metadata": {
            "tags": []
          }
        },
        {
          "output_type": "display_data",
          "data": {
            "text/html": [
              "<span style=\"color:blue\"> |-tuner/epochs: 10</span>"
            ],
            "text/plain": [
              "<IPython.core.display.HTML object>"
            ]
          },
          "metadata": {
            "tags": []
          }
        },
        {
          "output_type": "display_data",
          "data": {
            "text/html": [
              "<span style=\"color:cyan\"> |-tuner/initial_epoch: 0</span>"
            ],
            "text/plain": [
              "<IPython.core.display.HTML object>"
            ]
          },
          "metadata": {
            "tags": []
          }
        },
        {
          "output_type": "display_data",
          "data": {
            "text/html": [
              "<span style=\"color:blue\"> |-tuner/round: 0</span>"
            ],
            "text/plain": [
              "<IPython.core.display.HTML object>"
            ]
          },
          "metadata": {
            "tags": []
          }
        },
        {
          "output_type": "display_data",
          "data": {
            "text/html": [
              "<span style=\"color:cyan\"> |-units: 288</span>"
            ],
            "text/plain": [
              "<IPython.core.display.HTML object>"
            ]
          },
          "metadata": {
            "tags": []
          }
        },
        {
          "output_type": "display_data",
          "data": {
            "text/html": [
              "<span style=\"color:#4527A0\"><h1 style=\"font-size:18px\">Trial summary</h1></span>"
            ],
            "text/plain": [
              "<IPython.core.display.HTML object>"
            ]
          },
          "metadata": {
            "tags": []
          }
        },
        {
          "output_type": "display_data",
          "data": {
            "text/html": [
              "<span style=\"color:cyan\"> |-Trial ID: cfc25f4d1e9a809a6d1f3e5ba992440e</span>"
            ],
            "text/plain": [
              "<IPython.core.display.HTML object>"
            ]
          },
          "metadata": {
            "tags": []
          }
        },
        {
          "output_type": "display_data",
          "data": {
            "text/html": [
              "<span style=\"color:cyan\"> |-Score: 0.6860000193119049</span>"
            ],
            "text/plain": [
              "<IPython.core.display.HTML object>"
            ]
          },
          "metadata": {
            "tags": []
          }
        },
        {
          "output_type": "display_data",
          "data": {
            "text/html": [
              "<span style=\"color:cyan\"> |-Best step: 0</span>"
            ],
            "text/plain": [
              "<IPython.core.display.HTML object>"
            ]
          },
          "metadata": {
            "tags": []
          }
        },
        {
          "output_type": "display_data",
          "data": {
            "text/html": [
              "<span style=\"color:#7E57C2\"><h2 style=\"font-size:16px\">Hyperparameters:</h2></span>"
            ],
            "text/plain": [
              "<IPython.core.display.HTML object>"
            ]
          },
          "metadata": {
            "tags": []
          }
        },
        {
          "output_type": "display_data",
          "data": {
            "text/html": [
              "<span style=\"color:cyan\"> |-cnn_activation: relu</span>"
            ],
            "text/plain": [
              "<IPython.core.display.HTML object>"
            ]
          },
          "metadata": {
            "tags": []
          }
        },
        {
          "output_type": "display_data",
          "data": {
            "text/html": [
              "<span style=\"color:blue\"> |-dense_activation: relu</span>"
            ],
            "text/plain": [
              "<IPython.core.display.HTML object>"
            ]
          },
          "metadata": {
            "tags": []
          }
        },
        {
          "output_type": "display_data",
          "data": {
            "text/html": [
              "<span style=\"color:cyan\"> |-dropout_1: 0.25</span>"
            ],
            "text/plain": [
              "<IPython.core.display.HTML object>"
            ]
          },
          "metadata": {
            "tags": []
          }
        },
        {
          "output_type": "display_data",
          "data": {
            "text/html": [
              "<span style=\"color:blue\"> |-learning_rate: 0.0002904439007292695</span>"
            ],
            "text/plain": [
              "<IPython.core.display.HTML object>"
            ]
          },
          "metadata": {
            "tags": []
          }
        },
        {
          "output_type": "display_data",
          "data": {
            "text/html": [
              "<span style=\"color:cyan\"> |-num_filters: 128</span>"
            ],
            "text/plain": [
              "<IPython.core.display.HTML object>"
            ]
          },
          "metadata": {
            "tags": []
          }
        },
        {
          "output_type": "display_data",
          "data": {
            "text/html": [
              "<span style=\"color:blue\"> |-padding: valid</span>"
            ],
            "text/plain": [
              "<IPython.core.display.HTML object>"
            ]
          },
          "metadata": {
            "tags": []
          }
        },
        {
          "output_type": "display_data",
          "data": {
            "text/html": [
              "<span style=\"color:cyan\"> |-tuner/bracket: 2</span>"
            ],
            "text/plain": [
              "<IPython.core.display.HTML object>"
            ]
          },
          "metadata": {
            "tags": []
          }
        },
        {
          "output_type": "display_data",
          "data": {
            "text/html": [
              "<span style=\"color:blue\"> |-tuner/epochs: 2</span>"
            ],
            "text/plain": [
              "<IPython.core.display.HTML object>"
            ]
          },
          "metadata": {
            "tags": []
          }
        },
        {
          "output_type": "display_data",
          "data": {
            "text/html": [
              "<span style=\"color:cyan\"> |-tuner/initial_epoch: 0</span>"
            ],
            "text/plain": [
              "<IPython.core.display.HTML object>"
            ]
          },
          "metadata": {
            "tags": []
          }
        },
        {
          "output_type": "display_data",
          "data": {
            "text/html": [
              "<span style=\"color:blue\"> |-tuner/round: 0</span>"
            ],
            "text/plain": [
              "<IPython.core.display.HTML object>"
            ]
          },
          "metadata": {
            "tags": []
          }
        },
        {
          "output_type": "display_data",
          "data": {
            "text/html": [
              "<span style=\"color:cyan\"> |-units: 320</span>"
            ],
            "text/plain": [
              "<IPython.core.display.HTML object>"
            ]
          },
          "metadata": {
            "tags": []
          }
        },
        {
          "output_type": "display_data",
          "data": {
            "text/html": [
              "<span style=\"color:#4527A0\"><h1 style=\"font-size:18px\">Trial summary</h1></span>"
            ],
            "text/plain": [
              "<IPython.core.display.HTML object>"
            ]
          },
          "metadata": {
            "tags": []
          }
        },
        {
          "output_type": "display_data",
          "data": {
            "text/html": [
              "<span style=\"color:cyan\"> |-Trial ID: ca5a2ebf59dec4e1c427fb003fc9cf0d</span>"
            ],
            "text/plain": [
              "<IPython.core.display.HTML object>"
            ]
          },
          "metadata": {
            "tags": []
          }
        },
        {
          "output_type": "display_data",
          "data": {
            "text/html": [
              "<span style=\"color:cyan\"> |-Score: 0.6681499779224396</span>"
            ],
            "text/plain": [
              "<IPython.core.display.HTML object>"
            ]
          },
          "metadata": {
            "tags": []
          }
        },
        {
          "output_type": "display_data",
          "data": {
            "text/html": [
              "<span style=\"color:cyan\"> |-Best step: 0</span>"
            ],
            "text/plain": [
              "<IPython.core.display.HTML object>"
            ]
          },
          "metadata": {
            "tags": []
          }
        },
        {
          "output_type": "display_data",
          "data": {
            "text/html": [
              "<span style=\"color:#7E57C2\"><h2 style=\"font-size:16px\">Hyperparameters:</h2></span>"
            ],
            "text/plain": [
              "<IPython.core.display.HTML object>"
            ]
          },
          "metadata": {
            "tags": []
          }
        },
        {
          "output_type": "display_data",
          "data": {
            "text/html": [
              "<span style=\"color:cyan\"> |-cnn_activation: relu</span>"
            ],
            "text/plain": [
              "<IPython.core.display.HTML object>"
            ]
          },
          "metadata": {
            "tags": []
          }
        },
        {
          "output_type": "display_data",
          "data": {
            "text/html": [
              "<span style=\"color:blue\"> |-dense_activation: relu</span>"
            ],
            "text/plain": [
              "<IPython.core.display.HTML object>"
            ]
          },
          "metadata": {
            "tags": []
          }
        },
        {
          "output_type": "display_data",
          "data": {
            "text/html": [
              "<span style=\"color:cyan\"> |-dropout_1: 0.25</span>"
            ],
            "text/plain": [
              "<IPython.core.display.HTML object>"
            ]
          },
          "metadata": {
            "tags": []
          }
        },
        {
          "output_type": "display_data",
          "data": {
            "text/html": [
              "<span style=\"color:blue\"> |-learning_rate: 0.0002904439007292695</span>"
            ],
            "text/plain": [
              "<IPython.core.display.HTML object>"
            ]
          },
          "metadata": {
            "tags": []
          }
        },
        {
          "output_type": "display_data",
          "data": {
            "text/html": [
              "<span style=\"color:cyan\"> |-num_filters: 128</span>"
            ],
            "text/plain": [
              "<IPython.core.display.HTML object>"
            ]
          },
          "metadata": {
            "tags": []
          }
        },
        {
          "output_type": "display_data",
          "data": {
            "text/html": [
              "<span style=\"color:blue\"> |-padding: valid</span>"
            ],
            "text/plain": [
              "<IPython.core.display.HTML object>"
            ]
          },
          "metadata": {
            "tags": []
          }
        },
        {
          "output_type": "display_data",
          "data": {
            "text/html": [
              "<span style=\"color:cyan\"> |-tuner/bracket: 2</span>"
            ],
            "text/plain": [
              "<IPython.core.display.HTML object>"
            ]
          },
          "metadata": {
            "tags": []
          }
        },
        {
          "output_type": "display_data",
          "data": {
            "text/html": [
              "<span style=\"color:blue\"> |-tuner/epochs: 4</span>"
            ],
            "text/plain": [
              "<IPython.core.display.HTML object>"
            ]
          },
          "metadata": {
            "tags": []
          }
        },
        {
          "output_type": "display_data",
          "data": {
            "text/html": [
              "<span style=\"color:cyan\"> |-tuner/initial_epoch: 2</span>"
            ],
            "text/plain": [
              "<IPython.core.display.HTML object>"
            ]
          },
          "metadata": {
            "tags": []
          }
        },
        {
          "output_type": "display_data",
          "data": {
            "text/html": [
              "<span style=\"color:blue\"> |-tuner/round: 1</span>"
            ],
            "text/plain": [
              "<IPython.core.display.HTML object>"
            ]
          },
          "metadata": {
            "tags": []
          }
        },
        {
          "output_type": "display_data",
          "data": {
            "text/html": [
              "<span style=\"color:cyan\"> |-tuner/trial_id: cfc25f4d1e9a809a6d1f3e5ba992440e</span>"
            ],
            "text/plain": [
              "<IPython.core.display.HTML object>"
            ]
          },
          "metadata": {
            "tags": []
          }
        },
        {
          "output_type": "display_data",
          "data": {
            "text/html": [
              "<span style=\"color:blue\"> |-units: 320</span>"
            ],
            "text/plain": [
              "<IPython.core.display.HTML object>"
            ]
          },
          "metadata": {
            "tags": []
          }
        },
        {
          "output_type": "stream",
          "text": [
            "313/313 [==============================] - 2s 7ms/step - loss: 0.6259 - accuracy: 0.8028\n",
            "Elapsed time = -6083.3329 s, accuracy = 0.8027999997138977, loss = 0.6259064078330994\n"
          ],
          "name": "stdout"
        },
        {
          "output_type": "display_data",
          "data": {
            "text/html": [
              "<span style=\"color:#4527A0\"><h1 style=\"font-size:18px\">Search space summary</h1></span>"
            ],
            "text/plain": [
              "<IPython.core.display.HTML object>"
            ]
          },
          "metadata": {
            "tags": []
          }
        },
        {
          "output_type": "display_data",
          "data": {
            "text/html": [
              "<span style=\"color:cyan\"> |-Default search space size: 7</span>"
            ],
            "text/plain": [
              "<IPython.core.display.HTML object>"
            ]
          },
          "metadata": {
            "tags": []
          }
        },
        {
          "output_type": "display_data",
          "data": {
            "text/html": [
              "<span style=\"color:#7E57C2\"><h2 style=\"font-size:16px\">num_filters (Choice)</h2></span>"
            ],
            "text/plain": [
              "<IPython.core.display.HTML object>"
            ]
          },
          "metadata": {
            "tags": []
          }
        },
        {
          "output_type": "display_data",
          "data": {
            "text/html": [
              "<span style=\"color:cyan\"> |-default: 128</span>"
            ],
            "text/plain": [
              "<IPython.core.display.HTML object>"
            ]
          },
          "metadata": {
            "tags": []
          }
        },
        {
          "output_type": "display_data",
          "data": {
            "text/html": [
              "<span style=\"color:blue\"> |-ordered: True</span>"
            ],
            "text/plain": [
              "<IPython.core.display.HTML object>"
            ]
          },
          "metadata": {
            "tags": []
          }
        },
        {
          "output_type": "display_data",
          "data": {
            "text/html": [
              "<span style=\"color:cyan\"> |-values: [128, 162]</span>"
            ],
            "text/plain": [
              "<IPython.core.display.HTML object>"
            ]
          },
          "metadata": {
            "tags": []
          }
        },
        {
          "output_type": "display_data",
          "data": {
            "text/html": [
              "<span style=\"color:#7E57C2\"><h2 style=\"font-size:16px\">cnn_activation (Choice)</h2></span>"
            ],
            "text/plain": [
              "<IPython.core.display.HTML object>"
            ]
          },
          "metadata": {
            "tags": []
          }
        },
        {
          "output_type": "display_data",
          "data": {
            "text/html": [
              "<span style=\"color:cyan\"> |-default: relu</span>"
            ],
            "text/plain": [
              "<IPython.core.display.HTML object>"
            ]
          },
          "metadata": {
            "tags": []
          }
        },
        {
          "output_type": "display_data",
          "data": {
            "text/html": [
              "<span style=\"color:blue\"> |-ordered: False</span>"
            ],
            "text/plain": [
              "<IPython.core.display.HTML object>"
            ]
          },
          "metadata": {
            "tags": []
          }
        },
        {
          "output_type": "display_data",
          "data": {
            "text/html": [
              "<span style=\"color:cyan\"> |-values: ['relu', 'tanh']</span>"
            ],
            "text/plain": [
              "<IPython.core.display.HTML object>"
            ]
          },
          "metadata": {
            "tags": []
          }
        },
        {
          "output_type": "display_data",
          "data": {
            "text/html": [
              "<span style=\"color:#7E57C2\"><h2 style=\"font-size:16px\">padding (Choice)</h2></span>"
            ],
            "text/plain": [
              "<IPython.core.display.HTML object>"
            ]
          },
          "metadata": {
            "tags": []
          }
        },
        {
          "output_type": "display_data",
          "data": {
            "text/html": [
              "<span style=\"color:cyan\"> |-default: same</span>"
            ],
            "text/plain": [
              "<IPython.core.display.HTML object>"
            ]
          },
          "metadata": {
            "tags": []
          }
        },
        {
          "output_type": "display_data",
          "data": {
            "text/html": [
              "<span style=\"color:blue\"> |-ordered: False</span>"
            ],
            "text/plain": [
              "<IPython.core.display.HTML object>"
            ]
          },
          "metadata": {
            "tags": []
          }
        },
        {
          "output_type": "display_data",
          "data": {
            "text/html": [
              "<span style=\"color:cyan\"> |-values: ['same', 'valid']</span>"
            ],
            "text/plain": [
              "<IPython.core.display.HTML object>"
            ]
          },
          "metadata": {
            "tags": []
          }
        },
        {
          "output_type": "display_data",
          "data": {
            "text/html": [
              "<span style=\"color:#7E57C2\"><h2 style=\"font-size:16px\">units (Int)</h2></span>"
            ],
            "text/plain": [
              "<IPython.core.display.HTML object>"
            ]
          },
          "metadata": {
            "tags": []
          }
        },
        {
          "output_type": "display_data",
          "data": {
            "text/html": [
              "<span style=\"color:cyan\"> |-default: 512</span>"
            ],
            "text/plain": [
              "<IPython.core.display.HTML object>"
            ]
          },
          "metadata": {
            "tags": []
          }
        },
        {
          "output_type": "display_data",
          "data": {
            "text/html": [
              "<span style=\"color:blue\"> |-max_value: 512</span>"
            ],
            "text/plain": [
              "<IPython.core.display.HTML object>"
            ]
          },
          "metadata": {
            "tags": []
          }
        },
        {
          "output_type": "display_data",
          "data": {
            "text/html": [
              "<span style=\"color:cyan\"> |-min_value: 128</span>"
            ],
            "text/plain": [
              "<IPython.core.display.HTML object>"
            ]
          },
          "metadata": {
            "tags": []
          }
        },
        {
          "output_type": "display_data",
          "data": {
            "text/html": [
              "<span style=\"color:blue\"> |-sampling: None</span>"
            ],
            "text/plain": [
              "<IPython.core.display.HTML object>"
            ]
          },
          "metadata": {
            "tags": []
          }
        },
        {
          "output_type": "display_data",
          "data": {
            "text/html": [
              "<span style=\"color:cyan\"> |-step: 32</span>"
            ],
            "text/plain": [
              "<IPython.core.display.HTML object>"
            ]
          },
          "metadata": {
            "tags": []
          }
        },
        {
          "output_type": "display_data",
          "data": {
            "text/html": [
              "<span style=\"color:#7E57C2\"><h2 style=\"font-size:16px\">dense_activation (Choice)</h2></span>"
            ],
            "text/plain": [
              "<IPython.core.display.HTML object>"
            ]
          },
          "metadata": {
            "tags": []
          }
        },
        {
          "output_type": "display_data",
          "data": {
            "text/html": [
              "<span style=\"color:cyan\"> |-default: relu</span>"
            ],
            "text/plain": [
              "<IPython.core.display.HTML object>"
            ]
          },
          "metadata": {
            "tags": []
          }
        },
        {
          "output_type": "display_data",
          "data": {
            "text/html": [
              "<span style=\"color:blue\"> |-ordered: False</span>"
            ],
            "text/plain": [
              "<IPython.core.display.HTML object>"
            ]
          },
          "metadata": {
            "tags": []
          }
        },
        {
          "output_type": "display_data",
          "data": {
            "text/html": [
              "<span style=\"color:cyan\"> |-values: ['relu', 'tanh', 'sigmoid']</span>"
            ],
            "text/plain": [
              "<IPython.core.display.HTML object>"
            ]
          },
          "metadata": {
            "tags": []
          }
        },
        {
          "output_type": "display_data",
          "data": {
            "text/html": [
              "<span style=\"color:#7E57C2\"><h2 style=\"font-size:16px\">dropout_1 (Float)</h2></span>"
            ],
            "text/plain": [
              "<IPython.core.display.HTML object>"
            ]
          },
          "metadata": {
            "tags": []
          }
        },
        {
          "output_type": "display_data",
          "data": {
            "text/html": [
              "<span style=\"color:cyan\"> |-default: 0.5</span>"
            ],
            "text/plain": [
              "<IPython.core.display.HTML object>"
            ]
          },
          "metadata": {
            "tags": []
          }
        },
        {
          "output_type": "display_data",
          "data": {
            "text/html": [
              "<span style=\"color:blue\"> |-max_value: 0.5</span>"
            ],
            "text/plain": [
              "<IPython.core.display.HTML object>"
            ]
          },
          "metadata": {
            "tags": []
          }
        },
        {
          "output_type": "display_data",
          "data": {
            "text/html": [
              "<span style=\"color:cyan\"> |-min_value: 0.0</span>"
            ],
            "text/plain": [
              "<IPython.core.display.HTML object>"
            ]
          },
          "metadata": {
            "tags": []
          }
        },
        {
          "output_type": "display_data",
          "data": {
            "text/html": [
              "<span style=\"color:blue\"> |-sampling: None</span>"
            ],
            "text/plain": [
              "<IPython.core.display.HTML object>"
            ]
          },
          "metadata": {
            "tags": []
          }
        },
        {
          "output_type": "display_data",
          "data": {
            "text/html": [
              "<span style=\"color:cyan\"> |-step: 0.05</span>"
            ],
            "text/plain": [
              "<IPython.core.display.HTML object>"
            ]
          },
          "metadata": {
            "tags": []
          }
        },
        {
          "output_type": "display_data",
          "data": {
            "text/html": [
              "<span style=\"color:#7E57C2\"><h2 style=\"font-size:16px\">learning_rate (Float)</h2></span>"
            ],
            "text/plain": [
              "<IPython.core.display.HTML object>"
            ]
          },
          "metadata": {
            "tags": []
          }
        },
        {
          "output_type": "display_data",
          "data": {
            "text/html": [
              "<span style=\"color:cyan\"> |-default: 0.0001</span>"
            ],
            "text/plain": [
              "<IPython.core.display.HTML object>"
            ]
          },
          "metadata": {
            "tags": []
          }
        },
        {
          "output_type": "display_data",
          "data": {
            "text/html": [
              "<span style=\"color:blue\"> |-max_value: 0.001</span>"
            ],
            "text/plain": [
              "<IPython.core.display.HTML object>"
            ]
          },
          "metadata": {
            "tags": []
          }
        },
        {
          "output_type": "display_data",
          "data": {
            "text/html": [
              "<span style=\"color:cyan\"> |-min_value: 1e-05</span>"
            ],
            "text/plain": [
              "<IPython.core.display.HTML object>"
            ]
          },
          "metadata": {
            "tags": []
          }
        },
        {
          "output_type": "display_data",
          "data": {
            "text/html": [
              "<span style=\"color:blue\"> |-sampling: log</span>"
            ],
            "text/plain": [
              "<IPython.core.display.HTML object>"
            ]
          },
          "metadata": {
            "tags": []
          }
        },
        {
          "output_type": "display_data",
          "data": {
            "text/html": [
              "<span style=\"color:cyan\"> |-step: None</span>"
            ],
            "text/plain": [
              "<IPython.core.display.HTML object>"
            ]
          },
          "metadata": {
            "tags": []
          }
        },
        {
          "output_type": "stream",
          "text": [
            "start tuning\n",
            "WARNING:tensorflow:Unresolved object in checkpoint: (root).optimizer.iter\n",
            "WARNING:tensorflow:Unresolved object in checkpoint: (root).optimizer.beta_1\n",
            "WARNING:tensorflow:Unresolved object in checkpoint: (root).optimizer.beta_2\n",
            "WARNING:tensorflow:Unresolved object in checkpoint: (root).optimizer.decay\n",
            "WARNING:tensorflow:Unresolved object in checkpoint: (root).optimizer.learning_rate\n",
            "WARNING:tensorflow:A checkpoint was restored (e.g. tf.train.Checkpoint.restore or tf.keras.Model.load_weights) but not all checkpointed values were used. See above for specific issues. Use expect_partial() on the load status object, e.g. tf.train.Checkpoint.restore(...).expect_partial(), to silence these warnings, or use assert_consumed() to make the check explicit. See https://www.tensorflow.org/guide/checkpoint#loading_mechanics for details.\n",
            "Epoch 1/10\n",
            "1563/1563 [==============================] - 34s 22ms/step - loss: 1.7898 - accuracy: 0.4077 - val_loss: 4.2375 - val_accuracy: 0.4040\n",
            "Epoch 2/10\n",
            "1563/1563 [==============================] - 34s 22ms/step - loss: 1.3124 - accuracy: 0.5388 - val_loss: 3.2025 - val_accuracy: 0.4769\n",
            "Epoch 3/10\n",
            "1563/1563 [==============================] - 34s 22ms/step - loss: 1.1408 - accuracy: 0.6008 - val_loss: 1.8231 - val_accuracy: 0.5580\n",
            "Epoch 4/10\n",
            "1563/1563 [==============================] - 34s 22ms/step - loss: 1.0315 - accuracy: 0.6415 - val_loss: 1.6176 - val_accuracy: 0.5817\n",
            "Epoch 5/10\n",
            "1563/1563 [==============================] - 34s 22ms/step - loss: 0.9392 - accuracy: 0.6724 - val_loss: 1.3563 - val_accuracy: 0.6265\n",
            "Epoch 6/10\n",
            "1563/1563 [==============================] - 34s 22ms/step - loss: 0.8671 - accuracy: 0.6970 - val_loss: 1.3320 - val_accuracy: 0.6299\n",
            "Epoch 7/10\n",
            "1563/1563 [==============================] - 34s 22ms/step - loss: 0.8070 - accuracy: 0.7203 - val_loss: 1.4006 - val_accuracy: 0.6171\n",
            "Epoch 8/10\n",
            "1563/1563 [==============================] - 34s 22ms/step - loss: 0.7506 - accuracy: 0.7384 - val_loss: 1.1191 - val_accuracy: 0.6741\n",
            "Epoch 9/10\n",
            "1563/1563 [==============================] - 34s 22ms/step - loss: 0.6980 - accuracy: 0.7576 - val_loss: 1.0280 - val_accuracy: 0.7077\n",
            "Epoch 10/10\n",
            "1563/1563 [==============================] - 34s 22ms/step - loss: 0.6491 - accuracy: 0.7741 - val_loss: 0.9615 - val_accuracy: 0.7182\n"
          ],
          "name": "stdout"
        },
        {
          "output_type": "display_data",
          "data": {
            "text/html": [
              "<span style=\"color:#4527A0\"><h1 style=\"font-size:18px\">Trial complete</h1></span>"
            ],
            "text/plain": [
              "<IPython.core.display.HTML object>"
            ]
          },
          "metadata": {
            "tags": []
          }
        },
        {
          "output_type": "display_data",
          "data": {
            "text/html": [
              "<span style=\"color:#4527A0\"><h1 style=\"font-size:18px\">Trial summary</h1></span>"
            ],
            "text/plain": [
              "<IPython.core.display.HTML object>"
            ]
          },
          "metadata": {
            "tags": []
          }
        },
        {
          "output_type": "display_data",
          "data": {
            "text/html": [
              "<span style=\"color:cyan\"> |-Trial ID: 13071892cf1f963f1e2bf21cabd84b82</span>"
            ],
            "text/plain": [
              "<IPython.core.display.HTML object>"
            ]
          },
          "metadata": {
            "tags": []
          }
        },
        {
          "output_type": "display_data",
          "data": {
            "text/html": [
              "<span style=\"color:cyan\"> |-Score: 0.7182000279426575</span>"
            ],
            "text/plain": [
              "<IPython.core.display.HTML object>"
            ]
          },
          "metadata": {
            "tags": []
          }
        },
        {
          "output_type": "display_data",
          "data": {
            "text/html": [
              "<span style=\"color:cyan\"> |-Best step: 0</span>"
            ],
            "text/plain": [
              "<IPython.core.display.HTML object>"
            ]
          },
          "metadata": {
            "tags": []
          }
        },
        {
          "output_type": "display_data",
          "data": {
            "text/html": [
              "<span style=\"color:#7E57C2\"><h2 style=\"font-size:16px\">Hyperparameters:</h2></span>"
            ],
            "text/plain": [
              "<IPython.core.display.HTML object>"
            ]
          },
          "metadata": {
            "tags": []
          }
        },
        {
          "output_type": "display_data",
          "data": {
            "text/html": [
              "<span style=\"color:cyan\"> |-cnn_activation: relu</span>"
            ],
            "text/plain": [
              "<IPython.core.display.HTML object>"
            ]
          },
          "metadata": {
            "tags": []
          }
        },
        {
          "output_type": "display_data",
          "data": {
            "text/html": [
              "<span style=\"color:blue\"> |-dense_activation: sigmoid</span>"
            ],
            "text/plain": [
              "<IPython.core.display.HTML object>"
            ]
          },
          "metadata": {
            "tags": []
          }
        },
        {
          "output_type": "display_data",
          "data": {
            "text/html": [
              "<span style=\"color:cyan\"> |-dropout_1: 0.4</span>"
            ],
            "text/plain": [
              "<IPython.core.display.HTML object>"
            ]
          },
          "metadata": {
            "tags": []
          }
        },
        {
          "output_type": "display_data",
          "data": {
            "text/html": [
              "<span style=\"color:blue\"> |-learning_rate: 4.442889681244208e-05</span>"
            ],
            "text/plain": [
              "<IPython.core.display.HTML object>"
            ]
          },
          "metadata": {
            "tags": []
          }
        },
        {
          "output_type": "display_data",
          "data": {
            "text/html": [
              "<span style=\"color:cyan\"> |-num_filters: 128</span>"
            ],
            "text/plain": [
              "<IPython.core.display.HTML object>"
            ]
          },
          "metadata": {
            "tags": []
          }
        },
        {
          "output_type": "display_data",
          "data": {
            "text/html": [
              "<span style=\"color:blue\"> |-padding: same</span>"
            ],
            "text/plain": [
              "<IPython.core.display.HTML object>"
            ]
          },
          "metadata": {
            "tags": []
          }
        },
        {
          "output_type": "display_data",
          "data": {
            "text/html": [
              "<span style=\"color:cyan\"> |-units: 224</span>"
            ],
            "text/plain": [
              "<IPython.core.display.HTML object>"
            ]
          },
          "metadata": {
            "tags": []
          }
        },
        {
          "output_type": "stream",
          "text": [
            "Epoch 1/10\n",
            "1563/1563 [==============================] - 41s 26ms/step - loss: 1.2886 - accuracy: 0.5508 - val_loss: 1.0610 - val_accuracy: 0.6266\n",
            "Epoch 2/10\n",
            "1563/1563 [==============================] - 40s 26ms/step - loss: 0.8944 - accuracy: 0.6871 - val_loss: 0.9986 - val_accuracy: 0.6572\n",
            "Epoch 3/10\n",
            "1563/1563 [==============================] - 41s 26ms/step - loss: 0.7462 - accuracy: 0.7395 - val_loss: 0.8872 - val_accuracy: 0.6968\n",
            "Epoch 4/10\n",
            "1563/1563 [==============================] - 41s 26ms/step - loss: 0.6429 - accuracy: 0.7749 - val_loss: 0.7608 - val_accuracy: 0.7434\n",
            "Epoch 5/10\n",
            "1563/1563 [==============================] - 40s 26ms/step - loss: 0.5596 - accuracy: 0.8062 - val_loss: 0.8206 - val_accuracy: 0.7258\n",
            "Epoch 6/10\n",
            "1563/1563 [==============================] - 40s 26ms/step - loss: 0.4967 - accuracy: 0.8262 - val_loss: 0.8431 - val_accuracy: 0.7284\n",
            "Epoch 7/10\n",
            "1563/1563 [==============================] - 41s 26ms/step - loss: 0.4007 - accuracy: 0.8593 - val_loss: 0.7351 - val_accuracy: 0.7573\n",
            "Epoch 8/10\n",
            "1563/1563 [==============================] - 40s 26ms/step - loss: 0.3427 - accuracy: 0.8808 - val_loss: 0.7887 - val_accuracy: 0.7635\n",
            "Epoch 9/10\n",
            "1563/1563 [==============================] - 40s 25ms/step - loss: 0.3010 - accuracy: 0.8961 - val_loss: 0.8552 - val_accuracy: 0.7471\n",
            "Epoch 10/10\n",
            "1563/1563 [==============================] - 40s 25ms/step - loss: 0.2652 - accuracy: 0.9058 - val_loss: 1.2270 - val_accuracy: 0.6796\n"
          ],
          "name": "stdout"
        },
        {
          "output_type": "display_data",
          "data": {
            "text/html": [
              "<span style=\"color:#4527A0\"><h1 style=\"font-size:18px\">Trial complete</h1></span>"
            ],
            "text/plain": [
              "<IPython.core.display.HTML object>"
            ]
          },
          "metadata": {
            "tags": []
          }
        },
        {
          "output_type": "display_data",
          "data": {
            "text/html": [
              "<span style=\"color:#4527A0\"><h1 style=\"font-size:18px\">Trial summary</h1></span>"
            ],
            "text/plain": [
              "<IPython.core.display.HTML object>"
            ]
          },
          "metadata": {
            "tags": []
          }
        },
        {
          "output_type": "display_data",
          "data": {
            "text/html": [
              "<span style=\"color:cyan\"> |-Trial ID: a7df3b9945edea81f8d093c05381958f</span>"
            ],
            "text/plain": [
              "<IPython.core.display.HTML object>"
            ]
          },
          "metadata": {
            "tags": []
          }
        },
        {
          "output_type": "display_data",
          "data": {
            "text/html": [
              "<span style=\"color:cyan\"> |-Score: 0.7634999752044678</span>"
            ],
            "text/plain": [
              "<IPython.core.display.HTML object>"
            ]
          },
          "metadata": {
            "tags": []
          }
        },
        {
          "output_type": "display_data",
          "data": {
            "text/html": [
              "<span style=\"color:cyan\"> |-Best step: 0</span>"
            ],
            "text/plain": [
              "<IPython.core.display.HTML object>"
            ]
          },
          "metadata": {
            "tags": []
          }
        },
        {
          "output_type": "display_data",
          "data": {
            "text/html": [
              "<span style=\"color:#7E57C2\"><h2 style=\"font-size:16px\">Hyperparameters:</h2></span>"
            ],
            "text/plain": [
              "<IPython.core.display.HTML object>"
            ]
          },
          "metadata": {
            "tags": []
          }
        },
        {
          "output_type": "display_data",
          "data": {
            "text/html": [
              "<span style=\"color:cyan\"> |-cnn_activation: tanh</span>"
            ],
            "text/plain": [
              "<IPython.core.display.HTML object>"
            ]
          },
          "metadata": {
            "tags": []
          }
        },
        {
          "output_type": "display_data",
          "data": {
            "text/html": [
              "<span style=\"color:blue\"> |-dense_activation: relu</span>"
            ],
            "text/plain": [
              "<IPython.core.display.HTML object>"
            ]
          },
          "metadata": {
            "tags": []
          }
        },
        {
          "output_type": "display_data",
          "data": {
            "text/html": [
              "<span style=\"color:cyan\"> |-dropout_1: 0.0</span>"
            ],
            "text/plain": [
              "<IPython.core.display.HTML object>"
            ]
          },
          "metadata": {
            "tags": []
          }
        },
        {
          "output_type": "display_data",
          "data": {
            "text/html": [
              "<span style=\"color:blue\"> |-learning_rate: 0.001</span>"
            ],
            "text/plain": [
              "<IPython.core.display.HTML object>"
            ]
          },
          "metadata": {
            "tags": []
          }
        },
        {
          "output_type": "display_data",
          "data": {
            "text/html": [
              "<span style=\"color:cyan\"> |-num_filters: 162</span>"
            ],
            "text/plain": [
              "<IPython.core.display.HTML object>"
            ]
          },
          "metadata": {
            "tags": []
          }
        },
        {
          "output_type": "display_data",
          "data": {
            "text/html": [
              "<span style=\"color:blue\"> |-padding: valid</span>"
            ],
            "text/plain": [
              "<IPython.core.display.HTML object>"
            ]
          },
          "metadata": {
            "tags": []
          }
        },
        {
          "output_type": "display_data",
          "data": {
            "text/html": [
              "<span style=\"color:cyan\"> |-units: 512</span>"
            ],
            "text/plain": [
              "<IPython.core.display.HTML object>"
            ]
          },
          "metadata": {
            "tags": []
          }
        },
        {
          "output_type": "stream",
          "text": [
            "INFO:tensorflow:Oracle triggered exit\n"
          ],
          "name": "stdout"
        },
        {
          "output_type": "display_data",
          "data": {
            "text/html": [
              "<span style=\"color:#4527A0\"><h1 style=\"font-size:18px\">Results summary</h1></span>"
            ],
            "text/plain": [
              "<IPython.core.display.HTML object>"
            ]
          },
          "metadata": {
            "tags": []
          }
        },
        {
          "output_type": "display_data",
          "data": {
            "text/html": [
              "<span style=\"color:cyan\"> |-Results in /content/drive/My Drive/Cifar-10_bayesian/simple_cnn_tuning</span>"
            ],
            "text/plain": [
              "<IPython.core.display.HTML object>"
            ]
          },
          "metadata": {
            "tags": []
          }
        },
        {
          "output_type": "display_data",
          "data": {
            "text/html": [
              "<span style=\"color:cyan\"> |-Showing 10 best trials</span>"
            ],
            "text/plain": [
              "<IPython.core.display.HTML object>"
            ]
          },
          "metadata": {
            "tags": []
          }
        },
        {
          "output_type": "display_data",
          "data": {
            "text/html": [
              "<span style=\"color:cyan\"> |-Objective(name='val_accuracy', direction='max')</span>"
            ],
            "text/plain": [
              "<IPython.core.display.HTML object>"
            ]
          },
          "metadata": {
            "tags": []
          }
        },
        {
          "output_type": "display_data",
          "data": {
            "text/html": [
              "<span style=\"color:#4527A0\"><h1 style=\"font-size:18px\">Trial summary</h1></span>"
            ],
            "text/plain": [
              "<IPython.core.display.HTML object>"
            ]
          },
          "metadata": {
            "tags": []
          }
        },
        {
          "output_type": "display_data",
          "data": {
            "text/html": [
              "<span style=\"color:cyan\"> |-Trial ID: a7df3b9945edea81f8d093c05381958f</span>"
            ],
            "text/plain": [
              "<IPython.core.display.HTML object>"
            ]
          },
          "metadata": {
            "tags": []
          }
        },
        {
          "output_type": "display_data",
          "data": {
            "text/html": [
              "<span style=\"color:cyan\"> |-Score: 0.7634999752044678</span>"
            ],
            "text/plain": [
              "<IPython.core.display.HTML object>"
            ]
          },
          "metadata": {
            "tags": []
          }
        },
        {
          "output_type": "display_data",
          "data": {
            "text/html": [
              "<span style=\"color:cyan\"> |-Best step: 0</span>"
            ],
            "text/plain": [
              "<IPython.core.display.HTML object>"
            ]
          },
          "metadata": {
            "tags": []
          }
        },
        {
          "output_type": "display_data",
          "data": {
            "text/html": [
              "<span style=\"color:#7E57C2\"><h2 style=\"font-size:16px\">Hyperparameters:</h2></span>"
            ],
            "text/plain": [
              "<IPython.core.display.HTML object>"
            ]
          },
          "metadata": {
            "tags": []
          }
        },
        {
          "output_type": "display_data",
          "data": {
            "text/html": [
              "<span style=\"color:cyan\"> |-cnn_activation: tanh</span>"
            ],
            "text/plain": [
              "<IPython.core.display.HTML object>"
            ]
          },
          "metadata": {
            "tags": []
          }
        },
        {
          "output_type": "display_data",
          "data": {
            "text/html": [
              "<span style=\"color:blue\"> |-dense_activation: relu</span>"
            ],
            "text/plain": [
              "<IPython.core.display.HTML object>"
            ]
          },
          "metadata": {
            "tags": []
          }
        },
        {
          "output_type": "display_data",
          "data": {
            "text/html": [
              "<span style=\"color:cyan\"> |-dropout_1: 0.0</span>"
            ],
            "text/plain": [
              "<IPython.core.display.HTML object>"
            ]
          },
          "metadata": {
            "tags": []
          }
        },
        {
          "output_type": "display_data",
          "data": {
            "text/html": [
              "<span style=\"color:blue\"> |-learning_rate: 0.001</span>"
            ],
            "text/plain": [
              "<IPython.core.display.HTML object>"
            ]
          },
          "metadata": {
            "tags": []
          }
        },
        {
          "output_type": "display_data",
          "data": {
            "text/html": [
              "<span style=\"color:cyan\"> |-num_filters: 162</span>"
            ],
            "text/plain": [
              "<IPython.core.display.HTML object>"
            ]
          },
          "metadata": {
            "tags": []
          }
        },
        {
          "output_type": "display_data",
          "data": {
            "text/html": [
              "<span style=\"color:blue\"> |-padding: valid</span>"
            ],
            "text/plain": [
              "<IPython.core.display.HTML object>"
            ]
          },
          "metadata": {
            "tags": []
          }
        },
        {
          "output_type": "display_data",
          "data": {
            "text/html": [
              "<span style=\"color:cyan\"> |-units: 512</span>"
            ],
            "text/plain": [
              "<IPython.core.display.HTML object>"
            ]
          },
          "metadata": {
            "tags": []
          }
        },
        {
          "output_type": "display_data",
          "data": {
            "text/html": [
              "<span style=\"color:#4527A0\"><h1 style=\"font-size:18px\">Trial summary</h1></span>"
            ],
            "text/plain": [
              "<IPython.core.display.HTML object>"
            ]
          },
          "metadata": {
            "tags": []
          }
        },
        {
          "output_type": "display_data",
          "data": {
            "text/html": [
              "<span style=\"color:cyan\"> |-Trial ID: 13071892cf1f963f1e2bf21cabd84b82</span>"
            ],
            "text/plain": [
              "<IPython.core.display.HTML object>"
            ]
          },
          "metadata": {
            "tags": []
          }
        },
        {
          "output_type": "display_data",
          "data": {
            "text/html": [
              "<span style=\"color:cyan\"> |-Score: 0.7182000279426575</span>"
            ],
            "text/plain": [
              "<IPython.core.display.HTML object>"
            ]
          },
          "metadata": {
            "tags": []
          }
        },
        {
          "output_type": "display_data",
          "data": {
            "text/html": [
              "<span style=\"color:cyan\"> |-Best step: 0</span>"
            ],
            "text/plain": [
              "<IPython.core.display.HTML object>"
            ]
          },
          "metadata": {
            "tags": []
          }
        },
        {
          "output_type": "display_data",
          "data": {
            "text/html": [
              "<span style=\"color:#7E57C2\"><h2 style=\"font-size:16px\">Hyperparameters:</h2></span>"
            ],
            "text/plain": [
              "<IPython.core.display.HTML object>"
            ]
          },
          "metadata": {
            "tags": []
          }
        },
        {
          "output_type": "display_data",
          "data": {
            "text/html": [
              "<span style=\"color:cyan\"> |-cnn_activation: relu</span>"
            ],
            "text/plain": [
              "<IPython.core.display.HTML object>"
            ]
          },
          "metadata": {
            "tags": []
          }
        },
        {
          "output_type": "display_data",
          "data": {
            "text/html": [
              "<span style=\"color:blue\"> |-dense_activation: sigmoid</span>"
            ],
            "text/plain": [
              "<IPython.core.display.HTML object>"
            ]
          },
          "metadata": {
            "tags": []
          }
        },
        {
          "output_type": "display_data",
          "data": {
            "text/html": [
              "<span style=\"color:cyan\"> |-dropout_1: 0.4</span>"
            ],
            "text/plain": [
              "<IPython.core.display.HTML object>"
            ]
          },
          "metadata": {
            "tags": []
          }
        },
        {
          "output_type": "display_data",
          "data": {
            "text/html": [
              "<span style=\"color:blue\"> |-learning_rate: 4.442889681244208e-05</span>"
            ],
            "text/plain": [
              "<IPython.core.display.HTML object>"
            ]
          },
          "metadata": {
            "tags": []
          }
        },
        {
          "output_type": "display_data",
          "data": {
            "text/html": [
              "<span style=\"color:cyan\"> |-num_filters: 128</span>"
            ],
            "text/plain": [
              "<IPython.core.display.HTML object>"
            ]
          },
          "metadata": {
            "tags": []
          }
        },
        {
          "output_type": "display_data",
          "data": {
            "text/html": [
              "<span style=\"color:blue\"> |-padding: same</span>"
            ],
            "text/plain": [
              "<IPython.core.display.HTML object>"
            ]
          },
          "metadata": {
            "tags": []
          }
        },
        {
          "output_type": "display_data",
          "data": {
            "text/html": [
              "<span style=\"color:cyan\"> |-units: 224</span>"
            ],
            "text/plain": [
              "<IPython.core.display.HTML object>"
            ]
          },
          "metadata": {
            "tags": []
          }
        },
        {
          "output_type": "stream",
          "text": [
            "313/313 [==============================] - 2s 8ms/step - loss: 0.7887 - accuracy: 0.7635\n",
            "Elapsed time =  -747.1259 s, accuracy = 0.7634999752044678, loss = 0.7886634469032288\n",
            "[[-0.0019321441650390625, 0.6839138865470886, 0.7904999852180481], [-6083.332864522934, 0.6259064078330994, 0.8027999997138977], [-747.1258900165558, 0.7886634469032288, 0.7634999752044678]]\n"
          ],
          "name": "stdout"
        }
      ]
    },
    {
      "cell_type": "markdown",
      "metadata": {
        "id": "ZW36sP_PhGYJ",
        "colab_type": "text"
      },
      "source": [
        "I had only done 10 epochs for getting good parameters as it was taking long time for more epochs so thats why i had taken only 10 by this also we can get good hyperparameter and from that we can build our model see the code below we can get this by using (get_best_hyperparameters) function "
      ]
    },
    {
      "cell_type": "code",
      "metadata": {
        "id": "ZJqdinUBvYQZ",
        "colab_type": "code",
        "colab": {
          "base_uri": "https://localhost:8080/",
          "height": 238
        },
        "outputId": "a54447cf-6313-4307-e48d-c9dc185cf137"
      },
      "source": [
        "hypermodel = CNNHyperModel(input_shape=(32,32,3), num_classes=10)\n",
        "\n",
        "output_dir = (\"/content/drive/My Drive/Cifar-10\")\n",
        "tuners = tuners(hypermodel, directory=output_dir, project_name=\"simple_cnn_tuning\")\n",
        "\n",
        "for tuner in tuners:\n",
        "  best_model = tuner.get_best_hyperparameters(num_trials = 1)[0]\n",
        "  model_2 = tuner.hypermodel.build(best_model)"
      ],
      "execution_count": 34,
      "outputs": [
        {
          "output_type": "stream",
          "text": [
            "INFO:tensorflow:Reloading Oracle from existing project /content/drive/My Drive/Cifar-10_randomsearch/simple_cnn_tuning/oracle.json\n",
            "INFO:tensorflow:Reloading Tuner from /content/drive/My Drive/Cifar-10_randomsearch/simple_cnn_tuning/tuner0.json\n",
            "INFO:tensorflow:Reloading Oracle from existing project /content/drive/My Drive/Cifar-10_hyperband_tuner/simple_cnn_tuning/oracle.json\n",
            "INFO:tensorflow:Reloading Tuner from /content/drive/My Drive/Cifar-10_hyperband_tuner/simple_cnn_tuning/tuner0.json\n",
            "INFO:tensorflow:Reloading Oracle from existing project /content/drive/My Drive/Cifar-10_bayesian/simple_cnn_tuning/oracle.json\n",
            "INFO:tensorflow:Reloading Tuner from /content/drive/My Drive/Cifar-10_bayesian/simple_cnn_tuning/tuner0.json\n",
            "WARNING:tensorflow:Unresolved object in checkpoint: (root).optimizer.iter\n",
            "WARNING:tensorflow:Unresolved object in checkpoint: (root).optimizer.beta_1\n",
            "WARNING:tensorflow:Unresolved object in checkpoint: (root).optimizer.beta_2\n",
            "WARNING:tensorflow:Unresolved object in checkpoint: (root).optimizer.decay\n",
            "WARNING:tensorflow:Unresolved object in checkpoint: (root).optimizer.learning_rate\n",
            "WARNING:tensorflow:A checkpoint was restored (e.g. tf.train.Checkpoint.restore or tf.keras.Model.load_weights) but not all checkpointed values were used. See above for specific issues. Use expect_partial() on the load status object, e.g. tf.train.Checkpoint.restore(...).expect_partial(), to silence these warnings, or use assert_consumed() to make the check explicit. See https://www.tensorflow.org/guide/checkpoint#loading_mechanics for details.\n"
          ],
          "name": "stdout"
        }
      ]
    },
    {
      "cell_type": "code",
      "metadata": {
        "id": "MfgQLlAkglss",
        "colab_type": "code",
        "colab": {
          "base_uri": "https://localhost:8080/",
          "height": 1000
        },
        "outputId": "22357640-93a7-4030-d9bb-0712812c00d6"
      },
      "source": [
        "history_2=model_2.fit_generator(datagen.flow(x_train, y_train, batch_size=128),\n",
        "                    steps_per_epoch = len(x_train) / 128, epochs=100, validation_data=(x_test, y_test))"
      ],
      "execution_count": 35,
      "outputs": [
        {
          "output_type": "stream",
          "text": [
            "WARNING:tensorflow:From <ipython-input-35-6b6cf05926eb>:2: Model.fit_generator (from tensorflow.python.keras.engine.training) is deprecated and will be removed in a future version.\n",
            "Instructions for updating:\n",
            "Please use Model.fit, which supports generators.\n",
            "Epoch 1/100\n",
            "391/390 [==============================] - 36s 91ms/step - loss: 1.3792 - accuracy: 0.5149 - val_loss: 2.1840 - val_accuracy: 0.3320\n",
            "Epoch 2/100\n",
            "391/390 [==============================] - 35s 90ms/step - loss: 1.0246 - accuracy: 0.6370 - val_loss: 0.9191 - val_accuracy: 0.6878\n",
            "Epoch 3/100\n",
            "391/390 [==============================] - 35s 90ms/step - loss: 0.8932 - accuracy: 0.6862 - val_loss: 0.9036 - val_accuracy: 0.6929\n",
            "Epoch 4/100\n",
            "391/390 [==============================] - 35s 90ms/step - loss: 0.8077 - accuracy: 0.7152 - val_loss: 0.7652 - val_accuracy: 0.7333\n",
            "Epoch 5/100\n",
            "391/390 [==============================] - 35s 90ms/step - loss: 0.7440 - accuracy: 0.7391 - val_loss: 0.8056 - val_accuracy: 0.7236\n",
            "Epoch 6/100\n",
            "391/390 [==============================] - 36s 92ms/step - loss: 0.6986 - accuracy: 0.7544 - val_loss: 0.7925 - val_accuracy: 0.7361\n",
            "Epoch 7/100\n",
            "391/390 [==============================] - 36s 91ms/step - loss: 0.6576 - accuracy: 0.7684 - val_loss: 0.7651 - val_accuracy: 0.7496\n",
            "Epoch 8/100\n",
            "391/390 [==============================] - 36s 91ms/step - loss: 0.6273 - accuracy: 0.7792 - val_loss: 0.7433 - val_accuracy: 0.7558\n",
            "Epoch 9/100\n",
            "391/390 [==============================] - 36s 91ms/step - loss: 0.5994 - accuracy: 0.7886 - val_loss: 0.8839 - val_accuracy: 0.7209\n",
            "Epoch 10/100\n",
            "391/390 [==============================] - 36s 91ms/step - loss: 0.5787 - accuracy: 0.7967 - val_loss: 0.8837 - val_accuracy: 0.7250\n",
            "Epoch 11/100\n",
            "391/390 [==============================] - 36s 91ms/step - loss: 0.5556 - accuracy: 0.8056 - val_loss: 0.6374 - val_accuracy: 0.7892\n",
            "Epoch 12/100\n",
            "391/390 [==============================] - 36s 91ms/step - loss: 0.5338 - accuracy: 0.8143 - val_loss: 0.7252 - val_accuracy: 0.7668\n",
            "Epoch 13/100\n",
            "391/390 [==============================] - 36s 92ms/step - loss: 0.5158 - accuracy: 0.8166 - val_loss: 0.6772 - val_accuracy: 0.7829\n",
            "Epoch 14/100\n",
            "391/390 [==============================] - 36s 92ms/step - loss: 0.5106 - accuracy: 0.8220 - val_loss: 0.6284 - val_accuracy: 0.7949\n",
            "Epoch 15/100\n",
            "391/390 [==============================] - 36s 92ms/step - loss: 0.4864 - accuracy: 0.8286 - val_loss: 0.6265 - val_accuracy: 0.7936\n",
            "Epoch 16/100\n",
            "391/390 [==============================] - 36s 91ms/step - loss: 0.4731 - accuracy: 0.8316 - val_loss: 0.6878 - val_accuracy: 0.7797\n",
            "Epoch 17/100\n",
            "391/390 [==============================] - 36s 91ms/step - loss: 0.4610 - accuracy: 0.8382 - val_loss: 0.5772 - val_accuracy: 0.8091\n",
            "Epoch 18/100\n",
            "391/390 [==============================] - 36s 92ms/step - loss: 0.4447 - accuracy: 0.8432 - val_loss: 0.5701 - val_accuracy: 0.8147\n",
            "Epoch 19/100\n",
            "391/390 [==============================] - 36s 91ms/step - loss: 0.4385 - accuracy: 0.8442 - val_loss: 0.6756 - val_accuracy: 0.7862\n",
            "Epoch 20/100\n",
            "391/390 [==============================] - 36s 91ms/step - loss: 0.4248 - accuracy: 0.8529 - val_loss: 0.6708 - val_accuracy: 0.7861\n",
            "Epoch 21/100\n",
            "391/390 [==============================] - 36s 91ms/step - loss: 0.4141 - accuracy: 0.8544 - val_loss: 0.5361 - val_accuracy: 0.8245\n",
            "Epoch 22/100\n",
            "391/390 [==============================] - 36s 91ms/step - loss: 0.4055 - accuracy: 0.8569 - val_loss: 0.5262 - val_accuracy: 0.8257\n",
            "Epoch 23/100\n",
            "391/390 [==============================] - 36s 92ms/step - loss: 0.4025 - accuracy: 0.8607 - val_loss: 0.5667 - val_accuracy: 0.8209\n",
            "Epoch 24/100\n",
            "391/390 [==============================] - 36s 92ms/step - loss: 0.4018 - accuracy: 0.8590 - val_loss: 0.7722 - val_accuracy: 0.7657\n",
            "Epoch 25/100\n",
            "391/390 [==============================] - 35s 91ms/step - loss: 0.3814 - accuracy: 0.8659 - val_loss: 0.6796 - val_accuracy: 0.7951\n",
            "Epoch 26/100\n",
            "391/390 [==============================] - 36s 91ms/step - loss: 0.3652 - accuracy: 0.8721 - val_loss: 0.5407 - val_accuracy: 0.8352\n",
            "Epoch 27/100\n",
            "391/390 [==============================] - 35s 91ms/step - loss: 0.3634 - accuracy: 0.8717 - val_loss: 0.5175 - val_accuracy: 0.8307\n",
            "Epoch 28/100\n",
            "391/390 [==============================] - 35s 91ms/step - loss: 0.3600 - accuracy: 0.8728 - val_loss: 0.5993 - val_accuracy: 0.8188\n",
            "Epoch 29/100\n",
            "391/390 [==============================] - 35s 91ms/step - loss: 0.3535 - accuracy: 0.8758 - val_loss: 0.5979 - val_accuracy: 0.8221\n",
            "Epoch 30/100\n",
            "391/390 [==============================] - 35s 90ms/step - loss: 0.3560 - accuracy: 0.8750 - val_loss: 0.5979 - val_accuracy: 0.8174\n",
            "Epoch 31/100\n",
            "391/390 [==============================] - 36s 91ms/step - loss: 0.3362 - accuracy: 0.8813 - val_loss: 0.5092 - val_accuracy: 0.8416\n",
            "Epoch 32/100\n",
            "391/390 [==============================] - 36s 91ms/step - loss: 0.3366 - accuracy: 0.8805 - val_loss: 0.5366 - val_accuracy: 0.8404\n",
            "Epoch 33/100\n",
            "391/390 [==============================] - 36s 91ms/step - loss: 0.3300 - accuracy: 0.8828 - val_loss: 0.7183 - val_accuracy: 0.7929\n",
            "Epoch 34/100\n",
            "391/390 [==============================] - 35s 90ms/step - loss: 0.3223 - accuracy: 0.8868 - val_loss: 0.5468 - val_accuracy: 0.8351\n",
            "Epoch 35/100\n",
            "391/390 [==============================] - 35s 91ms/step - loss: 0.3187 - accuracy: 0.8877 - val_loss: 0.6991 - val_accuracy: 0.8041\n",
            "Epoch 36/100\n",
            "391/390 [==============================] - 35s 91ms/step - loss: 0.3089 - accuracy: 0.8898 - val_loss: 0.5081 - val_accuracy: 0.8455\n",
            "Epoch 37/100\n",
            "391/390 [==============================] - 35s 91ms/step - loss: 0.3061 - accuracy: 0.8913 - val_loss: 0.5361 - val_accuracy: 0.8340\n",
            "Epoch 38/100\n",
            "391/390 [==============================] - 36s 92ms/step - loss: 0.3097 - accuracy: 0.8907 - val_loss: 0.5111 - val_accuracy: 0.8411\n",
            "Epoch 39/100\n",
            "391/390 [==============================] - 36s 91ms/step - loss: 0.2976 - accuracy: 0.8948 - val_loss: 0.4601 - val_accuracy: 0.8592\n",
            "Epoch 40/100\n",
            "391/390 [==============================] - 36s 91ms/step - loss: 0.2974 - accuracy: 0.8950 - val_loss: 0.5517 - val_accuracy: 0.8397\n",
            "Epoch 41/100\n",
            "391/390 [==============================] - 36s 91ms/step - loss: 0.2944 - accuracy: 0.8962 - val_loss: 0.4783 - val_accuracy: 0.8598\n",
            "Epoch 42/100\n",
            "391/390 [==============================] - 36s 91ms/step - loss: 0.2820 - accuracy: 0.9005 - val_loss: 0.5642 - val_accuracy: 0.8375\n",
            "Epoch 43/100\n",
            "391/390 [==============================] - 35s 91ms/step - loss: 0.2834 - accuracy: 0.8983 - val_loss: 0.5482 - val_accuracy: 0.8404\n",
            "Epoch 44/100\n",
            "391/390 [==============================] - 36s 91ms/step - loss: 0.2746 - accuracy: 0.9033 - val_loss: 0.5808 - val_accuracy: 0.8230\n",
            "Epoch 45/100\n",
            "391/390 [==============================] - 35s 91ms/step - loss: 0.2783 - accuracy: 0.9012 - val_loss: 0.4785 - val_accuracy: 0.8560\n",
            "Epoch 46/100\n",
            "391/390 [==============================] - 35s 90ms/step - loss: 0.2795 - accuracy: 0.9004 - val_loss: 0.4959 - val_accuracy: 0.8535\n",
            "Epoch 47/100\n",
            "391/390 [==============================] - 35s 91ms/step - loss: 0.2722 - accuracy: 0.9028 - val_loss: 0.5359 - val_accuracy: 0.8362\n",
            "Epoch 48/100\n",
            "391/390 [==============================] - 35s 91ms/step - loss: 0.2689 - accuracy: 0.9044 - val_loss: 0.6049 - val_accuracy: 0.8313\n",
            "Epoch 49/100\n",
            "391/390 [==============================] - 36s 91ms/step - loss: 0.2642 - accuracy: 0.9058 - val_loss: 0.5787 - val_accuracy: 0.8340\n",
            "Epoch 50/100\n",
            "391/390 [==============================] - 35s 91ms/step - loss: 0.2605 - accuracy: 0.9068 - val_loss: 0.5945 - val_accuracy: 0.8534\n",
            "Epoch 51/100\n",
            "391/390 [==============================] - 36s 91ms/step - loss: 0.2570 - accuracy: 0.9097 - val_loss: 0.5440 - val_accuracy: 0.8460\n",
            "Epoch 52/100\n",
            "391/390 [==============================] - 35s 91ms/step - loss: 0.2553 - accuracy: 0.9097 - val_loss: 0.6050 - val_accuracy: 0.8362\n",
            "Epoch 53/100\n",
            "391/390 [==============================] - 36s 91ms/step - loss: 0.2518 - accuracy: 0.9112 - val_loss: 0.6095 - val_accuracy: 0.8471\n",
            "Epoch 54/100\n",
            "391/390 [==============================] - 36s 91ms/step - loss: 0.2472 - accuracy: 0.9125 - val_loss: 0.7401 - val_accuracy: 0.8146\n",
            "Epoch 55/100\n",
            "391/390 [==============================] - 35s 90ms/step - loss: 0.2478 - accuracy: 0.9117 - val_loss: 0.6733 - val_accuracy: 0.8114\n",
            "Epoch 56/100\n",
            "391/390 [==============================] - 35s 91ms/step - loss: 0.2425 - accuracy: 0.9140 - val_loss: 0.5789 - val_accuracy: 0.8410\n",
            "Epoch 57/100\n",
            "391/390 [==============================] - 35s 91ms/step - loss: 0.2425 - accuracy: 0.9157 - val_loss: 0.5908 - val_accuracy: 0.8380\n",
            "Epoch 58/100\n",
            "391/390 [==============================] - 36s 92ms/step - loss: 0.2391 - accuracy: 0.9145 - val_loss: 0.6341 - val_accuracy: 0.8318\n",
            "Epoch 59/100\n",
            "391/390 [==============================] - 36s 93ms/step - loss: 0.2376 - accuracy: 0.9150 - val_loss: 0.5207 - val_accuracy: 0.8458\n",
            "Epoch 60/100\n",
            "391/390 [==============================] - 36s 91ms/step - loss: 0.2347 - accuracy: 0.9165 - val_loss: 0.5939 - val_accuracy: 0.8368\n",
            "Epoch 61/100\n",
            "391/390 [==============================] - 35s 91ms/step - loss: 0.2303 - accuracy: 0.9175 - val_loss: 0.5617 - val_accuracy: 0.8423\n",
            "Epoch 62/100\n",
            "391/390 [==============================] - 36s 92ms/step - loss: 0.2298 - accuracy: 0.9187 - val_loss: 0.5639 - val_accuracy: 0.8460\n",
            "Epoch 63/100\n",
            "391/390 [==============================] - 36s 91ms/step - loss: 0.2329 - accuracy: 0.9172 - val_loss: 0.5570 - val_accuracy: 0.8541\n",
            "Epoch 64/100\n",
            "391/390 [==============================] - 36s 91ms/step - loss: 0.2292 - accuracy: 0.9190 - val_loss: 0.5826 - val_accuracy: 0.8402\n",
            "Epoch 65/100\n",
            "391/390 [==============================] - 36s 92ms/step - loss: 0.2275 - accuracy: 0.9201 - val_loss: 0.5790 - val_accuracy: 0.8454\n",
            "Epoch 66/100\n",
            "391/390 [==============================] - 36s 91ms/step - loss: 0.2199 - accuracy: 0.9215 - val_loss: 0.5835 - val_accuracy: 0.8410\n",
            "Epoch 67/100\n",
            "391/390 [==============================] - 36s 92ms/step - loss: 0.2241 - accuracy: 0.9200 - val_loss: 0.5094 - val_accuracy: 0.8521\n",
            "Epoch 68/100\n",
            "391/390 [==============================] - 36s 92ms/step - loss: 0.2192 - accuracy: 0.9219 - val_loss: 0.4887 - val_accuracy: 0.8557\n",
            "Epoch 69/100\n",
            "391/390 [==============================] - 36s 92ms/step - loss: 0.2229 - accuracy: 0.9218 - val_loss: 0.5345 - val_accuracy: 0.8579\n",
            "Epoch 70/100\n",
            "391/390 [==============================] - 36s 91ms/step - loss: 0.2143 - accuracy: 0.9242 - val_loss: 0.5169 - val_accuracy: 0.8575\n",
            "Epoch 71/100\n",
            "391/390 [==============================] - 36s 91ms/step - loss: 0.2129 - accuracy: 0.9248 - val_loss: 0.7137 - val_accuracy: 0.8163\n",
            "Epoch 72/100\n",
            "391/390 [==============================] - 36s 91ms/step - loss: 0.2050 - accuracy: 0.9280 - val_loss: 0.5192 - val_accuracy: 0.8543\n",
            "Epoch 73/100\n",
            "391/390 [==============================] - 36s 91ms/step - loss: 0.2051 - accuracy: 0.9276 - val_loss: 0.5950 - val_accuracy: 0.8440\n",
            "Epoch 74/100\n",
            "391/390 [==============================] - 36s 92ms/step - loss: 0.2078 - accuracy: 0.9249 - val_loss: 0.4934 - val_accuracy: 0.8567\n",
            "Epoch 75/100\n",
            "391/390 [==============================] - 36s 92ms/step - loss: 0.2028 - accuracy: 0.9278 - val_loss: 0.5244 - val_accuracy: 0.8609\n",
            "Epoch 76/100\n",
            "391/390 [==============================] - 36s 91ms/step - loss: 0.1990 - accuracy: 0.9297 - val_loss: 0.5589 - val_accuracy: 0.8480\n",
            "Epoch 77/100\n",
            "391/390 [==============================] - 36s 91ms/step - loss: 0.2012 - accuracy: 0.9276 - val_loss: 0.5456 - val_accuracy: 0.8531\n",
            "Epoch 78/100\n",
            "391/390 [==============================] - 36s 92ms/step - loss: 0.1958 - accuracy: 0.9303 - val_loss: 0.5352 - val_accuracy: 0.8551\n",
            "Epoch 79/100\n",
            "391/390 [==============================] - 36s 91ms/step - loss: 0.2031 - accuracy: 0.9276 - val_loss: 0.5557 - val_accuracy: 0.8471\n",
            "Epoch 80/100\n",
            "391/390 [==============================] - 36s 91ms/step - loss: 0.1981 - accuracy: 0.9301 - val_loss: 0.5104 - val_accuracy: 0.8617\n",
            "Epoch 81/100\n",
            "391/390 [==============================] - 36s 91ms/step - loss: 0.1983 - accuracy: 0.9293 - val_loss: 0.4996 - val_accuracy: 0.8645\n",
            "Epoch 82/100\n",
            "391/390 [==============================] - 36s 91ms/step - loss: 0.1906 - accuracy: 0.9326 - val_loss: 0.5112 - val_accuracy: 0.8616\n",
            "Epoch 83/100\n",
            "391/390 [==============================] - 36s 91ms/step - loss: 0.1889 - accuracy: 0.9331 - val_loss: 0.5566 - val_accuracy: 0.8534\n",
            "Epoch 84/100\n",
            "391/390 [==============================] - 36s 91ms/step - loss: 0.1935 - accuracy: 0.9315 - val_loss: 0.5494 - val_accuracy: 0.8559\n",
            "Epoch 85/100\n",
            "391/390 [==============================] - 36s 91ms/step - loss: 0.1905 - accuracy: 0.9316 - val_loss: 0.6078 - val_accuracy: 0.8495\n",
            "Epoch 86/100\n",
            "391/390 [==============================] - 36s 91ms/step - loss: 0.1868 - accuracy: 0.9339 - val_loss: 0.5316 - val_accuracy: 0.8609\n",
            "Epoch 87/100\n",
            "391/390 [==============================] - 36s 91ms/step - loss: 0.1937 - accuracy: 0.9328 - val_loss: 0.6698 - val_accuracy: 0.8285\n",
            "Epoch 88/100\n",
            "391/390 [==============================] - 35s 91ms/step - loss: 0.1835 - accuracy: 0.9344 - val_loss: 0.6625 - val_accuracy: 0.8334\n",
            "Epoch 89/100\n",
            "391/390 [==============================] - 35s 91ms/step - loss: 0.1855 - accuracy: 0.9351 - val_loss: 0.5368 - val_accuracy: 0.8624\n",
            "Epoch 90/100\n",
            "391/390 [==============================] - 35s 91ms/step - loss: 0.1800 - accuracy: 0.9357 - val_loss: 0.5585 - val_accuracy: 0.8502\n",
            "Epoch 91/100\n",
            "391/390 [==============================] - 36s 91ms/step - loss: 0.1853 - accuracy: 0.9349 - val_loss: 0.5528 - val_accuracy: 0.8576\n",
            "Epoch 92/100\n",
            "391/390 [==============================] - 36s 91ms/step - loss: 0.1869 - accuracy: 0.9343 - val_loss: 0.5333 - val_accuracy: 0.8618\n",
            "Epoch 93/100\n",
            "391/390 [==============================] - 36s 92ms/step - loss: 0.1851 - accuracy: 0.9341 - val_loss: 0.7024 - val_accuracy: 0.8344\n",
            "Epoch 94/100\n",
            "391/390 [==============================] - 36s 91ms/step - loss: 0.1800 - accuracy: 0.9363 - val_loss: 0.5208 - val_accuracy: 0.8648\n",
            "Epoch 95/100\n",
            "391/390 [==============================] - 36s 91ms/step - loss: 0.1801 - accuracy: 0.9356 - val_loss: 0.5318 - val_accuracy: 0.8566\n",
            "Epoch 96/100\n",
            "391/390 [==============================] - 36s 91ms/step - loss: 0.1766 - accuracy: 0.9374 - val_loss: 0.5484 - val_accuracy: 0.8583\n",
            "Epoch 97/100\n",
            "391/390 [==============================] - 35s 91ms/step - loss: 0.1750 - accuracy: 0.9377 - val_loss: 0.5583 - val_accuracy: 0.8601\n",
            "Epoch 98/100\n",
            "391/390 [==============================] - 36s 91ms/step - loss: 0.1818 - accuracy: 0.9362 - val_loss: 0.5481 - val_accuracy: 0.8578\n",
            "Epoch 99/100\n",
            "391/390 [==============================] - 36s 91ms/step - loss: 0.1775 - accuracy: 0.9365 - val_loss: 0.5511 - val_accuracy: 0.8591\n",
            "Epoch 100/100\n",
            "391/390 [==============================] - 36s 91ms/step - loss: 0.1710 - accuracy: 0.9391 - val_loss: 0.5224 - val_accuracy: 0.8677\n"
          ],
          "name": "stdout"
        }
      ]
    },
    {
      "cell_type": "markdown",
      "metadata": {
        "id": "e-xzVolSrfzf",
        "colab_type": "text"
      },
      "source": [
        "I had change the model so accuracy will also change i had change the model coz of time purpose in performing tuner so if you will perform with same model as baseline model then for sure you will see the difference in accuracy after performing keras tuner and getting good hyperparameter."
      ]
    },
    {
      "cell_type": "code",
      "metadata": {
        "id": "cc8eUi_RVwkK",
        "colab_type": "code",
        "colab": {
          "base_uri": "https://localhost:8080/",
          "height": 50
        },
        "outputId": "e7de71c2-b69a-4cc7-da55-e26e47812f2d"
      },
      "source": [
        "#training accuracy\n",
        "train_acc_2 = model_2.evaluate(x_train,y_train,batch_size=128)\n",
        "train_acc_2"
      ],
      "execution_count": 36,
      "outputs": [
        {
          "output_type": "stream",
          "text": [
            "391/391 [==============================] - 9s 24ms/step - loss: 0.0744 - accuracy: 0.9734\n"
          ],
          "name": "stdout"
        },
        {
          "output_type": "execute_result",
          "data": {
            "text/plain": [
              "[0.07437843084335327, 0.9734399914741516]"
            ]
          },
          "metadata": {
            "tags": []
          },
          "execution_count": 36
        }
      ]
    },
    {
      "cell_type": "code",
      "metadata": {
        "id": "ew7tIbbnBSvg",
        "colab_type": "code",
        "colab": {
          "base_uri": "https://localhost:8080/",
          "height": 50
        },
        "outputId": "686ca72f-dcfd-45dc-d880-51c1dac33628"
      },
      "source": [
        "#test accuracy\n",
        "test_acc_2 = model_2.evaluate(x_test,y_test,batch_size=128)\n",
        "test_acc_2"
      ],
      "execution_count": 37,
      "outputs": [
        {
          "output_type": "stream",
          "text": [
            "79/79 [==============================] - 2s 25ms/step - loss: 0.5224 - accuracy: 0.8677\n"
          ],
          "name": "stdout"
        },
        {
          "output_type": "execute_result",
          "data": {
            "text/plain": [
              "[0.5223975777626038, 0.8676999807357788]"
            ]
          },
          "metadata": {
            "tags": []
          },
          "execution_count": 37
        }
      ]
    },
    {
      "cell_type": "code",
      "metadata": {
        "id": "AaHs_SDq79uc",
        "colab_type": "code",
        "colab": {
          "base_uri": "https://localhost:8080/",
          "height": 295
        },
        "outputId": "acaa2c90-5219-4946-b10f-98106bbcde3d"
      },
      "source": [
        "plothist(history_2)"
      ],
      "execution_count": 40,
      "outputs": [
        {
          "output_type": "display_data",
          "data": {
            "image/png": "[encoded data removed]",
            "text/plain": [
              "<Figure size 432x288 with 1 Axes>"
            ]
          },
          "metadata": {
            "tags": [],
            "needs_background": "light"
          }
        }
      ]
    }
  ]
}